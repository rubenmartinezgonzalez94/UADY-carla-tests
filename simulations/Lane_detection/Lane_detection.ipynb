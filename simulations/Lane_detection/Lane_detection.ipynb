{
 "cells": [
  {
   "cell_type": "code",
   "id": "a38b4dd0aad5bdc6",
   "metadata": {
    "ExecuteTime": {
     "end_time": "2024-10-23T02:42:43.145359Z",
     "start_time": "2024-10-23T02:42:43.013194Z"
    }
   },
   "source": [
    "import cv2\n",
    "import os\n",
    "import matplotlib.pyplot as plt\n",
    "import time\n",
    "from IPython.display import clear_output, display"
   ],
   "outputs": [],
   "execution_count": 1
  },
  {
   "metadata": {},
   "cell_type": "markdown",
   "source": "Clase para almacenar la información de las imágenes",
   "id": "8b6c100b072ecea4"
  },
  {
   "metadata": {
    "collapsed": true,
    "ExecuteTime": {
     "end_time": "2024-10-23T02:42:43.161080Z",
     "start_time": "2024-10-23T02:42:43.148441Z"
    }
   },
   "cell_type": "code",
   "source": [
    " # '..\\\\parking_sequence\\\\s=camera_front_mirror_d1=4.501_d2=4.499_d3=2.585_d4=2.583_a1=27.795_a2=27.744_a3=125.972_a4=125.993_t=1729649590.26049.jpg',\n",
    "class ImageInfo:\n",
    "    def __init__(self, image_path):\n",
    "        self.image_path = image_path\n",
    "        self.distances, self.angles, self.time = self.get_tags(image_path)\n",
    "\n",
    "    def get_tags(self, image_path):\n",
    "        distances = []\n",
    "        angles = []\n",
    "        time = 0\n",
    "        filename = os.path.basename(image_path)\n",
    "        filename = filename.split('_')\n",
    "        for word in filename:\n",
    "            if word.startswith('d'):\n",
    "                distances.append(float(word[3:]))\n",
    "            if word.startswith('a'):\n",
    "                angles.append(float(word[3:]))\n",
    "            if word.startswith('t'):\n",
    "                time = float(word[2:])\n",
    "\n",
    "        return distances, angles, time"
   ],
   "id": "initial_id",
   "outputs": [],
   "execution_count": 2
  },
  {
   "metadata": {},
   "cell_type": "markdown",
   "source": "cargar las imágenes de un directorio",
   "id": "7f7a6fe4d43f4be6"
  },
  {
   "metadata": {
    "ExecuteTime": {
     "end_time": "2024-10-23T02:42:43.425353Z",
     "start_time": "2024-10-23T02:42:43.410472Z"
    }
   },
   "cell_type": "code",
   "source": [
    "def load_tagged_images(directory):\n",
    "    images = []\n",
    "    for filename in os.listdir(directory):\n",
    "        if filename.endswith(\".jpg\") or filename.endswith(\".png\"):\n",
    "            route = os.path.join(directory, filename)\n",
    "            images.append(ImageInfo(route))\n",
    "    return images\n",
    "\n",
    "images_info = load_tagged_images('..\\\\parking_sequence')"
   ],
   "id": "622ff7d8d08f3207",
   "outputs": [],
   "execution_count": 3
  },
  {
   "metadata": {
    "ExecuteTime": {
     "end_time": "2024-10-23T03:09:23.667469Z",
     "start_time": "2024-10-23T03:09:23.656516Z"
    }
   },
   "cell_type": "code",
   "source": [
    "for image in images_info:\n",
    "    print(image.distances,image.angles,image.time)"
   ],
   "id": "830086bfdcc3fc68",
   "outputs": [
    {
     "name": "stdout",
     "output_type": "stream",
     "text": [
      "[13.655, 13.655, 8.26, 8.26] [8.631, 8.639, 14.398, 14.408] 1729650622.6494455\n",
      "[13.656, 13.656, 8.261, 8.261] [8.645, 8.654, 14.421, 14.43] 1729650622.7136624\n",
      "[13.657, 13.657, 8.263, 8.263] [8.68, 8.688, 14.477, 14.485] 1729650622.8016548\n",
      "[13.658, 13.658, 8.264, 8.265] [8.703, 8.71, 14.513, 14.522] 1729650622.869142\n",
      "[13.658, 13.659, 8.265, 8.265] [8.717, 8.724, 14.536, 14.544] 1729650622.9372764\n",
      "[13.659, 13.659, 8.266, 8.266] [8.73, 8.736, 14.555, 14.563] 1729650623.0219197\n",
      "[13.659, 13.659, 8.266, 8.267] [8.737, 8.744, 14.568, 14.575] 1729650623.1263733\n",
      "[13.657, 13.657, 8.265, 8.265] [8.745, 8.751, 14.58, 14.587] 1729650623.2261791\n",
      "[13.546, 13.546, 8.156, 8.156] [8.872, 8.866, 14.835, 14.83] 1729650623.3315523\n",
      "[13.372, 13.372, 7.985, 7.986] [9.004, 9.0, 15.175, 15.173] 1729650623.4231892\n",
      "[13.163, 13.163, 7.782, 7.782] [9.151, 9.146, 15.585, 15.582] 1729650623.5136142\n",
      "[12.884, 12.885, 7.51, 7.51] [9.351, 9.347, 16.163, 16.163] 1729650623.618725\n",
      "[12.583, 12.583, 7.217, 7.218] [9.579, 9.576, 16.839, 16.841] 1729650623.718232\n",
      "[12.264, 12.264, 6.908, 6.909] [9.834, 9.833, 17.62, 17.624] 1729650623.8169382\n",
      "[11.859, 11.859, 6.517, 6.517] [10.214, 10.201, 18.756, 18.743] 1729650623.9312088\n",
      "[11.547, 11.546, 6.217, 6.217] [10.494, 10.48, 19.697, 19.68] 1729650624.0141385\n",
      "[11.141, 11.141, 5.83, 5.83] [10.876, 10.861, 21.059, 21.041] 1729650624.116076\n",
      "[10.686, 10.686, 5.4, 5.4] [11.34, 11.325, 22.821, 22.802] 1729650624.2263918\n",
      "[10.221, 10.22, 4.965, 4.965] [11.861, 11.845, 24.944, 24.924] 1729650624.3262303\n",
      "[9.751, 9.75, 4.534, 4.534] [12.439, 12.423, 27.503, 27.481] 1729650624.429323\n",
      "[9.277, 9.276, 4.109, 4.109] [13.085, 13.068, 30.633, 30.609] 1729650624.5276568\n",
      "[8.789, 8.788, 3.686, 3.686] [13.818, 13.8, 34.601, 34.576] 1729650624.62358\n",
      "[8.305, 8.304, 3.287, 3.287] [14.635, 14.616, 39.541, 39.513] 1729650624.7225068\n",
      "[7.807, 7.807, 2.909, 2.908] [15.591, 15.571, 46.017, 45.987] 1729650624.8207564\n",
      "[7.288, 7.288, 2.563, 2.562] [16.73, 16.708, 54.731, 54.701] 1729650624.9203556\n",
      "[6.771, 6.771, 2.293, 2.292] [18.052, 18.029, 65.86, 65.833] 1729650625.0213444\n",
      "[6.253, 6.253, 2.129, 2.127] [19.607, 19.582, 79.426, 79.407] 1729650625.1171477\n",
      "[5.704, 5.703, 2.102, 2.1] [21.586, 21.559, 95.363, 95.357] 1729650625.2173162\n",
      "[5.136, 5.135, 2.244, 2.243] [24.113, 24.083, 111.222, 111.229] 1729650625.318173\n",
      "[4.583, 4.582, 2.531, 2.53] [27.242, 27.209, 124.263, 124.278] 1729650625.4160526\n",
      "[4.029, 4.028, 2.936, 2.935] [31.382, 31.345, 134.568, 134.587] 1729650625.515187\n"
     ]
    }
   ],
   "execution_count": 28
  },
  {
   "metadata": {},
   "cell_type": "code",
   "outputs": [],
   "execution_count": null,
   "source": "",
   "id": "bcaa68bd07141c83"
  }
 ],
 "metadata": {
  "kernelspec": {
   "display_name": "Python 3",
   "language": "python",
   "name": "python3"
  },
  "language_info": {
   "codemirror_mode": {
    "name": "ipython",
    "version": 2
   },
   "file_extension": ".py",
   "mimetype": "text/x-python",
   "name": "python",
   "nbconvert_exporter": "python",
   "pygments_lexer": "ipython2",
   "version": "2.7.6"
  }
 },
 "nbformat": 4,
 "nbformat_minor": 5
}
