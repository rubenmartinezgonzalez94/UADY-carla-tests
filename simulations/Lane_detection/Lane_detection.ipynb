{
 "cells": [
  {
   "metadata": {
    "ExecuteTime": {
     "end_time": "2024-10-28T21:54:05.189859Z",
     "start_time": "2024-10-28T21:54:05.075478Z"
    }
   },
   "cell_type": "code",
   "source": [
    "import os\n",
    "import cv2"
   ],
   "id": "61379c990b412829",
   "outputs": [],
   "execution_count": 1
  },
  {
   "metadata": {
    "ExecuteTime": {
     "end_time": "2024-10-28T21:54:06.775677Z",
     "start_time": "2024-10-28T21:54:05.195806Z"
    }
   },
   "cell_type": "code",
   "source": [
    "from parking_position_detection_utils import ImageInfo\n",
    "from parking_position_detection_utils import ImageProcessing"
   ],
   "id": "d9dc63e196fa151d",
   "outputs": [],
   "execution_count": 2
  },
  {
   "metadata": {
    "ExecuteTime": {
     "end_time": "2024-10-28T21:54:06.900736Z",
     "start_time": "2024-10-28T21:54:06.897149Z"
    }
   },
   "cell_type": "code",
   "source": [
    "def draw_centroids_in_image(centroids, intersections, image):\n",
    "    # Dibuja las intersecciones en color azul\n",
    "    for point in intersections:\n",
    "        cv2.circle(image, (int(point[0]), int(point[1])), radius=5, color=(255, 0, 0), thickness=-1)\n",
    "\n",
    "    # Dibuja los centroides en color rojo con una 'x'\n",
    "    for point in centroids:\n",
    "        cv2.drawMarker(image, (int(point[0]), int(point[1])), color=(0, 0, 255), markerType=cv2.MARKER_TILTED_CROSS, markerSize=10, thickness=2)\n",
    "    \n",
    "    return image"
   ],
   "id": "300b918a3fdb9880",
   "outputs": [],
   "execution_count": 3
  },
  {
   "metadata": {
    "ExecuteTime": {
     "end_time": "2024-10-28T21:54:06.910861Z",
     "start_time": "2024-10-28T21:54:06.906677Z"
    }
   },
   "cell_type": "code",
   "source": [
    "def load_tagged_images(directory):\n",
    "    images = []\n",
    "    for filename in os.listdir(directory):\n",
    "        if filename.endswith(\".jpg\") or filename.endswith(\".png\"):\n",
    "            route = os.path.join(directory, filename)\n",
    "            images.append(ImageInfo(route))\n",
    "    return images\n",
    "\n",
    "\n",
    "images_info = load_tagged_images('../parking_sequence')"
   ],
   "id": "e0f13671633fe563",
   "outputs": [],
   "execution_count": 4
  },
  {
   "metadata": {
    "ExecuteTime": {
     "end_time": "2024-10-28T21:54:06.924533Z",
     "start_time": "2024-10-28T21:54:06.921446Z"
    }
   },
   "cell_type": "code",
   "source": [
    "images_info.sort(key=lambda x: x.time, reverse=False)\n",
    "# for image in images_info:\n",
    "#     print(image.distances, image.angles, image.time)"
   ],
   "id": "b86949c223e0fd6a",
   "outputs": [],
   "execution_count": 5
  },
  {
   "metadata": {
    "ExecuteTime": {
     "end_time": "2024-10-28T21:54:07.583116Z",
     "start_time": "2024-10-28T21:54:06.930581Z"
    }
   },
   "cell_type": "code",
   "source": [
    "cv2.namedWindow(\"Lane\", cv2.WINDOW_NORMAL)\n",
    "for i in range(1):  # Repeat 1 time\n",
    "    for idx in range(len(images_info)):\n",
    "        image = cv2.imread(images_info[idx].image_path, cv2.IMREAD_COLOR)\n",
    "        cv2.imshow(\"Lane\", image)\n",
    "        cv2.waitKey(100)\n",
    "cv2.destroyAllWindows()"
   ],
   "id": "eb38f452492a3c0b",
   "outputs": [],
   "execution_count": 6
  },
  {
   "metadata": {
    "ExecuteTime": {
     "end_time": "2024-10-28T21:54:17.369102Z",
     "start_time": "2024-10-28T21:54:07.590589Z"
    }
   },
   "cell_type": "code",
   "source": [
    "cv2.namedWindow(\"Centroids\", cv2.WINDOW_NORMAL)\n",
    "for i in range(1):  # Repeat 1 time\n",
    "    for idx in range(len(images_info)):\n",
    "        \n",
    "        image = cv2.imread(images_info[idx].image_path, cv2.IMREAD_COLOR)\n",
    "        imageGray = cv2.imread(images_info[idx].image_path, cv2.IMREAD_GRAYSCALE)\n",
    "\n",
    "        image_processing = ImageProcessing(imageGray)  # Instantiate the class\n",
    "        centroids, intersections = image_processing.get_vanishing_points()  # Call the method\n",
    "        \n",
    "        image_with_centroids = draw_centroids_in_image(centroids, intersections, image.copy())\n",
    "        \n",
    "        cv2.imshow(\"Centroids\", image_with_centroids)\n",
    "        cv2.waitKey(100)\n",
    "        \n",
    "cv2.destroyAllWindows()"
   ],
   "id": "d96967ebe29583c4",
   "outputs": [],
   "execution_count": 7
  }
 ],
 "metadata": {
  "kernelspec": {
   "display_name": "Python 3",
   "language": "python",
   "name": "python3"
  },
  "language_info": {
   "codemirror_mode": {
    "name": "ipython",
    "version": 2
   },
   "file_extension": ".py",
   "mimetype": "text/x-python",
   "name": "python",
   "nbconvert_exporter": "python",
   "pygments_lexer": "ipython2",
   "version": "2.7.6"
  }
 },
 "nbformat": 4,
 "nbformat_minor": 5
}
