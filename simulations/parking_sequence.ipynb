{
 "cells": [
  {
   "cell_type": "code",
   "id": "initial_id",
   "metadata": {
    "collapsed": true,
    "ExecuteTime": {
     "end_time": "2024-10-23T02:30:54.638272Z",
     "start_time": "2024-10-23T02:30:54.626110Z"
    }
   },
   "source": [
    "from keras.backend import zeros\n",
    "\n",
    "from carla_parking import SimulationParking\n"
   ],
   "outputs": [],
   "execution_count": 8
  },
  {
   "metadata": {
    "ExecuteTime": {
     "end_time": "2024-10-23T02:30:59.844110Z",
     "start_time": "2024-10-23T02:30:54.641631Z"
    }
   },
   "cell_type": "code",
   "source": [
    "import cv2\n",
    "\n",
    "simulation = SimulationParking()\n",
    "simulation.load_world('Town05')"
   ],
   "id": "3cadcc58d1b3caf",
   "outputs": [
    {
     "ename": "RuntimeError",
     "evalue": "time-out of 5000ms while waiting for the simulator, make sure the simulator is ready and connected to localhost:2000",
     "output_type": "error",
     "traceback": [
      "\u001B[1;31m---------------------------------------------------------------------------\u001B[0m",
      "\u001B[1;31mRuntimeError\u001B[0m                              Traceback (most recent call last)",
      "\u001B[1;32m~\\AppData\\Local\\Temp\\ipykernel_2596\\227770784.py\u001B[0m in \u001B[0;36m<module>\u001B[1;34m\u001B[0m\n\u001B[0;32m      1\u001B[0m \u001B[1;32mimport\u001B[0m \u001B[0mcv2\u001B[0m\u001B[1;33m\u001B[0m\u001B[1;33m\u001B[0m\u001B[0m\n\u001B[0;32m      2\u001B[0m \u001B[1;33m\u001B[0m\u001B[0m\n\u001B[1;32m----> 3\u001B[1;33m \u001B[0msimulation\u001B[0m \u001B[1;33m=\u001B[0m \u001B[0mSimulationParking\u001B[0m\u001B[1;33m(\u001B[0m\u001B[1;33m)\u001B[0m\u001B[1;33m\u001B[0m\u001B[1;33m\u001B[0m\u001B[0m\n\u001B[0m\u001B[0;32m      4\u001B[0m \u001B[0msimulation\u001B[0m\u001B[1;33m.\u001B[0m\u001B[0mload_world\u001B[0m\u001B[1;33m(\u001B[0m\u001B[1;34m'Town05'\u001B[0m\u001B[1;33m)\u001B[0m\u001B[1;33m\u001B[0m\u001B[1;33m\u001B[0m\u001B[0m\n",
      "\u001B[1;32mE:\\UADY\\CARLA\\CARLA_Latest\\WindowsNoEditor\\PythonAPI\\examples\\Ruben\\simulations\\carla_parking.py\u001B[0m in \u001B[0;36m__init__\u001B[1;34m(self)\u001B[0m\n\u001B[0;32m     14\u001B[0m     \u001B[1;32mdef\u001B[0m \u001B[0m__init__\u001B[0m\u001B[1;33m(\u001B[0m\u001B[0mself\u001B[0m\u001B[1;33m)\u001B[0m\u001B[1;33m:\u001B[0m\u001B[1;33m\u001B[0m\u001B[1;33m\u001B[0m\u001B[0m\n\u001B[0;32m     15\u001B[0m         \u001B[0mself\u001B[0m\u001B[1;33m.\u001B[0m\u001B[0mclient\u001B[0m \u001B[1;33m=\u001B[0m \u001B[0mcarla\u001B[0m\u001B[1;33m.\u001B[0m\u001B[0mClient\u001B[0m\u001B[1;33m(\u001B[0m\u001B[1;34m'localhost'\u001B[0m\u001B[1;33m,\u001B[0m \u001B[1;36m2000\u001B[0m\u001B[1;33m)\u001B[0m\u001B[1;33m\u001B[0m\u001B[1;33m\u001B[0m\u001B[0m\n\u001B[1;32m---> 16\u001B[1;33m         \u001B[0mself\u001B[0m\u001B[1;33m.\u001B[0m\u001B[0mworld\u001B[0m \u001B[1;33m=\u001B[0m \u001B[0mself\u001B[0m\u001B[1;33m.\u001B[0m\u001B[0mclient\u001B[0m\u001B[1;33m.\u001B[0m\u001B[0mget_world\u001B[0m\u001B[1;33m(\u001B[0m\u001B[1;33m)\u001B[0m\u001B[1;33m\u001B[0m\u001B[1;33m\u001B[0m\u001B[0m\n\u001B[0m\u001B[0;32m     17\u001B[0m         \u001B[0mself\u001B[0m\u001B[1;33m.\u001B[0m\u001B[0mblueprint_library\u001B[0m \u001B[1;33m=\u001B[0m \u001B[0mself\u001B[0m\u001B[1;33m.\u001B[0m\u001B[0mworld\u001B[0m\u001B[1;33m.\u001B[0m\u001B[0mget_blueprint_library\u001B[0m\u001B[1;33m(\u001B[0m\u001B[1;33m)\u001B[0m\u001B[1;33m\u001B[0m\u001B[1;33m\u001B[0m\u001B[0m\n\u001B[0;32m     18\u001B[0m \u001B[1;33m\u001B[0m\u001B[0m\n",
      "\u001B[1;31mRuntimeError\u001B[0m: time-out of 5000ms while waiting for the simulator, make sure the simulator is ready and connected to localhost:2000"
     ]
    }
   ],
   "execution_count": 9
  },
  {
   "metadata": {
    "ExecuteTime": {
     "end_time": "2024-10-23T02:30:59.850073200Z",
     "start_time": "2024-10-23T02:30:22.049252Z"
    }
   },
   "cell_type": "code",
   "source": [
    "\n",
    "initial_location = {\n",
    "    'x': 20,\n",
    "    'y': -30,\n",
    "    'z': 0.5,\n",
    "    'yaw': 180\n",
    "}\n",
    "location_mirror = {\n",
    "    'x': 0.5,\n",
    "    'y': 0.0,\n",
    "    'z': 1.3\n",
    "}\n",
    "vehicle = simulation.init_vehicle('model3', initial_location)\n",
    "simulation.init_spectator()"
   ],
   "id": "cf591ab44739b749",
   "outputs": [],
   "execution_count": 3
  },
  {
   "metadata": {
    "ExecuteTime": {
     "end_time": "2024-10-23T02:30:59.850073200Z",
     "start_time": "2024-10-23T02:30:22.269024Z"
    }
   },
   "cell_type": "code",
   "source": [
    "import time\n",
    "import numpy as np\n",
    "\n",
    "corners_points = [\n",
    "    simulation.get_location_by_coordinates(6, -28.5, 0),\n",
    "    simulation.get_location_by_coordinates(6, -31.5, 0),\n",
    "    simulation.get_location_by_coordinates(11.5, -28.5, 0),\n",
    "    simulation.get_location_by_coordinates(11.5, -31.5, 0)\n",
    "]\n",
    "\n",
    "\n",
    "def my_callback(sensor):\n",
    "    distances = (\n",
    "        np.array([\n",
    "            simulation.calculate_distance_actor_to_location(sensor, point)\n",
    "            for point in corners_points\n",
    "        ]))\n",
    "    angles = (\n",
    "        np.array([\n",
    "            simulation.calculate_angle_actor_to_location(sensor, point)\n",
    "            for point in corners_points\n",
    "        ]))\n",
    "\n",
    "    created = time.time()\n",
    "    tags = f\"s=camera_front_mirror_\"  # Etiqueta inicial\n",
    "\n",
    "    # Añadir distancias en el formato d1, d2, ...\n",
    "    for i, distance in enumerate(distances):\n",
    "        tags += f\"d{i + 1}={round(distance, 3)}_\"\n",
    "\n",
    "    # Añadir ángulos en el formato a1, a2, ...\n",
    "    for i, angle in enumerate(angles):\n",
    "        tags += f\"a{i + 1}={round(angle, 3)}_\"\n",
    "\n",
    "    # Añadir la marca de tiempo\n",
    "    tags += f\"t={created}\"\n",
    "\n",
    "    return tags"
   ],
   "id": "ddb6d240018f1c7b",
   "outputs": [],
   "execution_count": 4
  },
  {
   "metadata": {
    "ExecuteTime": {
     "end_time": "2024-10-23T02:30:59.850073200Z",
     "start_time": "2024-10-23T02:30:22.299636Z"
    }
   },
   "cell_type": "code",
   "source": [
    "image = zeros((1920, 1080, 3))\n",
    "camera = simulation.init_camera(\n",
    "    vehicle, location_mirror, 'rgb', image\n",
    ")"
   ],
   "id": "dfbcc8271a928ea4",
   "outputs": [],
   "execution_count": 5
  },
  {
   "metadata": {
    "ExecuteTime": {
     "end_time": "2024-10-23T02:30:59.850073200Z",
     "start_time": "2024-10-23T02:30:22.377242Z"
    }
   },
   "cell_type": "code",
   "source": "simulation.aplly_control(vehicle, throttle=0.5, steer=0.0, brake=0.0)",
   "id": "e10681d4cfcd2a7b",
   "outputs": [],
   "execution_count": 6
  },
  {
   "metadata": {
    "ExecuteTime": {
     "end_time": "2024-10-23T02:30:59.850073200Z",
     "start_time": "2024-10-23T02:30:22.408151Z"
    }
   },
   "cell_type": "code",
   "source": [
    "simulation.add_camera_listen_capture_images(\n",
    "    camera,\n",
    "    './parking_sequence/',\n",
    "    my_callback\n",
    ")\n",
    "# vehicle.set_autopilot(True)\n",
    "cv2.waitKey(3000)\n",
    "vehicle.destroy()\n",
    "camera.destroy()\n"
   ],
   "id": "8a959e9eda3ea8f",
   "outputs": [
    {
     "data": {
      "text/plain": [
       "True"
      ]
     },
     "execution_count": 7,
     "metadata": {},
     "output_type": "execute_result"
    }
   ],
   "execution_count": 7
  },
  {
   "metadata": {
    "ExecuteTime": {
     "end_time": "2024-10-23T02:30:59.850073200Z",
     "start_time": "2024-10-23T02:30:25.668950Z"
    }
   },
   "cell_type": "code",
   "source": "",
   "id": "c8e1ed50ad72d1f7",
   "outputs": [],
   "execution_count": null
  }
 ],
 "metadata": {
  "kernelspec": {
   "display_name": "Python 3",
   "language": "python",
   "name": "python3"
  },
  "language_info": {
   "codemirror_mode": {
    "name": "ipython",
    "version": 2
   },
   "file_extension": ".py",
   "mimetype": "text/x-python",
   "name": "python",
   "nbconvert_exporter": "python",
   "pygments_lexer": "ipython2",
   "version": "2.7.6"
  }
 },
 "nbformat": 4,
 "nbformat_minor": 5
}
