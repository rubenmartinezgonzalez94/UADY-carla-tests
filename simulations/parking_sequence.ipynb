{
 "cells": [
  {
   "cell_type": "code",
   "id": "initial_id",
   "metadata": {
    "collapsed": true,
    "ExecuteTime": {
     "end_time": "2024-10-22T07:18:46.201330Z",
     "start_time": "2024-10-22T07:18:42.223816Z"
    }
   },
   "source": [
    "from keras.backend import zeros\n",
    "\n",
    "from carla_parking import SimulationParking\n"
   ],
   "outputs": [],
   "execution_count": 1
  },
  {
   "metadata": {
    "ExecuteTime": {
     "end_time": "2024-10-22T07:18:51.475350Z",
     "start_time": "2024-10-22T07:18:46.206851Z"
    }
   },
   "cell_type": "code",
   "source": [
    "import cv2\n",
    "\n",
    "simulation = SimulationParking()\n",
    "simulation.load_world('Town05')"
   ],
   "id": "3cadcc58d1b3caf",
   "outputs": [],
   "execution_count": 2
  },
  {
   "metadata": {
    "ExecuteTime": {
     "end_time": "2024-10-22T07:18:51.835688Z",
     "start_time": "2024-10-22T07:18:51.586539Z"
    }
   },
   "cell_type": "code",
   "source": [
    "\n",
    "initial_location = {\n",
    "    'x': 20,\n",
    "    'y': -30,\n",
    "    'z': 0.5,\n",
    "    'yaw': 180\n",
    "}\n",
    "location_mirror = {\n",
    "    'x': 0.5,\n",
    "    'y': 0.0,\n",
    "    'z': 1.3\n",
    "}\n",
    "vehicle = simulation.init_vehicle('model3', initial_location)\n",
    "simulation.init_spectator()"
   ],
   "id": "cf591ab44739b749",
   "outputs": [],
   "execution_count": 3
  },
  {
   "metadata": {
    "ExecuteTime": {
     "end_time": "2024-10-22T07:18:51.866708Z",
     "start_time": "2024-10-22T07:18:51.854147Z"
    }
   },
   "cell_type": "code",
   "source": [
    "import time\n",
    "import numpy as np\n",
    "\n",
    "corners_points = [\n",
    "    simulation.get_location_by_coordinates(6, -28.5, 0),\n",
    "    simulation.get_location_by_coordinates(6, -31.5, 0),\n",
    "    simulation.get_location_by_coordinates(11.5, -28.5, 0),\n",
    "    simulation.get_location_by_coordinates(11.5, -31.5, 0)\n",
    "]\n",
    "\n",
    "\n",
    "def my_callback(sensor):\n",
    "    distances = (\n",
    "        np.array([\n",
    "            simulation.calculate_distance_actor_to_location(sensor, point)\n",
    "            for point in corners_points\n",
    "        ]))\n",
    "    created = time.time()\n",
    "    tags = f'distances={distances}_t={created}'\n",
    "\n",
    "    return tags"
   ],
   "id": "ddb6d240018f1c7b",
   "outputs": [],
   "execution_count": 4
  },
  {
   "metadata": {
    "ExecuteTime": {
     "end_time": "2024-10-22T07:18:51.944618Z",
     "start_time": "2024-10-22T07:18:51.884678Z"
    }
   },
   "cell_type": "code",
   "source": [
    "image = zeros((1920, 1080, 3))\n",
    "camera = simulation.init_camera(\n",
    "    vehicle, location_mirror, 'rgb', image\n",
    ")"
   ],
   "id": "dfbcc8271a928ea4",
   "outputs": [],
   "execution_count": 5
  },
  {
   "metadata": {
    "ExecuteTime": {
     "end_time": "2024-10-22T07:18:51.976647Z",
     "start_time": "2024-10-22T07:18:51.963405Z"
    }
   },
   "cell_type": "code",
   "source": "simulation.aplly_control(vehicle, throttle=0.5, steer=0.0, brake=0.0)",
   "id": "e10681d4cfcd2a7b",
   "outputs": [],
   "execution_count": 6
  },
  {
   "metadata": {
    "ExecuteTime": {
     "end_time": "2024-10-22T07:18:55.114744Z",
     "start_time": "2024-10-22T07:18:51.994779Z"
    }
   },
   "cell_type": "code",
   "source": [
    "simulation.add_camera_listen_capture_images(\n",
    "    camera,\n",
    "    './parking_sequence/',\n",
    "    my_callback\n",
    ")\n",
    "# vehicle.set_autopilot(True)\n",
    "cv2.waitKey(3000)\n",
    "vehicle.destroy()\n",
    "camera.destroy()\n"
   ],
   "id": "8a959e9eda3ea8f",
   "outputs": [
    {
     "data": {
      "text/plain": [
       "True"
      ]
     },
     "execution_count": 7,
     "metadata": {},
     "output_type": "execute_result"
    }
   ],
   "execution_count": 7
  },
  {
   "metadata": {
    "ExecuteTime": {
     "end_time": "2024-10-22T07:18:55.207877Z",
     "start_time": "2024-10-22T07:18:55.194165Z"
    }
   },
   "cell_type": "code",
   "source": "",
   "id": "c8e1ed50ad72d1f7",
   "outputs": [],
   "execution_count": null
  }
 ],
 "metadata": {
  "kernelspec": {
   "display_name": "Python 3",
   "language": "python",
   "name": "python3"
  },
  "language_info": {
   "codemirror_mode": {
    "name": "ipython",
    "version": 2
   },
   "file_extension": ".py",
   "mimetype": "text/x-python",
   "name": "python",
   "nbconvert_exporter": "python",
   "pygments_lexer": "ipython2",
   "version": "2.7.6"
  }
 },
 "nbformat": 4,
 "nbformat_minor": 5
}
