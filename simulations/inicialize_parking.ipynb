{
 "cells": [
  {
   "cell_type": "code",
   "id": "e89cd7e331a9646e",
   "metadata": {
    "collapsed": true,
    "jupyter": {
     "outputs_hidden": true
    },
    "ExecuteTime": {
     "end_time": "2024-09-12T23:24:46.860516Z",
     "start_time": "2024-09-12T23:24:46.704582Z"
    }
   },
   "source": [
    "import sys\n",
    "\n",
    "sys.path.append('E:/UADY/CARLA/CARLA_Latest/WindowsNoEditor/PythonAPI/carla')\n",
    "\n",
    "import carla\n",
    "import numpy as np\n",
    "import re\n",
    "import cv2\n",
    "import time"
   ],
   "outputs": [],
   "execution_count": 1
  },
  {
   "cell_type": "code",
   "id": "initial_id",
   "metadata": {
    "ExecuteTime": {
     "end_time": "2024-09-12T23:32:02.068487Z",
     "start_time": "2024-09-12T23:32:02.029462Z"
    }
   },
   "source": [
    "class Simulation_parking:\n",
    "    def __init__(self):\n",
    "        self.client = carla.Client('localhost', 2000)\n",
    "        self.world = self.client.get_world()\n",
    "        self.vehicle_all = self.world.get_blueprint_library().filter('*vehicle*')\n",
    "        self.car_tesla = self.world.get_blueprint_library().filter('*model3*')\n",
    "        self.exclude_regex = re.compile(\n",
    "            r'.*(cybertruck|ambulance|fusorosa|vespa|kawasaki|crossbike|harley|micro|carlamotors|yamaha|gazelle|diamondback).*')\n",
    "        self.vehicle_all = [bp for bp in self.world.get_blueprint_library().filter('*vehicle*') if\n",
    "                            not self.exclude_regex.match(bp.id)]\n",
    "        self.available_parking_probability = 0.33\n",
    "        self.spectator_line = 1\n",
    "        self.parking_points = []\n",
    "        self.is_parkable_from = []\n",
    "        self.lines_of_parking_x = [10, 3.5, -7.0, -13.0, -23, -29]\n",
    "        self.lines_of_parking_y = [-18.8, -21.6, -24.4, -27.2, -30.0, -32.8, -35.6, -38.4, -41.2, -44.0]\n",
    "\n",
    "    def load_world(self, world_name):\n",
    "        self.client.set_timeout(4.0)\n",
    "        self.client.load_world(world_name)\n",
    "\n",
    "    \"\"\"\n",
    "    Args:\n",
    "        precipitation: float Rain intensity values range from 0 to 100\n",
    "        precipitation_deposits: float Determines the creation of puddles. Values range from 0 to 100\n",
    "        wind_intensity: float Controls the strenght of the wind with values from 0, no wind at all, to 100, a strong wind. The wind does affect rain direction and leaves from trees\n",
    "        fog_density : float Controls the density of the fog with values from 0, no fog at all, to 100, a very dense fog\n",
    "        dust_storm : float Controls the density of the dust storm with values from 0, no dust at all, to 100, a very dense dust storm\n",
    "    \"\"\"\n",
    "\n",
    "    def configure_weather(self, weather):\n",
    "        self.world.set_weather(weather)\n",
    "\n",
    "    def is_available_parking(self, prob_false):\n",
    "        return np.random.rand() > prob_false  #probabily of parking\n",
    "\n",
    "    def generate_parking_points(self):\n",
    "        for i, x in enumerate(self.lines_of_parking_x):\n",
    "            if i == self.spectator_line:\n",
    "                # print(f'{i} spectator line')\n",
    "                continue\n",
    "            for y in self.lines_of_parking_y:\n",
    "                if self.is_available_parking(self.available_parking_probability):\n",
    "\n",
    "                    location = carla.Transform(\n",
    "                        carla.Location(x=x, y=y, z=1),\n",
    "                        carla.Rotation(yaw=int(0))\n",
    "                    )\n",
    "                    if self.try_if_veichle_is_parkable(location):\n",
    "                        self.parking_points.append(location)\n",
    "                else:\n",
    "                    interest_index = self.spectator_line - 1 if self.spectator_line % 2 == 0 else self.spectator_line + 1\n",
    "                    if i != interest_index:\n",
    "                        continue\n",
    "\n",
    "                    x_parkable = self.lines_of_parking_x[self.spectator_line]\n",
    "\n",
    "                    y_index = self.lines_of_parking_y.index(y)\n",
    "\n",
    "                    point1 = [x_parkable, y]\n",
    "                    if point1 not in self.is_parkable_from:\n",
    "                        self.is_parkable_from.append(point1)\n",
    "\n",
    "                    if y_index + 1 < len(self.lines_of_parking_y):\n",
    "                        point2 = [x_parkable, self.lines_of_parking_y[y_index + 1]]\n",
    "                        if point2 not in self.is_parkable_from:\n",
    "                            self.is_parkable_from.append(point2)\n",
    "\n",
    "                    if y_index - 1 >= 0:\n",
    "                        point3 = [x_parkable, self.lines_of_parking_y[y_index - 1]]\n",
    "                        if point3 not in self.is_parkable_from:\n",
    "                            self.is_parkable_from.append(point3)\n",
    "\n",
    "    def try_if_veichle_is_parkable(self, location):\n",
    "        vehicle_test = self.world.try_spawn_actor(self.car_tesla[0], location)\n",
    "        is_parkable = vehicle_test is not None\n",
    "\n",
    "        if is_parkable:\n",
    "            vehicle_test.destroy()\n",
    "\n",
    "        return is_parkable\n",
    "\n",
    "    def init_parking_vehicles(self):\n",
    "        self.generate_parking_points()\n",
    "        for point in self.parking_points:\n",
    "            ramdom_vehicle = np.random.choice(self.vehicle_all)\n",
    "            self.world.try_spawn_actor(ramdom_vehicle, point)\n",
    "\n",
    "    def capture_image(self, image, image_path):\n",
    "        image_array = np.frombuffer(image.raw_data, dtype=np.uint8)\n",
    "        image_array = np.reshape(image_array, (image.height, image.width, 4))\n",
    "        image_bgr = image_array[:, :, :3]  # Convertir de formato RGBA a formato BGR para OpenCV\n",
    "        # Guardar la imagen en la ruta especificada\n",
    "        cv2.imwrite(image_path, image_bgr)\n",
    "\n",
    "    def make_images_from_vehicle(self, vehicle: carla.Actor, tags: str):\n",
    "        ancho_imagen = 1920\n",
    "        alto_imagen = 1080\n",
    "        image_path = './parking_images/'\n",
    "        cv2.waitKey(200)\n",
    "\n",
    "        # Obtener la cámara frontal del vehículo\n",
    "        camera_blueprint = self.world.get_blueprint_library().find('sensor.camera.rgb')\n",
    "        camera_blueprint.set_attribute('image_size_x', str(ancho_imagen))\n",
    "        camera_blueprint.set_attribute('image_size_y', str(alto_imagen))\n",
    "        camera_blueprint.set_attribute('sensor_tick', '0.1')  # Frecuencia de actualización de la cámara en segundos\n",
    "\n",
    "        # Configurar y spawnear la cámara frontal (hood)\n",
    "        camera_location_hood = carla.Location(x=2.5, y=0.0,\n",
    "                                              z=0.5)  # Ajustar la ubicación de la cámara según sea necesario\n",
    "        camera_transform_hood = carla.Transform(camera_location_hood)\n",
    "        camera_hood = self.world.spawn_actor(camera_blueprint, camera_transform_hood, attach_to=vehicle)\n",
    "\n",
    "        # Configurar y spawnear la cámara frontal del espejo (mirror)\n",
    "        camera_location_mirror = carla.Location(x=1, y=0.0,\n",
    "                                                z=1.25)  # Ajustar la ubicación de la cámara según sea necesario\n",
    "        camera_transform_mirror = carla.Transform(camera_location_mirror)\n",
    "        camera_mirror = self.world.spawn_actor(camera_blueprint, camera_transform_mirror, attach_to=vehicle)\n",
    "\n",
    "        camera_hood_tags = self.generate_tag_for_image(f'camera_front_hood_{tags}', vehicle)\n",
    "        # Conectar la función de devolución de llamada a la cámara frontal (hood)\n",
    "        camera_hood.listen(\n",
    "            lambda image: self.capture_image(image, f'{image_path}/{camera_hood_tags}.jpg'))\n",
    "\n",
    "        camera_mirror_tags = self.generate_tag_for_image(f'camera_front_mirror_{tags}', vehicle)\n",
    "        camera_mirror.listen(\n",
    "            lambda image: self.capture_image(image, f'{image_path}/{camera_mirror_tags}.jpg'))\n",
    "\n",
    "        cv2.waitKey(110)\n",
    "        camera_hood.destroy()\n",
    "        camera_mirror.destroy()\n",
    "        vehicle.destroy()\n",
    "\n",
    "    def make_image_from_spectator_line(self, available_angle):\n",
    "        for y in self.lines_of_parking_y:\n",
    "            randon_yaw = int(np.random.choice(available_angle))\n",
    "            spectator_line_value_x = self.lines_of_parking_x[self.spectator_line]\n",
    "            # print(spectator_line_value_x, y)\n",
    "            check_parking_point = carla.Transform(\n",
    "                carla.Location(x=spectator_line_value_x, y=y, z=0.3),\n",
    "                carla.Rotation(yaw=randon_yaw)\n",
    "            )\n",
    "            vehicle_tesla = self.world.try_spawn_actor(self.car_tesla[0], check_parking_point)\n",
    "        \n",
    "            if vehicle_tesla is not None:\n",
    "                tag_p = True if [spectator_line_value_x, y] in self.is_parkable_from else False\n",
    "                \n",
    "                lights = carla.VehicleLightState(carla.VehicleLightState.Position | carla.VehicleLightState.LowBeam)\n",
    "                vehicle_tesla.set_light_state(lights)\n",
    "                \n",
    "                self.make_images_from_vehicle(vehicle_tesla, f'p={tag_p}')\n",
    "\n",
    "    def clean_actors(self):\n",
    "        for actor in self.world.get_actors().filter('*vehicle*'):\n",
    "            actor.destroy()\n",
    "        for sensor in self.world.get_actors().filter('*sensor*'):\n",
    "            sensor.destroy()\n",
    "\n",
    "    def generate_tag_for_image(self, sensor_tag, vehicle):\n",
    "        x = vehicle.get_location().x\n",
    "        y = vehicle.get_location().y\n",
    "        yaw = vehicle.get_transform().rotation.yaw\n",
    "        created = time.time()\n",
    "        return f's={sensor_tag}_x={x}_y={y}_a={yaw}_t={created}'"
   ],
   "outputs": [],
   "execution_count": 11
  },
  {
   "cell_type": "code",
   "id": "768ceb670e88f51e",
   "metadata": {
    "ExecuteTime": {
     "end_time": "2024-09-12T23:24:56.073070Z",
     "start_time": "2024-09-12T23:24:50.842123Z"
    }
   },
   "source": [
    "simulation_parking = Simulation_parking()\n",
    "simulation_parking.load_world('Town05')"
   ],
   "outputs": [],
   "execution_count": 3
  },
  {
   "cell_type": "code",
   "id": "399435dc6c88293e",
   "metadata": {
    "ExecuteTime": {
     "end_time": "2024-09-12T23:32:27.325207Z",
     "start_time": "2024-09-12T23:32:04.444919Z"
    }
   },
   "source": [
    "for i in [1, 2, 3, 4]:\n",
    "    simulation_parking = Simulation_parking()\n",
    "    simulation_parking.available_parking_probability = .9\n",
    "    simulation_parking.spectator_line = i\n",
    "    simulation_parking.init_parking_vehicles()\n",
    "    available_angle = range(-20, 20) if i % 2 == 0 else range(160, 200)\n",
    "    simulation_parking.make_image_from_spectator_line(available_angle)\n",
    "    simulation_parking.clean_actors()"
   ],
   "outputs": [],
   "execution_count": 12
  },
  {
   "cell_type": "code",
   "execution_count": 65,
   "id": "c774e2aaa04e92bb",
   "metadata": {
    "ExecuteTime": {
     "end_time": "2024-09-12T22:31:54.195804900Z",
     "start_time": "2024-05-02T03:27:31.374964Z"
    }
   },
   "outputs": [],
   "source": "simulation_parking.clean_actors()\n"
  },
  {
   "cell_type": "code",
   "execution_count": 57,
   "id": "7cc0d09627772f6e",
   "metadata": {
    "ExecuteTime": {
     "end_time": "2024-05-02T03:09:09.911893Z",
     "start_time": "2024-05-02T03:09:09.894651Z"
    }
   },
   "outputs": [],
   "source": [
    "def generate_random_weathers(count_weathers):\n",
    "    weathers = []\n",
    "    for i in range(count_weathers):\n",
    "        weathers.append(\n",
    "            carla.WeatherParameters(\n",
    "                # determina el angulo del sol. Valores de 0 a 100.\n",
    "                sun_azimuth_angle=np.random.randint(0, 360),\n",
    "\n",
    "                # determina la altura del sol. Valores de -90 a 90.\n",
    "                sun_altitude_angle=np.random.randint(-90, 90),\n",
    "\n",
    "                # determina la intensidad de la lluvia. Valores de 0 a 100.\n",
    "                precipitation=np.random.randint(0, 50),\n",
    "\n",
    "                # determina la creación de charcos en el suelo. Valores de 0 a 100.\n",
    "                precipitation_deposits=np.random.randint(0, 50),\n",
    "\n",
    "                # determina la intensidad del viento. Valores de 0 a 100. El viento afecta la dirección de la lluvia y las hojas de los árboles\n",
    "                wind_intensity=np.random.randint(0, 50),\n",
    "\n",
    "                # determina la densidad de la niebla. Valores de 0 a 100.\n",
    "                fog_density=np.random.randint(0, 50),\n",
    "\n",
    "                # determina la densidad de la tormenta de polvo. Valores de 0 a 100.\n",
    "                dust_storm=np.random.randint(0, 50),\n",
    "            )\n",
    "        )\n",
    "    return weathers"
   ]
  },
  {
   "cell_type": "code",
   "execution_count": 64,
   "id": "d58955541863d2d",
   "metadata": {
    "ExecuteTime": {
     "end_time": "2024-05-02T03:27:27.898575Z",
     "start_time": "2024-05-02T03:26:15.620553Z"
    }
   },
   "outputs": [
    {
     "ename": "KeyboardInterrupt",
     "evalue": "",
     "output_type": "error",
     "traceback": [
      "\u001B[1;31m---------------------------------------------------------------------------\u001B[0m",
      "\u001B[1;31mKeyboardInterrupt\u001B[0m                         Traceback (most recent call last)",
      "\u001B[1;32m~\\AppData\\Local\\Temp\\ipykernel_19556\\4193596962.py\u001B[0m in \u001B[0;36m<module>\u001B[1;34m\u001B[0m\n\u001B[0;32m      8\u001B[0m         \u001B[0msimulation_parking\u001B[0m\u001B[1;33m.\u001B[0m\u001B[0minit_parking_vehicles\u001B[0m\u001B[1;33m(\u001B[0m\u001B[1;33m)\u001B[0m\u001B[1;33m\u001B[0m\u001B[1;33m\u001B[0m\u001B[0m\n\u001B[0;32m      9\u001B[0m         \u001B[0mavailable_angle\u001B[0m \u001B[1;33m=\u001B[0m \u001B[0mrange\u001B[0m\u001B[1;33m(\u001B[0m\u001B[1;33m-\u001B[0m\u001B[1;36m30\u001B[0m\u001B[1;33m,\u001B[0m \u001B[1;36m30\u001B[0m\u001B[1;33m)\u001B[0m \u001B[1;32mif\u001B[0m \u001B[0mi\u001B[0m \u001B[1;33m%\u001B[0m \u001B[1;36m2\u001B[0m \u001B[1;33m==\u001B[0m \u001B[1;36m0\u001B[0m \u001B[1;32melse\u001B[0m \u001B[0mrange\u001B[0m\u001B[1;33m(\u001B[0m\u001B[1;36m150\u001B[0m\u001B[1;33m,\u001B[0m \u001B[1;36m210\u001B[0m\u001B[1;33m)\u001B[0m\u001B[1;33m\u001B[0m\u001B[1;33m\u001B[0m\u001B[0m\n\u001B[1;32m---> 10\u001B[1;33m         \u001B[0msimulation_parking\u001B[0m\u001B[1;33m.\u001B[0m\u001B[0mmake_image_from_spectator_line\u001B[0m\u001B[1;33m(\u001B[0m\u001B[0mavailable_angle\u001B[0m\u001B[1;33m)\u001B[0m\u001B[1;33m\u001B[0m\u001B[1;33m\u001B[0m\u001B[0m\n\u001B[0m\u001B[0;32m     11\u001B[0m         \u001B[0msimulation_parking\u001B[0m\u001B[1;33m.\u001B[0m\u001B[0mclean_actors\u001B[0m\u001B[1;33m(\u001B[0m\u001B[1;33m)\u001B[0m\u001B[1;33m\u001B[0m\u001B[1;33m\u001B[0m\u001B[0m\n",
      "\u001B[1;32m~\\AppData\\Local\\Temp\\ipykernel_19556\\1784166667.py\u001B[0m in \u001B[0;36mmake_image_from_spectator_line\u001B[1;34m(self, available_angle)\u001B[0m\n\u001B[0;32m    149\u001B[0m                 \u001B[0mvehicle_tesla\u001B[0m\u001B[1;33m.\u001B[0m\u001B[0mset_light_state\u001B[0m\u001B[1;33m(\u001B[0m\u001B[0mlights\u001B[0m\u001B[1;33m)\u001B[0m\u001B[1;33m\u001B[0m\u001B[1;33m\u001B[0m\u001B[0m\n\u001B[0;32m    150\u001B[0m \u001B[1;33m\u001B[0m\u001B[0m\n\u001B[1;32m--> 151\u001B[1;33m                 \u001B[0mself\u001B[0m\u001B[1;33m.\u001B[0m\u001B[0mmake_images_from_vehicle\u001B[0m\u001B[1;33m(\u001B[0m\u001B[0mvehicle_tesla\u001B[0m\u001B[1;33m,\u001B[0m \u001B[1;34mf'p={tag_p}'\u001B[0m\u001B[1;33m)\u001B[0m\u001B[1;33m\u001B[0m\u001B[1;33m\u001B[0m\u001B[0m\n\u001B[0m\u001B[0;32m    152\u001B[0m \u001B[1;33m\u001B[0m\u001B[0m\n\u001B[0;32m    153\u001B[0m     \u001B[1;32mdef\u001B[0m \u001B[0mclean_actors\u001B[0m\u001B[1;33m(\u001B[0m\u001B[0mself\u001B[0m\u001B[1;33m)\u001B[0m\u001B[1;33m:\u001B[0m\u001B[1;33m\u001B[0m\u001B[1;33m\u001B[0m\u001B[0m\n",
      "\u001B[1;32m~\\AppData\\Local\\Temp\\ipykernel_19556\\1784166667.py\u001B[0m in \u001B[0;36mmake_images_from_vehicle\u001B[1;34m(self, vehicle, tags)\u001B[0m\n\u001B[0;32m     98\u001B[0m         \u001B[0malto_imagen\u001B[0m \u001B[1;33m=\u001B[0m \u001B[1;36m1080\u001B[0m\u001B[1;33m\u001B[0m\u001B[1;33m\u001B[0m\u001B[0m\n\u001B[0;32m     99\u001B[0m         \u001B[0mimage_path\u001B[0m \u001B[1;33m=\u001B[0m \u001B[1;34m'./parking_images/'\u001B[0m\u001B[1;33m\u001B[0m\u001B[1;33m\u001B[0m\u001B[0m\n\u001B[1;32m--> 100\u001B[1;33m         \u001B[0mcv2\u001B[0m\u001B[1;33m.\u001B[0m\u001B[0mwaitKey\u001B[0m\u001B[1;33m(\u001B[0m\u001B[1;36m200\u001B[0m\u001B[1;33m)\u001B[0m\u001B[1;33m\u001B[0m\u001B[1;33m\u001B[0m\u001B[0m\n\u001B[0m\u001B[0;32m    101\u001B[0m \u001B[1;33m\u001B[0m\u001B[0m\n\u001B[0;32m    102\u001B[0m         \u001B[1;31m# Obtener la cámara frontal del vehículo\u001B[0m\u001B[1;33m\u001B[0m\u001B[1;33m\u001B[0m\u001B[1;33m\u001B[0m\u001B[0m\n",
      "\u001B[1;31mKeyboardInterrupt\u001B[0m: "
     ]
    }
   ],
   "source": [
    "weathers = generate_random_weathers(10)\n",
    "for weather in weathers:\n",
    "    for i in [1, 2, 3, 4]:\n",
    "        simulation_parking = Simulation_parking()\n",
    "        simulation_parking.configure_weather(weather)\n",
    "        simulation_parking.available_parking_probability = .4\n",
    "        simulation_parking.spectator_line = i\n",
    "        simulation_parking.init_parking_vehicles()\n",
    "        available_angle = range(-30, 30) if i % 2 == 0 else range(150, 210)\n",
    "        simulation_parking.make_image_from_spectator_line(available_angle)\n",
    "        simulation_parking.clean_actors()"
   ]
  },
  {
   "metadata": {
    "ExecuteTime": {
     "end_time": "2024-09-12T23:39:10.424180Z",
     "start_time": "2024-09-12T23:39:10.406307Z"
    }
   },
   "cell_type": "code",
   "source": [
    "def get_calibration_matrix(image_width , image_height, fov=90):\n",
    "    focal_length = image_width / (2 * np.tan(fov * np.pi / 360))\n",
    "    calibration_matrix = np.array([[focal_length, 0, image_width / 2],\n",
    "                                   [0, focal_length, image_height / 2],\n",
    "                                   [0, 0, 1]])\n",
    "    return calibration_matrix"
   ],
   "id": "b378f1552bbccb68",
   "outputs": [],
   "execution_count": 14
  },
  {
   "metadata": {
    "ExecuteTime": {
     "end_time": "2024-09-12T23:39:11.700034Z",
     "start_time": "2024-09-12T23:39:11.689121Z"
    }
   },
   "cell_type": "code",
   "source": "get_calibration_matrix(1920, 1080, 90)",
   "id": "ebe06321d9633f73",
   "outputs": [
    {
     "data": {
      "text/plain": [
       "array([[960.,   0., 960.],\n",
       "       [  0., 960., 540.],\n",
       "       [  0.,   0.,   1.]])"
      ]
     },
     "execution_count": 15,
     "metadata": {},
     "output_type": "execute_result"
    }
   ],
   "execution_count": 15
  },
  {
   "metadata": {},
   "cell_type": "code",
   "outputs": [],
   "execution_count": null,
   "source": "",
   "id": "b84b13cb9ebb5178"
  }
 ],
 "metadata": {
  "kernelspec": {
   "display_name": "Python 3 (ipykernel)",
   "language": "python",
   "name": "python3"
  },
  "language_info": {
   "codemirror_mode": {
    "name": "ipython",
    "version": 3
   },
   "file_extension": ".py",
   "mimetype": "text/x-python",
   "name": "python",
   "nbconvert_exporter": "python",
   "pygments_lexer": "ipython3",
   "version": "3.10.12"
  }
 },
 "nbformat": 4,
 "nbformat_minor": 5
}
