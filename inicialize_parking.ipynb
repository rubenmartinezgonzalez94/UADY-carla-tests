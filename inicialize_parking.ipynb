{
 "cells": [
  {
   "cell_type": "code",
   "id": "e89cd7e331a9646e",
   "metadata": {
    "collapsed": true,
    "ExecuteTime": {
     "end_time": "2024-04-30T18:09:47.598655Z",
     "start_time": "2024-04-30T18:09:47.586684Z"
    }
   },
   "source": [
    "import sys\n",
    "\n",
    "sys.path.append('E:/UADY/CARLA/CARLA_Latest/WindowsNoEditor/PythonAPI/carla')\n",
    "\n",
    "import carla\n",
    "import numpy as np\n",
    "import re\n",
    "import cv2"
   ],
   "outputs": [],
   "execution_count": 67
  },
  {
   "metadata": {
    "ExecuteTime": {
     "end_time": "2024-04-30T18:09:50.145845Z",
     "start_time": "2024-04-30T18:09:47.913625Z"
    }
   },
   "cell_type": "code",
   "source": [
    "client = carla.Client('localhost', 2000)\n",
    "world = client.get_world()"
   ],
   "id": "initial_id",
   "outputs": [
    {
     "ename": "RuntimeError",
     "evalue": "trying to operate on a destroyed actor; an actor's function was called, but the actor is already destroyed.",
     "output_type": "error",
     "traceback": [
      "\u001B[1;31m---------------------------------------------------------------------------\u001B[0m",
      "\u001B[1;31mRuntimeError\u001B[0m                              Traceback (most recent call last)",
      "\u001B[1;32m~\\AppData\\Local\\Temp\\ipykernel_14048\\1618723859.py\u001B[0m in \u001B[0;36m<lambda>\u001B[1;34m(image)\u001B[0m\n\u001B[0;32m     34\u001B[0m \u001B[1;33m\u001B[0m\u001B[0m\n\u001B[0;32m     35\u001B[0m \u001B[1;31m# Conectar la función de devolución de llamada a la cámara frontal (hood)\u001B[0m\u001B[1;33m\u001B[0m\u001B[1;33m\u001B[0m\u001B[1;33m\u001B[0m\u001B[0m\n\u001B[1;32m---> 36\u001B[1;33m \u001B[0mcamera_hood\u001B[0m\u001B[1;33m.\u001B[0m\u001B[0mlisten\u001B[0m\u001B[1;33m(\u001B[0m\u001B[1;32mlambda\u001B[0m \u001B[0mimage\u001B[0m\u001B[1;33m:\u001B[0m \u001B[0mcapture_image\u001B[0m\u001B[1;33m(\u001B[0m\u001B[0mimage\u001B[0m\u001B[1;33m,\u001B[0m \u001B[0mhood_image_path\u001B[0m\u001B[1;33m)\u001B[0m\u001B[1;33m)\u001B[0m\u001B[1;33m\u001B[0m\u001B[1;33m\u001B[0m\u001B[0m\n\u001B[0m\u001B[0;32m     37\u001B[0m \u001B[1;33m\u001B[0m\u001B[0m\n\u001B[0;32m     38\u001B[0m \u001B[1;31m# Conectar la función de devolución de llamada a la cámara frontal del espejo (mirror)\u001B[0m\u001B[1;33m\u001B[0m\u001B[1;33m\u001B[0m\u001B[1;33m\u001B[0m\u001B[0m\n",
      "\u001B[1;32m~\\AppData\\Local\\Temp\\ipykernel_14048\\1618723859.py\u001B[0m in \u001B[0;36mcapture_image\u001B[1;34m(image, image_path)\u001B[0m\n\u001B[0;32m     31\u001B[0m     \u001B[1;31m# Guardar la imagen en la ruta especificada\u001B[0m\u001B[1;33m\u001B[0m\u001B[1;33m\u001B[0m\u001B[1;33m\u001B[0m\u001B[0m\n\u001B[0;32m     32\u001B[0m     \u001B[0mcv2\u001B[0m\u001B[1;33m.\u001B[0m\u001B[0mimwrite\u001B[0m\u001B[1;33m(\u001B[0m\u001B[0mimage_path\u001B[0m\u001B[1;33m,\u001B[0m \u001B[0mimage_bgr\u001B[0m\u001B[1;33m)\u001B[0m\u001B[1;33m\u001B[0m\u001B[1;33m\u001B[0m\u001B[0m\n\u001B[1;32m---> 33\u001B[1;33m     \u001B[0mcamera\u001B[0m\u001B[1;33m.\u001B[0m\u001B[0mdestroy\u001B[0m\u001B[1;33m(\u001B[0m\u001B[1;33m)\u001B[0m\u001B[1;33m\u001B[0m\u001B[1;33m\u001B[0m\u001B[0m\n\u001B[0m\u001B[0;32m     34\u001B[0m \u001B[1;33m\u001B[0m\u001B[0m\n\u001B[0;32m     35\u001B[0m \u001B[1;31m# Conectar la función de devolución de llamada a la cámara frontal (hood)\u001B[0m\u001B[1;33m\u001B[0m\u001B[1;33m\u001B[0m\u001B[1;33m\u001B[0m\u001B[0m\n",
      "\u001B[1;31mRuntimeError\u001B[0m: trying to operate on a destroyed actor; an actor's function was called, but the actor is already destroyed."
     ]
    }
   ],
   "execution_count": 68
  },
  {
   "metadata": {
    "ExecuteTime": {
     "end_time": "2024-04-30T17:22:20.583607Z",
     "start_time": "2024-04-30T17:22:17.443040Z"
    }
   },
   "cell_type": "code",
   "source": "client.load_world('Town05')",
   "id": "264b28db040ecc23",
   "outputs": [
    {
     "data": {
      "text/plain": [
       "<carla.libcarla.World at 0x1c2f5a46ce0>"
      ]
     },
     "execution_count": 4,
     "metadata": {},
     "output_type": "execute_result"
    }
   ],
   "execution_count": 4
  },
  {
   "metadata": {
    "ExecuteTime": {
     "end_time": "2024-04-30T18:11:46.536774Z",
     "start_time": "2024-04-30T18:11:46.493338Z"
    }
   },
   "cell_type": "code",
   "source": [
    "car_tesla = world.get_blueprint_library().filter('*model3*')\n",
    "\n",
    "# vehicle_all = world.get_blueprint_library().filter('*vehicle*')\n",
    "# vehicle_tesla = world.try_spawn_actor(car_tesla[0], parking_points[1])\n",
    "\n",
    "# Expresión regular negativa para excluir múltiples patrones\n",
    "exclude_regex = re.compile(\n",
    "    r'.*(ambulance|fusorosa|vespa|kawasaki|crossbike|harley|micro|carlamotors|yamaha|gazelle|diamondback).*')\n",
    "\n",
    "# Filtrar los vehículos excluyendo los patrones especificados\n",
    "vehicle_all = [bp for bp in world.get_blueprint_library().filter('*vehicle*') if not exclude_regex.match(bp.id)]\n"
   ],
   "id": "2547db44f5e0a97c",
   "outputs": [],
   "execution_count": 80
  },
  {
   "metadata": {
    "ExecuteTime": {
     "end_time": "2024-04-30T18:11:46.803302Z",
     "start_time": "2024-04-30T18:11:46.796823Z"
    }
   },
   "cell_type": "code",
   "source": [
    "def is_available_parking():\n",
    "    return np.random.choice([False] + [True] * 2)  #probabily of parking"
   ],
   "id": "2447ba00040f32ef",
   "outputs": [],
   "execution_count": 81
  },
  {
   "metadata": {
    "ExecuteTime": {
     "end_time": "2024-04-30T18:11:47.084023Z",
     "start_time": "2024-04-30T18:11:47.071462Z"
    }
   },
   "cell_type": "code",
   "source": [
    "def generate_parking_points(lines_of_parking_x, lines_of_parking_y):\n",
    "    parking_points = []\n",
    "    for x in lines_of_parking_x:\n",
    "        for y in lines_of_parking_y:\n",
    "            if is_available_parking():\n",
    "                parking_points.append(\n",
    "                    carla.Transform(\n",
    "                        carla.Location(x=x, y=y, z=1),\n",
    "                        carla.Rotation(yaw=int(np.random.choice([0, 180])))\n",
    "                    )\n",
    "                )\n",
    "    return parking_points"
   ],
   "id": "f892e67ac0393c5",
   "outputs": [],
   "execution_count": 82
  },
  {
   "metadata": {
    "ExecuteTime": {
     "end_time": "2024-04-30T18:11:47.628784Z",
     "start_time": "2024-04-30T18:11:47.618008Z"
    }
   },
   "cell_type": "code",
   "source": [
    "parking_points = []\n",
    "lines_of_parking_x = [10, 3.5, -7.0, -13.0, -23, -29]\n",
    "lines_of_parking_y = [-18.8, -21.6, -24.4, -27.2, -30.0, -32.8, -35.6, -38.4, -41.2, -44.0]\n",
    "\n",
    "spectator_line = lines_of_parking_x[1]\n",
    "del lines_of_parking_x[1]\n",
    "parking_points = generate_parking_points(lines_of_parking_x, lines_of_parking_y)"
   ],
   "id": "5381fea2aa2a35be",
   "outputs": [],
   "execution_count": 83
  },
  {
   "metadata": {
    "ExecuteTime": {
     "end_time": "2024-04-30T18:11:48.690760Z",
     "start_time": "2024-04-30T18:11:48.144765Z"
    }
   },
   "cell_type": "code",
   "source": [
    "for point in parking_points:\n",
    "    ramdom_vehicle = np.random.choice(vehicle_all)\n",
    "    vehicle = world.try_spawn_actor(ramdom_vehicle, point)\n",
    "    # print(ramdom_vehicle.id)"
   ],
   "id": "af57b991e60a1242",
   "outputs": [],
   "execution_count": 84
  },
  {
   "metadata": {
    "ExecuteTime": {
     "end_time": "2024-04-30T18:11:49.346648Z",
     "start_time": "2024-04-30T18:11:49.325023Z"
    }
   },
   "cell_type": "code",
   "source": [
    "# for y in lines_of_parking_y:\n",
    "check_parking_point = carla.Transform(\n",
    "    carla.Location(x=spectator_line, y=-30.0, z=1),\n",
    "    carla.Rotation(yaw=int(np.random.choice([-170, 190])))\n",
    ")\n",
    "vehicle_tesla = world.try_spawn_actor(car_tesla[0], check_parking_point)\n",
    "\n",
    "# vehicle_tesla.destroy()"
   ],
   "id": "c42b55fe41c2318f",
   "outputs": [],
   "execution_count": 85
  },
  {
   "metadata": {
    "ExecuteTime": {
     "end_time": "2024-04-30T17:11:11.684283Z",
     "start_time": "2024-04-30T17:11:11.654543Z"
    }
   },
   "cell_type": "code",
   "source": "vehicle_tesla.destroy()",
   "id": "c76570a97a97e76e",
   "outputs": [
    {
     "ename": "NameError",
     "evalue": "name 'vehicle_tesla' is not defined",
     "output_type": "error",
     "traceback": [
      "\u001B[1;31m---------------------------------------------------------------------------\u001B[0m",
      "\u001B[1;31mNameError\u001B[0m                                 Traceback (most recent call last)",
      "\u001B[1;32m~\\AppData\\Local\\Temp\\ipykernel_3852\\1035997343.py\u001B[0m in \u001B[0;36m<module>\u001B[1;34m\u001B[0m\n\u001B[1;32m----> 1\u001B[1;33m \u001B[0mvehicle_tesla\u001B[0m\u001B[1;33m.\u001B[0m\u001B[0mdestroy\u001B[0m\u001B[1;33m(\u001B[0m\u001B[1;33m)\u001B[0m\u001B[1;33m\u001B[0m\u001B[1;33m\u001B[0m\u001B[0m\n\u001B[0m",
      "\u001B[1;31mNameError\u001B[0m: name 'vehicle_tesla' is not defined"
     ]
    }
   ],
   "execution_count": 2
  },
  {
   "metadata": {
    "ExecuteTime": {
     "end_time": "2024-04-30T18:11:51.677254Z",
     "start_time": "2024-04-30T18:11:51.549347Z"
    }
   },
   "cell_type": "code",
   "source": [
    "\n",
    "# Especifica las dimensiones de la imagen\n",
    "ancho_imagen = 1920\n",
    "alto_imagen = 1080\n",
    "\n",
    "# Rutas de guardado de las imágenes\n",
    "hood_image_path = './parking_images/camera_front_hood_image.jpg'\n",
    "mirror_image_path = './parking_images/camera_front_mirror_image.jpg'\n",
    "\n",
    "# Obtener la cámara frontal del vehículo\n",
    "camera_blueprint = world.get_blueprint_library().find('sensor.camera.rgb')\n",
    "camera_blueprint.set_attribute('image_size_x', str(ancho_imagen))\n",
    "camera_blueprint.set_attribute('image_size_y', str(alto_imagen))\n",
    "camera_blueprint.set_attribute('sensor_tick', '0.1')  # Frecuencia de actualización de la cámara en segundos\n",
    "\n",
    "# Configurar y spawnear la cámara frontal (hood)\n",
    "camera_location_hood = carla.Location(x=2.5, y=0.0, z=0.5)  # Ajustar la ubicación de la cámara según sea necesario\n",
    "camera_transform_hood = carla.Transform(camera_location_hood)\n",
    "camera_hood = world.spawn_actor(camera_blueprint, camera_transform_hood, attach_to=vehicle_tesla)\n",
    "\n",
    "# Configurar y spawnear la cámara frontal del espejo (mirror)\n",
    "camera_location_mirror = carla.Location(x=1, y=0.0, z=1.25)  # Ajustar la ubicación de la cámara según sea necesario\n",
    "camera_transform_mirror = carla.Transform(camera_location_mirror)\n",
    "camera_mirror = world.spawn_actor(camera_blueprint, camera_transform_mirror, attach_to=vehicle_tesla)\n",
    "\n",
    "# Definir una función de devolución de llamada para capturar la imagen y cambiar la ubicación de la cámara\n",
    "def capture_image(image, image_path):\n",
    "    image_array = np.frombuffer(image.raw_data, dtype=np.uint8)\n",
    "    image_array = np.reshape(image_array, (image.height, image.width, 4))\n",
    "    image_bgr = image_array[:, :, :3]  # Convertir de formato RGBA a formato BGR para OpenCV\n",
    "    \n",
    "    # Guardar la imagen en la ruta especificada\n",
    "    cv2.imwrite(image_path, image_bgr)\n",
    "    cv2.waitKey(1000)\n",
    "    camera.destroy()\n",
    "\n",
    "# Conectar la función de devolución de llamada a la cámara frontal (hood)\n",
    "camera_hood.listen(lambda image: capture_image(image, hood_image_path))\n",
    "\n",
    "# Conectar la función de devolución de llamada a la cámara frontal del espejo (mirror)\n",
    "camera_mirror.listen(lambda image: capture_image(image, mirror_image_path))\n"
   ],
   "id": "eaa3da17317e7730",
   "outputs": [],
   "execution_count": 86
  },
  {
   "metadata": {
    "ExecuteTime": {
     "end_time": "2024-04-30T18:09:19.409855Z",
     "start_time": "2024-04-30T18:09:19.392792Z"
    }
   },
   "cell_type": "code",
   "source": [
    "camera.destroy()\n",
    "camera_blueprint.destroy()"
   ],
   "id": "bb882021ccbd2aa6",
   "outputs": [
    {
     "ename": "RuntimeError",
     "evalue": "trying to operate on a destroyed actor; an actor's function was called, but the actor is already destroyed.",
     "output_type": "error",
     "traceback": [
      "\u001B[1;31m---------------------------------------------------------------------------\u001B[0m",
      "\u001B[1;31mRuntimeError\u001B[0m                              Traceback (most recent call last)",
      "\u001B[1;32m~\\AppData\\Local\\Temp\\ipykernel_14048\\1619893723.py\u001B[0m in \u001B[0;36m<module>\u001B[1;34m\u001B[0m\n\u001B[1;32m----> 1\u001B[1;33m \u001B[0mcamera\u001B[0m\u001B[1;33m.\u001B[0m\u001B[0mdestroy\u001B[0m\u001B[1;33m(\u001B[0m\u001B[1;33m)\u001B[0m\u001B[1;33m\u001B[0m\u001B[1;33m\u001B[0m\u001B[0m\n\u001B[0m\u001B[0;32m      2\u001B[0m \u001B[0mcamera_blueprint\u001B[0m\u001B[1;33m.\u001B[0m\u001B[0mdestroy\u001B[0m\u001B[1;33m(\u001B[0m\u001B[1;33m)\u001B[0m\u001B[1;33m\u001B[0m\u001B[1;33m\u001B[0m\u001B[0m\n",
      "\u001B[1;31mRuntimeError\u001B[0m: trying to operate on a destroyed actor; an actor's function was called, but the actor is already destroyed."
     ]
    }
   ],
   "execution_count": 58
  },
  {
   "metadata": {
    "ExecuteTime": {
     "end_time": "2024-04-30T17:11:11.746174Z",
     "start_time": "2024-04-30T17:11:11.725594Z"
    }
   },
   "cell_type": "code",
   "source": [
    "CAMERA_POS_Z = 3\n",
    "CAMERA_POS_X = -5\n",
    "\n",
    "camera_bp = world.get_blueprint_library().find('sensor.camera.rgb')\n",
    "camera_bp.set_attribute('image_size_x', '640')  # this ratio works in CARLA 9.14 on Windows\n",
    "camera_bp.set_attribute('image_size_y', '360')\n",
    "camera_init_trans = carla.Transform(carla.Location(z=CAMERA_POS_Z, x=CAMERA_POS_X))"
   ],
   "id": "b071c45e0c408f27",
   "outputs": [
    {
     "ename": "NameError",
     "evalue": "name 'world' is not defined",
     "output_type": "error",
     "traceback": [
      "\u001B[1;31m---------------------------------------------------------------------------\u001B[0m",
      "\u001B[1;31mNameError\u001B[0m                                 Traceback (most recent call last)",
      "\u001B[1;32m~\\AppData\\Local\\Temp\\ipykernel_3852\\3591197584.py\u001B[0m in \u001B[0;36m<module>\u001B[1;34m\u001B[0m\n\u001B[0;32m      2\u001B[0m \u001B[0mCAMERA_POS_X\u001B[0m \u001B[1;33m=\u001B[0m \u001B[1;33m-\u001B[0m\u001B[1;36m5\u001B[0m\u001B[1;33m\u001B[0m\u001B[1;33m\u001B[0m\u001B[0m\n\u001B[0;32m      3\u001B[0m \u001B[1;33m\u001B[0m\u001B[0m\n\u001B[1;32m----> 4\u001B[1;33m \u001B[0mcamera_bp\u001B[0m \u001B[1;33m=\u001B[0m \u001B[0mworld\u001B[0m\u001B[1;33m.\u001B[0m\u001B[0mget_blueprint_library\u001B[0m\u001B[1;33m(\u001B[0m\u001B[1;33m)\u001B[0m\u001B[1;33m.\u001B[0m\u001B[0mfind\u001B[0m\u001B[1;33m(\u001B[0m\u001B[1;34m'sensor.camera.rgb'\u001B[0m\u001B[1;33m)\u001B[0m\u001B[1;33m\u001B[0m\u001B[1;33m\u001B[0m\u001B[0m\n\u001B[0m\u001B[0;32m      5\u001B[0m \u001B[0mcamera_bp\u001B[0m\u001B[1;33m.\u001B[0m\u001B[0mset_attribute\u001B[0m\u001B[1;33m(\u001B[0m\u001B[1;34m'image_size_x'\u001B[0m\u001B[1;33m,\u001B[0m \u001B[1;34m'640'\u001B[0m\u001B[1;33m)\u001B[0m  \u001B[1;31m# this ratio works in CARLA 9.14 on Windows\u001B[0m\u001B[1;33m\u001B[0m\u001B[1;33m\u001B[0m\u001B[0m\n\u001B[0;32m      6\u001B[0m \u001B[0mcamera_bp\u001B[0m\u001B[1;33m.\u001B[0m\u001B[0mset_attribute\u001B[0m\u001B[1;33m(\u001B[0m\u001B[1;34m'image_size_y'\u001B[0m\u001B[1;33m,\u001B[0m \u001B[1;34m'360'\u001B[0m\u001B[1;33m)\u001B[0m\u001B[1;33m\u001B[0m\u001B[1;33m\u001B[0m\u001B[0m\n",
      "\u001B[1;31mNameError\u001B[0m: name 'world' is not defined"
     ]
    }
   ],
   "execution_count": 4
  },
  {
   "metadata": {},
   "cell_type": "code",
   "source": [
    "CAMERA_POS_Z = 3\n",
    "CAMERA_POS_X = -5\n",
    "\n",
    "camera_bp = world.get_blueprint_library().find('sensor.camera.rgb')\n",
    "camera_bp.set_attribute('image_size_x', '640')\n",
    "camera_bp.set_attribute('image_size_y', '360')\n",
    "camera_init_trans = carla.Transform(carla.Location(z=CAMERA_POS_Z, x=CAMERA_POS_X))\n",
    "#this creates the camera in the sim\n",
    "camera = world.spawn_actor(camera_bp, camera_init_trans, attach_to=vehicle_tesla)\n",
    "\n",
    "\n",
    "def camera_callback(image, data_dict):\n",
    "    data_dict['image'] = np.reshape(np.copy(image.raw_data), (image.height, image.width, 4))\n",
    "\n",
    "\n",
    "image_w = camera_bp.get_attribute('image_size_x').as_int()\n",
    "image_h = camera_bp.get_attribute('image_size_y').as_int()\n",
    "\n",
    "camera_data = {'image': np.zeros((image_h, image_w, 4))}\n",
    "# this actually opens a live stream from the camera\n",
    "camera.listen(lambda image: camera_callback(image, camera_data))"
   ],
   "id": "17a33480f695fe70",
   "outputs": [],
   "execution_count": null
  },
  {
   "metadata": {
    "ExecuteTime": {
     "end_time": "2024-04-30T17:11:11.824988Z",
     "start_time": "2024-04-30T17:11:11.812642Z"
    }
   },
   "cell_type": "code",
   "source": [
    "cv2.namedWindow('RGB Camera', cv2.WINDOW_AUTOSIZE)\n",
    "cv2.imshow('RGB Camera', camera_data['image'])"
   ],
   "id": "91aa9d01da55eb0e",
   "outputs": [
    {
     "ename": "NameError",
     "evalue": "name 'cv2' is not defined",
     "output_type": "error",
     "traceback": [
      "\u001B[1;31m---------------------------------------------------------------------------\u001B[0m",
      "\u001B[1;31mNameError\u001B[0m                                 Traceback (most recent call last)",
      "\u001B[1;32m~\\AppData\\Local\\Temp\\ipykernel_3852\\632491143.py\u001B[0m in \u001B[0;36m<module>\u001B[1;34m\u001B[0m\n\u001B[1;32m----> 1\u001B[1;33m \u001B[0mcv2\u001B[0m\u001B[1;33m.\u001B[0m\u001B[0mnamedWindow\u001B[0m\u001B[1;33m(\u001B[0m\u001B[1;34m'RGB Camera'\u001B[0m\u001B[1;33m,\u001B[0m \u001B[0mcv2\u001B[0m\u001B[1;33m.\u001B[0m\u001B[0mWINDOW_AUTOSIZE\u001B[0m\u001B[1;33m)\u001B[0m\u001B[1;33m\u001B[0m\u001B[1;33m\u001B[0m\u001B[0m\n\u001B[0m\u001B[0;32m      2\u001B[0m \u001B[0mcv2\u001B[0m\u001B[1;33m.\u001B[0m\u001B[0mimshow\u001B[0m\u001B[1;33m(\u001B[0m\u001B[1;34m'RGB Camera'\u001B[0m\u001B[1;33m,\u001B[0m \u001B[0mcamera_data\u001B[0m\u001B[1;33m[\u001B[0m\u001B[1;34m'image'\u001B[0m\u001B[1;33m]\u001B[0m\u001B[1;33m)\u001B[0m\u001B[1;33m\u001B[0m\u001B[1;33m\u001B[0m\u001B[0m\n",
      "\u001B[1;31mNameError\u001B[0m: name 'cv2' is not defined"
     ]
    }
   ],
   "execution_count": 5
  },
  {
   "metadata": {
    "ExecuteTime": {
     "end_time": "2024-04-30T18:11:32.673424Z",
     "start_time": "2024-04-30T18:11:31.907671Z"
    }
   },
   "cell_type": "code",
   "source": [
    "for actor in world.get_actors().filter('*vehicle*'):\n",
    "    actor.destroy()\n",
    "for sensor in world.get_actors().filter('*sensor*'):\n",
    "    sensor.destroy()\n"
   ],
   "id": "88d995574cd97c69",
   "outputs": [
    {
     "ename": "RuntimeError",
     "evalue": "trying to operate on a destroyed actor; an actor's function was called, but the actor is already destroyed.",
     "output_type": "error",
     "traceback": [
      "\u001B[1;31m---------------------------------------------------------------------------\u001B[0m",
      "\u001B[1;31mRuntimeError\u001B[0m                              Traceback (most recent call last)",
      "\u001B[1;32m~\\AppData\\Local\\Temp\\ipykernel_14048\\1618723859.py\u001B[0m in \u001B[0;36m<lambda>\u001B[1;34m(image)\u001B[0m\n\u001B[0;32m     37\u001B[0m \u001B[1;33m\u001B[0m\u001B[0m\n\u001B[0;32m     38\u001B[0m \u001B[1;31m# Conectar la función de devolución de llamada a la cámara frontal del espejo (mirror)\u001B[0m\u001B[1;33m\u001B[0m\u001B[1;33m\u001B[0m\u001B[1;33m\u001B[0m\u001B[0m\n\u001B[1;32m---> 39\u001B[1;33m \u001B[0mcamera_mirror\u001B[0m\u001B[1;33m.\u001B[0m\u001B[0mlisten\u001B[0m\u001B[1;33m(\u001B[0m\u001B[1;32mlambda\u001B[0m \u001B[0mimage\u001B[0m\u001B[1;33m:\u001B[0m \u001B[0mcapture_image\u001B[0m\u001B[1;33m(\u001B[0m\u001B[0mimage\u001B[0m\u001B[1;33m,\u001B[0m \u001B[0mmirror_image_path\u001B[0m\u001B[1;33m)\u001B[0m\u001B[1;33m)\u001B[0m\u001B[1;33m\u001B[0m\u001B[1;33m\u001B[0m\u001B[0m\n\u001B[0m\u001B[0;32m     40\u001B[0m \u001B[1;33m\u001B[0m\u001B[0m\n",
      "\u001B[1;32m~\\AppData\\Local\\Temp\\ipykernel_14048\\1618723859.py\u001B[0m in \u001B[0;36mcapture_image\u001B[1;34m(image, image_path)\u001B[0m\n\u001B[0;32m     31\u001B[0m     \u001B[1;31m# Guardar la imagen en la ruta especificada\u001B[0m\u001B[1;33m\u001B[0m\u001B[1;33m\u001B[0m\u001B[1;33m\u001B[0m\u001B[0m\n\u001B[0;32m     32\u001B[0m     \u001B[0mcv2\u001B[0m\u001B[1;33m.\u001B[0m\u001B[0mimwrite\u001B[0m\u001B[1;33m(\u001B[0m\u001B[0mimage_path\u001B[0m\u001B[1;33m,\u001B[0m \u001B[0mimage_bgr\u001B[0m\u001B[1;33m)\u001B[0m\u001B[1;33m\u001B[0m\u001B[1;33m\u001B[0m\u001B[0m\n\u001B[1;32m---> 33\u001B[1;33m     \u001B[0mcamera\u001B[0m\u001B[1;33m.\u001B[0m\u001B[0mdestroy\u001B[0m\u001B[1;33m(\u001B[0m\u001B[1;33m)\u001B[0m\u001B[1;33m\u001B[0m\u001B[1;33m\u001B[0m\u001B[0m\n\u001B[0m\u001B[0;32m     34\u001B[0m \u001B[1;33m\u001B[0m\u001B[0m\n\u001B[0;32m     35\u001B[0m \u001B[1;31m# Conectar la función de devolución de llamada a la cámara frontal (hood)\u001B[0m\u001B[1;33m\u001B[0m\u001B[1;33m\u001B[0m\u001B[1;33m\u001B[0m\u001B[0m\n",
      "\u001B[1;31mRuntimeError\u001B[0m: trying to operate on a destroyed actor; an actor's function was called, but the actor is already destroyed."
     ]
    },
    {
     "ename": "RuntimeError",
     "evalue": "trying to operate on a destroyed actor; an actor's function was called, but the actor is already destroyed.",
     "output_type": "error",
     "traceback": [
      "\u001B[1;31m---------------------------------------------------------------------------\u001B[0m",
      "\u001B[1;31mRuntimeError\u001B[0m                              Traceback (most recent call last)",
      "\u001B[1;32m~\\AppData\\Local\\Temp\\ipykernel_14048\\1618723859.py\u001B[0m in \u001B[0;36m<lambda>\u001B[1;34m(image)\u001B[0m\n\u001B[0;32m     34\u001B[0m \u001B[1;33m\u001B[0m\u001B[0m\n\u001B[0;32m     35\u001B[0m \u001B[1;31m# Conectar la función de devolución de llamada a la cámara frontal (hood)\u001B[0m\u001B[1;33m\u001B[0m\u001B[1;33m\u001B[0m\u001B[1;33m\u001B[0m\u001B[0m\n\u001B[1;32m---> 36\u001B[1;33m \u001B[0mcamera_hood\u001B[0m\u001B[1;33m.\u001B[0m\u001B[0mlisten\u001B[0m\u001B[1;33m(\u001B[0m\u001B[1;32mlambda\u001B[0m \u001B[0mimage\u001B[0m\u001B[1;33m:\u001B[0m \u001B[0mcapture_image\u001B[0m\u001B[1;33m(\u001B[0m\u001B[0mimage\u001B[0m\u001B[1;33m,\u001B[0m \u001B[0mhood_image_path\u001B[0m\u001B[1;33m)\u001B[0m\u001B[1;33m)\u001B[0m\u001B[1;33m\u001B[0m\u001B[1;33m\u001B[0m\u001B[0m\n\u001B[0m\u001B[0;32m     37\u001B[0m \u001B[1;33m\u001B[0m\u001B[0m\n\u001B[0;32m     38\u001B[0m \u001B[1;31m# Conectar la función de devolución de llamada a la cámara frontal del espejo (mirror)\u001B[0m\u001B[1;33m\u001B[0m\u001B[1;33m\u001B[0m\u001B[1;33m\u001B[0m\u001B[0m\n",
      "\u001B[1;32m~\\AppData\\Local\\Temp\\ipykernel_14048\\1618723859.py\u001B[0m in \u001B[0;36mcapture_image\u001B[1;34m(image, image_path)\u001B[0m\n\u001B[0;32m     31\u001B[0m     \u001B[1;31m# Guardar la imagen en la ruta especificada\u001B[0m\u001B[1;33m\u001B[0m\u001B[1;33m\u001B[0m\u001B[1;33m\u001B[0m\u001B[0m\n\u001B[0;32m     32\u001B[0m     \u001B[0mcv2\u001B[0m\u001B[1;33m.\u001B[0m\u001B[0mimwrite\u001B[0m\u001B[1;33m(\u001B[0m\u001B[0mimage_path\u001B[0m\u001B[1;33m,\u001B[0m \u001B[0mimage_bgr\u001B[0m\u001B[1;33m)\u001B[0m\u001B[1;33m\u001B[0m\u001B[1;33m\u001B[0m\u001B[0m\n\u001B[1;32m---> 33\u001B[1;33m     \u001B[0mcamera\u001B[0m\u001B[1;33m.\u001B[0m\u001B[0mdestroy\u001B[0m\u001B[1;33m(\u001B[0m\u001B[1;33m)\u001B[0m\u001B[1;33m\u001B[0m\u001B[1;33m\u001B[0m\u001B[0m\n\u001B[0m\u001B[0;32m     34\u001B[0m \u001B[1;33m\u001B[0m\u001B[0m\n\u001B[0;32m     35\u001B[0m \u001B[1;31m# Conectar la función de devolución de llamada a la cámara frontal (hood)\u001B[0m\u001B[1;33m\u001B[0m\u001B[1;33m\u001B[0m\u001B[1;33m\u001B[0m\u001B[0m\n",
      "\u001B[1;31mRuntimeError\u001B[0m: trying to operate on a destroyed actor; an actor's function was called, but the actor is already destroyed."
     ]
    },
    {
     "ename": "RuntimeError",
     "evalue": "trying to operate on a destroyed actor; an actor's function was called, but the actor is already destroyed.",
     "output_type": "error",
     "traceback": [
      "\u001B[1;31m---------------------------------------------------------------------------\u001B[0m",
      "\u001B[1;31mRuntimeError\u001B[0m                              Traceback (most recent call last)",
      "\u001B[1;32m~\\AppData\\Local\\Temp\\ipykernel_14048\\1618723859.py\u001B[0m in \u001B[0;36m<lambda>\u001B[1;34m(image)\u001B[0m\n\u001B[0;32m     37\u001B[0m \u001B[1;33m\u001B[0m\u001B[0m\n\u001B[0;32m     38\u001B[0m \u001B[1;31m# Conectar la función de devolución de llamada a la cámara frontal del espejo (mirror)\u001B[0m\u001B[1;33m\u001B[0m\u001B[1;33m\u001B[0m\u001B[1;33m\u001B[0m\u001B[0m\n\u001B[1;32m---> 39\u001B[1;33m \u001B[0mcamera_mirror\u001B[0m\u001B[1;33m.\u001B[0m\u001B[0mlisten\u001B[0m\u001B[1;33m(\u001B[0m\u001B[1;32mlambda\u001B[0m \u001B[0mimage\u001B[0m\u001B[1;33m:\u001B[0m \u001B[0mcapture_image\u001B[0m\u001B[1;33m(\u001B[0m\u001B[0mimage\u001B[0m\u001B[1;33m,\u001B[0m \u001B[0mmirror_image_path\u001B[0m\u001B[1;33m)\u001B[0m\u001B[1;33m)\u001B[0m\u001B[1;33m\u001B[0m\u001B[1;33m\u001B[0m\u001B[0m\n\u001B[0m\u001B[0;32m     40\u001B[0m \u001B[1;33m\u001B[0m\u001B[0m\n",
      "\u001B[1;32m~\\AppData\\Local\\Temp\\ipykernel_14048\\1618723859.py\u001B[0m in \u001B[0;36mcapture_image\u001B[1;34m(image, image_path)\u001B[0m\n\u001B[0;32m     31\u001B[0m     \u001B[1;31m# Guardar la imagen en la ruta especificada\u001B[0m\u001B[1;33m\u001B[0m\u001B[1;33m\u001B[0m\u001B[1;33m\u001B[0m\u001B[0m\n\u001B[0;32m     32\u001B[0m     \u001B[0mcv2\u001B[0m\u001B[1;33m.\u001B[0m\u001B[0mimwrite\u001B[0m\u001B[1;33m(\u001B[0m\u001B[0mimage_path\u001B[0m\u001B[1;33m,\u001B[0m \u001B[0mimage_bgr\u001B[0m\u001B[1;33m)\u001B[0m\u001B[1;33m\u001B[0m\u001B[1;33m\u001B[0m\u001B[0m\n\u001B[1;32m---> 33\u001B[1;33m     \u001B[0mcamera\u001B[0m\u001B[1;33m.\u001B[0m\u001B[0mdestroy\u001B[0m\u001B[1;33m(\u001B[0m\u001B[1;33m)\u001B[0m\u001B[1;33m\u001B[0m\u001B[1;33m\u001B[0m\u001B[0m\n\u001B[0m\u001B[0;32m     34\u001B[0m \u001B[1;33m\u001B[0m\u001B[0m\n\u001B[0;32m     35\u001B[0m \u001B[1;31m# Conectar la función de devolución de llamada a la cámara frontal (hood)\u001B[0m\u001B[1;33m\u001B[0m\u001B[1;33m\u001B[0m\u001B[1;33m\u001B[0m\u001B[0m\n",
      "\u001B[1;31mRuntimeError\u001B[0m: trying to operate on a destroyed actor; an actor's function was called, but the actor is already destroyed."
     ]
    },
    {
     "ename": "RuntimeError",
     "evalue": "trying to operate on a destroyed actor; an actor's function was called, but the actor is already destroyed.",
     "output_type": "error",
     "traceback": [
      "\u001B[1;31m---------------------------------------------------------------------------\u001B[0m",
      "\u001B[1;31mRuntimeError\u001B[0m                              Traceback (most recent call last)",
      "\u001B[1;32m~\\AppData\\Local\\Temp\\ipykernel_14048\\1618723859.py\u001B[0m in \u001B[0;36m<lambda>\u001B[1;34m(image)\u001B[0m\n\u001B[0;32m     34\u001B[0m \u001B[1;33m\u001B[0m\u001B[0m\n\u001B[0;32m     35\u001B[0m \u001B[1;31m# Conectar la función de devolución de llamada a la cámara frontal (hood)\u001B[0m\u001B[1;33m\u001B[0m\u001B[1;33m\u001B[0m\u001B[1;33m\u001B[0m\u001B[0m\n\u001B[1;32m---> 36\u001B[1;33m \u001B[0mcamera_hood\u001B[0m\u001B[1;33m.\u001B[0m\u001B[0mlisten\u001B[0m\u001B[1;33m(\u001B[0m\u001B[1;32mlambda\u001B[0m \u001B[0mimage\u001B[0m\u001B[1;33m:\u001B[0m \u001B[0mcapture_image\u001B[0m\u001B[1;33m(\u001B[0m\u001B[0mimage\u001B[0m\u001B[1;33m,\u001B[0m \u001B[0mhood_image_path\u001B[0m\u001B[1;33m)\u001B[0m\u001B[1;33m)\u001B[0m\u001B[1;33m\u001B[0m\u001B[1;33m\u001B[0m\u001B[0m\n\u001B[0m\u001B[0;32m     37\u001B[0m \u001B[1;33m\u001B[0m\u001B[0m\n\u001B[0;32m     38\u001B[0m \u001B[1;31m# Conectar la función de devolución de llamada a la cámara frontal del espejo (mirror)\u001B[0m\u001B[1;33m\u001B[0m\u001B[1;33m\u001B[0m\u001B[1;33m\u001B[0m\u001B[0m\n",
      "\u001B[1;32m~\\AppData\\Local\\Temp\\ipykernel_14048\\1618723859.py\u001B[0m in \u001B[0;36mcapture_image\u001B[1;34m(image, image_path)\u001B[0m\n\u001B[0;32m     31\u001B[0m     \u001B[1;31m# Guardar la imagen en la ruta especificada\u001B[0m\u001B[1;33m\u001B[0m\u001B[1;33m\u001B[0m\u001B[1;33m\u001B[0m\u001B[0m\n\u001B[0;32m     32\u001B[0m     \u001B[0mcv2\u001B[0m\u001B[1;33m.\u001B[0m\u001B[0mimwrite\u001B[0m\u001B[1;33m(\u001B[0m\u001B[0mimage_path\u001B[0m\u001B[1;33m,\u001B[0m \u001B[0mimage_bgr\u001B[0m\u001B[1;33m)\u001B[0m\u001B[1;33m\u001B[0m\u001B[1;33m\u001B[0m\u001B[0m\n\u001B[1;32m---> 33\u001B[1;33m     \u001B[0mcamera\u001B[0m\u001B[1;33m.\u001B[0m\u001B[0mdestroy\u001B[0m\u001B[1;33m(\u001B[0m\u001B[1;33m)\u001B[0m\u001B[1;33m\u001B[0m\u001B[1;33m\u001B[0m\u001B[0m\n\u001B[0m\u001B[0;32m     34\u001B[0m \u001B[1;33m\u001B[0m\u001B[0m\n\u001B[0;32m     35\u001B[0m \u001B[1;31m# Conectar la función de devolución de llamada a la cámara frontal (hood)\u001B[0m\u001B[1;33m\u001B[0m\u001B[1;33m\u001B[0m\u001B[1;33m\u001B[0m\u001B[0m\n",
      "\u001B[1;31mRuntimeError\u001B[0m: trying to operate on a destroyed actor; an actor's function was called, but the actor is already destroyed."
     ]
    },
    {
     "ename": "RuntimeError",
     "evalue": "trying to operate on a destroyed actor; an actor's function was called, but the actor is already destroyed.",
     "output_type": "error",
     "traceback": [
      "\u001B[1;31m---------------------------------------------------------------------------\u001B[0m",
      "\u001B[1;31mRuntimeError\u001B[0m                              Traceback (most recent call last)",
      "\u001B[1;32m~\\AppData\\Local\\Temp\\ipykernel_14048\\1618723859.py\u001B[0m in \u001B[0;36m<lambda>\u001B[1;34m(image)\u001B[0m\n\u001B[0;32m     37\u001B[0m \u001B[1;33m\u001B[0m\u001B[0m\n\u001B[0;32m     38\u001B[0m \u001B[1;31m# Conectar la función de devolución de llamada a la cámara frontal del espejo (mirror)\u001B[0m\u001B[1;33m\u001B[0m\u001B[1;33m\u001B[0m\u001B[1;33m\u001B[0m\u001B[0m\n\u001B[1;32m---> 39\u001B[1;33m \u001B[0mcamera_mirror\u001B[0m\u001B[1;33m.\u001B[0m\u001B[0mlisten\u001B[0m\u001B[1;33m(\u001B[0m\u001B[1;32mlambda\u001B[0m \u001B[0mimage\u001B[0m\u001B[1;33m:\u001B[0m \u001B[0mcapture_image\u001B[0m\u001B[1;33m(\u001B[0m\u001B[0mimage\u001B[0m\u001B[1;33m,\u001B[0m \u001B[0mmirror_image_path\u001B[0m\u001B[1;33m)\u001B[0m\u001B[1;33m)\u001B[0m\u001B[1;33m\u001B[0m\u001B[1;33m\u001B[0m\u001B[0m\n\u001B[0m\u001B[0;32m     40\u001B[0m \u001B[1;33m\u001B[0m\u001B[0m\n",
      "\u001B[1;32m~\\AppData\\Local\\Temp\\ipykernel_14048\\1618723859.py\u001B[0m in \u001B[0;36mcapture_image\u001B[1;34m(image, image_path)\u001B[0m\n\u001B[0;32m     31\u001B[0m     \u001B[1;31m# Guardar la imagen en la ruta especificada\u001B[0m\u001B[1;33m\u001B[0m\u001B[1;33m\u001B[0m\u001B[1;33m\u001B[0m\u001B[0m\n\u001B[0;32m     32\u001B[0m     \u001B[0mcv2\u001B[0m\u001B[1;33m.\u001B[0m\u001B[0mimwrite\u001B[0m\u001B[1;33m(\u001B[0m\u001B[0mimage_path\u001B[0m\u001B[1;33m,\u001B[0m \u001B[0mimage_bgr\u001B[0m\u001B[1;33m)\u001B[0m\u001B[1;33m\u001B[0m\u001B[1;33m\u001B[0m\u001B[0m\n\u001B[1;32m---> 33\u001B[1;33m     \u001B[0mcamera\u001B[0m\u001B[1;33m.\u001B[0m\u001B[0mdestroy\u001B[0m\u001B[1;33m(\u001B[0m\u001B[1;33m)\u001B[0m\u001B[1;33m\u001B[0m\u001B[1;33m\u001B[0m\u001B[0m\n\u001B[0m\u001B[0;32m     34\u001B[0m \u001B[1;33m\u001B[0m\u001B[0m\n\u001B[0;32m     35\u001B[0m \u001B[1;31m# Conectar la función de devolución de llamada a la cámara frontal (hood)\u001B[0m\u001B[1;33m\u001B[0m\u001B[1;33m\u001B[0m\u001B[1;33m\u001B[0m\u001B[0m\n",
      "\u001B[1;31mRuntimeError\u001B[0m: trying to operate on a destroyed actor; an actor's function was called, but the actor is already destroyed."
     ]
    },
    {
     "ename": "RuntimeError",
     "evalue": "trying to operate on a destroyed actor; an actor's function was called, but the actor is already destroyed.",
     "output_type": "error",
     "traceback": [
      "\u001B[1;31m---------------------------------------------------------------------------\u001B[0m",
      "\u001B[1;31mRuntimeError\u001B[0m                              Traceback (most recent call last)",
      "\u001B[1;32m~\\AppData\\Local\\Temp\\ipykernel_14048\\1618723859.py\u001B[0m in \u001B[0;36m<lambda>\u001B[1;34m(image)\u001B[0m\n\u001B[0;32m     34\u001B[0m \u001B[1;33m\u001B[0m\u001B[0m\n\u001B[0;32m     35\u001B[0m \u001B[1;31m# Conectar la función de devolución de llamada a la cámara frontal (hood)\u001B[0m\u001B[1;33m\u001B[0m\u001B[1;33m\u001B[0m\u001B[1;33m\u001B[0m\u001B[0m\n\u001B[1;32m---> 36\u001B[1;33m \u001B[0mcamera_hood\u001B[0m\u001B[1;33m.\u001B[0m\u001B[0mlisten\u001B[0m\u001B[1;33m(\u001B[0m\u001B[1;32mlambda\u001B[0m \u001B[0mimage\u001B[0m\u001B[1;33m:\u001B[0m \u001B[0mcapture_image\u001B[0m\u001B[1;33m(\u001B[0m\u001B[0mimage\u001B[0m\u001B[1;33m,\u001B[0m \u001B[0mhood_image_path\u001B[0m\u001B[1;33m)\u001B[0m\u001B[1;33m)\u001B[0m\u001B[1;33m\u001B[0m\u001B[1;33m\u001B[0m\u001B[0m\n\u001B[0m\u001B[0;32m     37\u001B[0m \u001B[1;33m\u001B[0m\u001B[0m\n\u001B[0;32m     38\u001B[0m \u001B[1;31m# Conectar la función de devolución de llamada a la cámara frontal del espejo (mirror)\u001B[0m\u001B[1;33m\u001B[0m\u001B[1;33m\u001B[0m\u001B[1;33m\u001B[0m\u001B[0m\n",
      "\u001B[1;32m~\\AppData\\Local\\Temp\\ipykernel_14048\\1618723859.py\u001B[0m in \u001B[0;36mcapture_image\u001B[1;34m(image, image_path)\u001B[0m\n\u001B[0;32m     31\u001B[0m     \u001B[1;31m# Guardar la imagen en la ruta especificada\u001B[0m\u001B[1;33m\u001B[0m\u001B[1;33m\u001B[0m\u001B[1;33m\u001B[0m\u001B[0m\n\u001B[0;32m     32\u001B[0m     \u001B[0mcv2\u001B[0m\u001B[1;33m.\u001B[0m\u001B[0mimwrite\u001B[0m\u001B[1;33m(\u001B[0m\u001B[0mimage_path\u001B[0m\u001B[1;33m,\u001B[0m \u001B[0mimage_bgr\u001B[0m\u001B[1;33m)\u001B[0m\u001B[1;33m\u001B[0m\u001B[1;33m\u001B[0m\u001B[0m\n\u001B[1;32m---> 33\u001B[1;33m     \u001B[0mcamera\u001B[0m\u001B[1;33m.\u001B[0m\u001B[0mdestroy\u001B[0m\u001B[1;33m(\u001B[0m\u001B[1;33m)\u001B[0m\u001B[1;33m\u001B[0m\u001B[1;33m\u001B[0m\u001B[0m\n\u001B[0m\u001B[0;32m     34\u001B[0m \u001B[1;33m\u001B[0m\u001B[0m\n\u001B[0;32m     35\u001B[0m \u001B[1;31m# Conectar la función de devolución de llamada a la cámara frontal (hood)\u001B[0m\u001B[1;33m\u001B[0m\u001B[1;33m\u001B[0m\u001B[1;33m\u001B[0m\u001B[0m\n",
      "\u001B[1;31mRuntimeError\u001B[0m: trying to operate on a destroyed actor; an actor's function was called, but the actor is already destroyed."
     ]
    },
    {
     "ename": "RuntimeError",
     "evalue": "trying to operate on a destroyed actor; an actor's function was called, but the actor is already destroyed.",
     "output_type": "error",
     "traceback": [
      "\u001B[1;31m---------------------------------------------------------------------------\u001B[0m",
      "\u001B[1;31mRuntimeError\u001B[0m                              Traceback (most recent call last)",
      "\u001B[1;32m~\\AppData\\Local\\Temp\\ipykernel_14048\\1618723859.py\u001B[0m in \u001B[0;36m<lambda>\u001B[1;34m(image)\u001B[0m\n\u001B[0;32m     37\u001B[0m \u001B[1;33m\u001B[0m\u001B[0m\n\u001B[0;32m     38\u001B[0m \u001B[1;31m# Conectar la función de devolución de llamada a la cámara frontal del espejo (mirror)\u001B[0m\u001B[1;33m\u001B[0m\u001B[1;33m\u001B[0m\u001B[1;33m\u001B[0m\u001B[0m\n\u001B[1;32m---> 39\u001B[1;33m \u001B[0mcamera_mirror\u001B[0m\u001B[1;33m.\u001B[0m\u001B[0mlisten\u001B[0m\u001B[1;33m(\u001B[0m\u001B[1;32mlambda\u001B[0m \u001B[0mimage\u001B[0m\u001B[1;33m:\u001B[0m \u001B[0mcapture_image\u001B[0m\u001B[1;33m(\u001B[0m\u001B[0mimage\u001B[0m\u001B[1;33m,\u001B[0m \u001B[0mmirror_image_path\u001B[0m\u001B[1;33m)\u001B[0m\u001B[1;33m)\u001B[0m\u001B[1;33m\u001B[0m\u001B[1;33m\u001B[0m\u001B[0m\n\u001B[0m\u001B[0;32m     40\u001B[0m \u001B[1;33m\u001B[0m\u001B[0m\n",
      "\u001B[1;32m~\\AppData\\Local\\Temp\\ipykernel_14048\\1618723859.py\u001B[0m in \u001B[0;36mcapture_image\u001B[1;34m(image, image_path)\u001B[0m\n\u001B[0;32m     31\u001B[0m     \u001B[1;31m# Guardar la imagen en la ruta especificada\u001B[0m\u001B[1;33m\u001B[0m\u001B[1;33m\u001B[0m\u001B[1;33m\u001B[0m\u001B[0m\n\u001B[0;32m     32\u001B[0m     \u001B[0mcv2\u001B[0m\u001B[1;33m.\u001B[0m\u001B[0mimwrite\u001B[0m\u001B[1;33m(\u001B[0m\u001B[0mimage_path\u001B[0m\u001B[1;33m,\u001B[0m \u001B[0mimage_bgr\u001B[0m\u001B[1;33m)\u001B[0m\u001B[1;33m\u001B[0m\u001B[1;33m\u001B[0m\u001B[0m\n\u001B[1;32m---> 33\u001B[1;33m     \u001B[0mcamera\u001B[0m\u001B[1;33m.\u001B[0m\u001B[0mdestroy\u001B[0m\u001B[1;33m(\u001B[0m\u001B[1;33m)\u001B[0m\u001B[1;33m\u001B[0m\u001B[1;33m\u001B[0m\u001B[0m\n\u001B[0m\u001B[0;32m     34\u001B[0m \u001B[1;33m\u001B[0m\u001B[0m\n\u001B[0;32m     35\u001B[0m \u001B[1;31m# Conectar la función de devolución de llamada a la cámara frontal (hood)\u001B[0m\u001B[1;33m\u001B[0m\u001B[1;33m\u001B[0m\u001B[1;33m\u001B[0m\u001B[0m\n",
      "\u001B[1;31mRuntimeError\u001B[0m: trying to operate on a destroyed actor; an actor's function was called, but the actor is already destroyed."
     ]
    },
    {
     "ename": "RuntimeError",
     "evalue": "trying to operate on a destroyed actor; an actor's function was called, but the actor is already destroyed.",
     "output_type": "error",
     "traceback": [
      "\u001B[1;31m---------------------------------------------------------------------------\u001B[0m",
      "\u001B[1;31mRuntimeError\u001B[0m                              Traceback (most recent call last)",
      "\u001B[1;32m~\\AppData\\Local\\Temp\\ipykernel_14048\\1618723859.py\u001B[0m in \u001B[0;36m<lambda>\u001B[1;34m(image)\u001B[0m\n\u001B[0;32m     34\u001B[0m \u001B[1;33m\u001B[0m\u001B[0m\n\u001B[0;32m     35\u001B[0m \u001B[1;31m# Conectar la función de devolución de llamada a la cámara frontal (hood)\u001B[0m\u001B[1;33m\u001B[0m\u001B[1;33m\u001B[0m\u001B[1;33m\u001B[0m\u001B[0m\n\u001B[1;32m---> 36\u001B[1;33m \u001B[0mcamera_hood\u001B[0m\u001B[1;33m.\u001B[0m\u001B[0mlisten\u001B[0m\u001B[1;33m(\u001B[0m\u001B[1;32mlambda\u001B[0m \u001B[0mimage\u001B[0m\u001B[1;33m:\u001B[0m \u001B[0mcapture_image\u001B[0m\u001B[1;33m(\u001B[0m\u001B[0mimage\u001B[0m\u001B[1;33m,\u001B[0m \u001B[0mhood_image_path\u001B[0m\u001B[1;33m)\u001B[0m\u001B[1;33m)\u001B[0m\u001B[1;33m\u001B[0m\u001B[1;33m\u001B[0m\u001B[0m\n\u001B[0m\u001B[0;32m     37\u001B[0m \u001B[1;33m\u001B[0m\u001B[0m\n\u001B[0;32m     38\u001B[0m \u001B[1;31m# Conectar la función de devolución de llamada a la cámara frontal del espejo (mirror)\u001B[0m\u001B[1;33m\u001B[0m\u001B[1;33m\u001B[0m\u001B[1;33m\u001B[0m\u001B[0m\n",
      "\u001B[1;32m~\\AppData\\Local\\Temp\\ipykernel_14048\\1618723859.py\u001B[0m in \u001B[0;36mcapture_image\u001B[1;34m(image, image_path)\u001B[0m\n\u001B[0;32m     31\u001B[0m     \u001B[1;31m# Guardar la imagen en la ruta especificada\u001B[0m\u001B[1;33m\u001B[0m\u001B[1;33m\u001B[0m\u001B[1;33m\u001B[0m\u001B[0m\n\u001B[0;32m     32\u001B[0m     \u001B[0mcv2\u001B[0m\u001B[1;33m.\u001B[0m\u001B[0mimwrite\u001B[0m\u001B[1;33m(\u001B[0m\u001B[0mimage_path\u001B[0m\u001B[1;33m,\u001B[0m \u001B[0mimage_bgr\u001B[0m\u001B[1;33m)\u001B[0m\u001B[1;33m\u001B[0m\u001B[1;33m\u001B[0m\u001B[0m\n\u001B[1;32m---> 33\u001B[1;33m     \u001B[0mcamera\u001B[0m\u001B[1;33m.\u001B[0m\u001B[0mdestroy\u001B[0m\u001B[1;33m(\u001B[0m\u001B[1;33m)\u001B[0m\u001B[1;33m\u001B[0m\u001B[1;33m\u001B[0m\u001B[0m\n\u001B[0m\u001B[0;32m     34\u001B[0m \u001B[1;33m\u001B[0m\u001B[0m\n\u001B[0;32m     35\u001B[0m \u001B[1;31m# Conectar la función de devolución de llamada a la cámara frontal (hood)\u001B[0m\u001B[1;33m\u001B[0m\u001B[1;33m\u001B[0m\u001B[1;33m\u001B[0m\u001B[0m\n",
      "\u001B[1;31mRuntimeError\u001B[0m: trying to operate on a destroyed actor; an actor's function was called, but the actor is already destroyed."
     ]
    },
    {
     "ename": "RuntimeError",
     "evalue": "trying to operate on a destroyed actor; an actor's function was called, but the actor is already destroyed.",
     "output_type": "error",
     "traceback": [
      "\u001B[1;31m---------------------------------------------------------------------------\u001B[0m",
      "\u001B[1;31mRuntimeError\u001B[0m                              Traceback (most recent call last)",
      "\u001B[1;32m~\\AppData\\Local\\Temp\\ipykernel_14048\\1618723859.py\u001B[0m in \u001B[0;36m<lambda>\u001B[1;34m(image)\u001B[0m\n\u001B[0;32m     37\u001B[0m \u001B[1;33m\u001B[0m\u001B[0m\n\u001B[0;32m     38\u001B[0m \u001B[1;31m# Conectar la función de devolución de llamada a la cámara frontal del espejo (mirror)\u001B[0m\u001B[1;33m\u001B[0m\u001B[1;33m\u001B[0m\u001B[1;33m\u001B[0m\u001B[0m\n\u001B[1;32m---> 39\u001B[1;33m \u001B[0mcamera_mirror\u001B[0m\u001B[1;33m.\u001B[0m\u001B[0mlisten\u001B[0m\u001B[1;33m(\u001B[0m\u001B[1;32mlambda\u001B[0m \u001B[0mimage\u001B[0m\u001B[1;33m:\u001B[0m \u001B[0mcapture_image\u001B[0m\u001B[1;33m(\u001B[0m\u001B[0mimage\u001B[0m\u001B[1;33m,\u001B[0m \u001B[0mmirror_image_path\u001B[0m\u001B[1;33m)\u001B[0m\u001B[1;33m)\u001B[0m\u001B[1;33m\u001B[0m\u001B[1;33m\u001B[0m\u001B[0m\n\u001B[0m\u001B[0;32m     40\u001B[0m \u001B[1;33m\u001B[0m\u001B[0m\n",
      "\u001B[1;32m~\\AppData\\Local\\Temp\\ipykernel_14048\\1618723859.py\u001B[0m in \u001B[0;36mcapture_image\u001B[1;34m(image, image_path)\u001B[0m\n\u001B[0;32m     31\u001B[0m     \u001B[1;31m# Guardar la imagen en la ruta especificada\u001B[0m\u001B[1;33m\u001B[0m\u001B[1;33m\u001B[0m\u001B[1;33m\u001B[0m\u001B[0m\n\u001B[0;32m     32\u001B[0m     \u001B[0mcv2\u001B[0m\u001B[1;33m.\u001B[0m\u001B[0mimwrite\u001B[0m\u001B[1;33m(\u001B[0m\u001B[0mimage_path\u001B[0m\u001B[1;33m,\u001B[0m \u001B[0mimage_bgr\u001B[0m\u001B[1;33m)\u001B[0m\u001B[1;33m\u001B[0m\u001B[1;33m\u001B[0m\u001B[0m\n\u001B[1;32m---> 33\u001B[1;33m     \u001B[0mcamera\u001B[0m\u001B[1;33m.\u001B[0m\u001B[0mdestroy\u001B[0m\u001B[1;33m(\u001B[0m\u001B[1;33m)\u001B[0m\u001B[1;33m\u001B[0m\u001B[1;33m\u001B[0m\u001B[0m\n\u001B[0m\u001B[0;32m     34\u001B[0m \u001B[1;33m\u001B[0m\u001B[0m\n\u001B[0;32m     35\u001B[0m \u001B[1;31m# Conectar la función de devolución de llamada a la cámara frontal (hood)\u001B[0m\u001B[1;33m\u001B[0m\u001B[1;33m\u001B[0m\u001B[1;33m\u001B[0m\u001B[0m\n",
      "\u001B[1;31mRuntimeError\u001B[0m: trying to operate on a destroyed actor; an actor's function was called, but the actor is already destroyed."
     ]
    },
    {
     "ename": "RuntimeError",
     "evalue": "trying to operate on a destroyed actor; an actor's function was called, but the actor is already destroyed.",
     "output_type": "error",
     "traceback": [
      "\u001B[1;31m---------------------------------------------------------------------------\u001B[0m",
      "\u001B[1;31mRuntimeError\u001B[0m                              Traceback (most recent call last)",
      "\u001B[1;32m~\\AppData\\Local\\Temp\\ipykernel_14048\\1618723859.py\u001B[0m in \u001B[0;36m<lambda>\u001B[1;34m(image)\u001B[0m\n\u001B[0;32m     34\u001B[0m \u001B[1;33m\u001B[0m\u001B[0m\n\u001B[0;32m     35\u001B[0m \u001B[1;31m# Conectar la función de devolución de llamada a la cámara frontal (hood)\u001B[0m\u001B[1;33m\u001B[0m\u001B[1;33m\u001B[0m\u001B[1;33m\u001B[0m\u001B[0m\n\u001B[1;32m---> 36\u001B[1;33m \u001B[0mcamera_hood\u001B[0m\u001B[1;33m.\u001B[0m\u001B[0mlisten\u001B[0m\u001B[1;33m(\u001B[0m\u001B[1;32mlambda\u001B[0m \u001B[0mimage\u001B[0m\u001B[1;33m:\u001B[0m \u001B[0mcapture_image\u001B[0m\u001B[1;33m(\u001B[0m\u001B[0mimage\u001B[0m\u001B[1;33m,\u001B[0m \u001B[0mhood_image_path\u001B[0m\u001B[1;33m)\u001B[0m\u001B[1;33m)\u001B[0m\u001B[1;33m\u001B[0m\u001B[1;33m\u001B[0m\u001B[0m\n\u001B[0m\u001B[0;32m     37\u001B[0m \u001B[1;33m\u001B[0m\u001B[0m\n\u001B[0;32m     38\u001B[0m \u001B[1;31m# Conectar la función de devolución de llamada a la cámara frontal del espejo (mirror)\u001B[0m\u001B[1;33m\u001B[0m\u001B[1;33m\u001B[0m\u001B[1;33m\u001B[0m\u001B[0m\n",
      "\u001B[1;32m~\\AppData\\Local\\Temp\\ipykernel_14048\\1618723859.py\u001B[0m in \u001B[0;36mcapture_image\u001B[1;34m(image, image_path)\u001B[0m\n\u001B[0;32m     31\u001B[0m     \u001B[1;31m# Guardar la imagen en la ruta especificada\u001B[0m\u001B[1;33m\u001B[0m\u001B[1;33m\u001B[0m\u001B[1;33m\u001B[0m\u001B[0m\n\u001B[0;32m     32\u001B[0m     \u001B[0mcv2\u001B[0m\u001B[1;33m.\u001B[0m\u001B[0mimwrite\u001B[0m\u001B[1;33m(\u001B[0m\u001B[0mimage_path\u001B[0m\u001B[1;33m,\u001B[0m \u001B[0mimage_bgr\u001B[0m\u001B[1;33m)\u001B[0m\u001B[1;33m\u001B[0m\u001B[1;33m\u001B[0m\u001B[0m\n\u001B[1;32m---> 33\u001B[1;33m     \u001B[0mcamera\u001B[0m\u001B[1;33m.\u001B[0m\u001B[0mdestroy\u001B[0m\u001B[1;33m(\u001B[0m\u001B[1;33m)\u001B[0m\u001B[1;33m\u001B[0m\u001B[1;33m\u001B[0m\u001B[0m\n\u001B[0m\u001B[0;32m     34\u001B[0m \u001B[1;33m\u001B[0m\u001B[0m\n\u001B[0;32m     35\u001B[0m \u001B[1;31m# Conectar la función de devolución de llamada a la cámara frontal (hood)\u001B[0m\u001B[1;33m\u001B[0m\u001B[1;33m\u001B[0m\u001B[1;33m\u001B[0m\u001B[0m\n",
      "\u001B[1;31mRuntimeError\u001B[0m: trying to operate on a destroyed actor; an actor's function was called, but the actor is already destroyed."
     ]
    },
    {
     "ename": "RuntimeError",
     "evalue": "trying to operate on a destroyed actor; an actor's function was called, but the actor is already destroyed.",
     "output_type": "error",
     "traceback": [
      "\u001B[1;31m---------------------------------------------------------------------------\u001B[0m",
      "\u001B[1;31mRuntimeError\u001B[0m                              Traceback (most recent call last)",
      "\u001B[1;32m~\\AppData\\Local\\Temp\\ipykernel_14048\\1618723859.py\u001B[0m in \u001B[0;36m<lambda>\u001B[1;34m(image)\u001B[0m\n\u001B[0;32m     37\u001B[0m \u001B[1;33m\u001B[0m\u001B[0m\n\u001B[0;32m     38\u001B[0m \u001B[1;31m# Conectar la función de devolución de llamada a la cámara frontal del espejo (mirror)\u001B[0m\u001B[1;33m\u001B[0m\u001B[1;33m\u001B[0m\u001B[1;33m\u001B[0m\u001B[0m\n\u001B[1;32m---> 39\u001B[1;33m \u001B[0mcamera_mirror\u001B[0m\u001B[1;33m.\u001B[0m\u001B[0mlisten\u001B[0m\u001B[1;33m(\u001B[0m\u001B[1;32mlambda\u001B[0m \u001B[0mimage\u001B[0m\u001B[1;33m:\u001B[0m \u001B[0mcapture_image\u001B[0m\u001B[1;33m(\u001B[0m\u001B[0mimage\u001B[0m\u001B[1;33m,\u001B[0m \u001B[0mmirror_image_path\u001B[0m\u001B[1;33m)\u001B[0m\u001B[1;33m)\u001B[0m\u001B[1;33m\u001B[0m\u001B[1;33m\u001B[0m\u001B[0m\n\u001B[0m\u001B[0;32m     40\u001B[0m \u001B[1;33m\u001B[0m\u001B[0m\n",
      "\u001B[1;32m~\\AppData\\Local\\Temp\\ipykernel_14048\\1618723859.py\u001B[0m in \u001B[0;36mcapture_image\u001B[1;34m(image, image_path)\u001B[0m\n\u001B[0;32m     31\u001B[0m     \u001B[1;31m# Guardar la imagen en la ruta especificada\u001B[0m\u001B[1;33m\u001B[0m\u001B[1;33m\u001B[0m\u001B[1;33m\u001B[0m\u001B[0m\n\u001B[0;32m     32\u001B[0m     \u001B[0mcv2\u001B[0m\u001B[1;33m.\u001B[0m\u001B[0mimwrite\u001B[0m\u001B[1;33m(\u001B[0m\u001B[0mimage_path\u001B[0m\u001B[1;33m,\u001B[0m \u001B[0mimage_bgr\u001B[0m\u001B[1;33m)\u001B[0m\u001B[1;33m\u001B[0m\u001B[1;33m\u001B[0m\u001B[0m\n\u001B[1;32m---> 33\u001B[1;33m     \u001B[0mcamera\u001B[0m\u001B[1;33m.\u001B[0m\u001B[0mdestroy\u001B[0m\u001B[1;33m(\u001B[0m\u001B[1;33m)\u001B[0m\u001B[1;33m\u001B[0m\u001B[1;33m\u001B[0m\u001B[0m\n\u001B[0m\u001B[0;32m     34\u001B[0m \u001B[1;33m\u001B[0m\u001B[0m\n\u001B[0;32m     35\u001B[0m \u001B[1;31m# Conectar la función de devolución de llamada a la cámara frontal (hood)\u001B[0m\u001B[1;33m\u001B[0m\u001B[1;33m\u001B[0m\u001B[1;33m\u001B[0m\u001B[0m\n",
      "\u001B[1;31mRuntimeError\u001B[0m: trying to operate on a destroyed actor; an actor's function was called, but the actor is already destroyed."
     ]
    },
    {
     "ename": "RuntimeError",
     "evalue": "trying to operate on a destroyed actor; an actor's function was called, but the actor is already destroyed.",
     "output_type": "error",
     "traceback": [
      "\u001B[1;31m---------------------------------------------------------------------------\u001B[0m",
      "\u001B[1;31mRuntimeError\u001B[0m                              Traceback (most recent call last)",
      "\u001B[1;32m~\\AppData\\Local\\Temp\\ipykernel_14048\\1618723859.py\u001B[0m in \u001B[0;36m<lambda>\u001B[1;34m(image)\u001B[0m\n\u001B[0;32m     34\u001B[0m \u001B[1;33m\u001B[0m\u001B[0m\n\u001B[0;32m     35\u001B[0m \u001B[1;31m# Conectar la función de devolución de llamada a la cámara frontal (hood)\u001B[0m\u001B[1;33m\u001B[0m\u001B[1;33m\u001B[0m\u001B[1;33m\u001B[0m\u001B[0m\n\u001B[1;32m---> 36\u001B[1;33m \u001B[0mcamera_hood\u001B[0m\u001B[1;33m.\u001B[0m\u001B[0mlisten\u001B[0m\u001B[1;33m(\u001B[0m\u001B[1;32mlambda\u001B[0m \u001B[0mimage\u001B[0m\u001B[1;33m:\u001B[0m \u001B[0mcapture_image\u001B[0m\u001B[1;33m(\u001B[0m\u001B[0mimage\u001B[0m\u001B[1;33m,\u001B[0m \u001B[0mhood_image_path\u001B[0m\u001B[1;33m)\u001B[0m\u001B[1;33m)\u001B[0m\u001B[1;33m\u001B[0m\u001B[1;33m\u001B[0m\u001B[0m\n\u001B[0m\u001B[0;32m     37\u001B[0m \u001B[1;33m\u001B[0m\u001B[0m\n\u001B[0;32m     38\u001B[0m \u001B[1;31m# Conectar la función de devolución de llamada a la cámara frontal del espejo (mirror)\u001B[0m\u001B[1;33m\u001B[0m\u001B[1;33m\u001B[0m\u001B[1;33m\u001B[0m\u001B[0m\n",
      "\u001B[1;32m~\\AppData\\Local\\Temp\\ipykernel_14048\\1618723859.py\u001B[0m in \u001B[0;36mcapture_image\u001B[1;34m(image, image_path)\u001B[0m\n\u001B[0;32m     31\u001B[0m     \u001B[1;31m# Guardar la imagen en la ruta especificada\u001B[0m\u001B[1;33m\u001B[0m\u001B[1;33m\u001B[0m\u001B[1;33m\u001B[0m\u001B[0m\n\u001B[0;32m     32\u001B[0m     \u001B[0mcv2\u001B[0m\u001B[1;33m.\u001B[0m\u001B[0mimwrite\u001B[0m\u001B[1;33m(\u001B[0m\u001B[0mimage_path\u001B[0m\u001B[1;33m,\u001B[0m \u001B[0mimage_bgr\u001B[0m\u001B[1;33m)\u001B[0m\u001B[1;33m\u001B[0m\u001B[1;33m\u001B[0m\u001B[0m\n\u001B[1;32m---> 33\u001B[1;33m     \u001B[0mcamera\u001B[0m\u001B[1;33m.\u001B[0m\u001B[0mdestroy\u001B[0m\u001B[1;33m(\u001B[0m\u001B[1;33m)\u001B[0m\u001B[1;33m\u001B[0m\u001B[1;33m\u001B[0m\u001B[0m\n\u001B[0m\u001B[0;32m     34\u001B[0m \u001B[1;33m\u001B[0m\u001B[0m\n\u001B[0;32m     35\u001B[0m \u001B[1;31m# Conectar la función de devolución de llamada a la cámara frontal (hood)\u001B[0m\u001B[1;33m\u001B[0m\u001B[1;33m\u001B[0m\u001B[1;33m\u001B[0m\u001B[0m\n",
      "\u001B[1;31mRuntimeError\u001B[0m: trying to operate on a destroyed actor; an actor's function was called, but the actor is already destroyed."
     ]
    },
    {
     "ename": "RuntimeError",
     "evalue": "trying to operate on a destroyed actor; an actor's function was called, but the actor is already destroyed.",
     "output_type": "error",
     "traceback": [
      "\u001B[1;31m---------------------------------------------------------------------------\u001B[0m",
      "\u001B[1;31mRuntimeError\u001B[0m                              Traceback (most recent call last)",
      "\u001B[1;32m~\\AppData\\Local\\Temp\\ipykernel_14048\\1618723859.py\u001B[0m in \u001B[0;36m<lambda>\u001B[1;34m(image)\u001B[0m\n\u001B[0;32m     37\u001B[0m \u001B[1;33m\u001B[0m\u001B[0m\n\u001B[0;32m     38\u001B[0m \u001B[1;31m# Conectar la función de devolución de llamada a la cámara frontal del espejo (mirror)\u001B[0m\u001B[1;33m\u001B[0m\u001B[1;33m\u001B[0m\u001B[1;33m\u001B[0m\u001B[0m\n\u001B[1;32m---> 39\u001B[1;33m \u001B[0mcamera_mirror\u001B[0m\u001B[1;33m.\u001B[0m\u001B[0mlisten\u001B[0m\u001B[1;33m(\u001B[0m\u001B[1;32mlambda\u001B[0m \u001B[0mimage\u001B[0m\u001B[1;33m:\u001B[0m \u001B[0mcapture_image\u001B[0m\u001B[1;33m(\u001B[0m\u001B[0mimage\u001B[0m\u001B[1;33m,\u001B[0m \u001B[0mmirror_image_path\u001B[0m\u001B[1;33m)\u001B[0m\u001B[1;33m)\u001B[0m\u001B[1;33m\u001B[0m\u001B[1;33m\u001B[0m\u001B[0m\n\u001B[0m\u001B[0;32m     40\u001B[0m \u001B[1;33m\u001B[0m\u001B[0m\n",
      "\u001B[1;32m~\\AppData\\Local\\Temp\\ipykernel_14048\\1618723859.py\u001B[0m in \u001B[0;36mcapture_image\u001B[1;34m(image, image_path)\u001B[0m\n\u001B[0;32m     31\u001B[0m     \u001B[1;31m# Guardar la imagen en la ruta especificada\u001B[0m\u001B[1;33m\u001B[0m\u001B[1;33m\u001B[0m\u001B[1;33m\u001B[0m\u001B[0m\n\u001B[0;32m     32\u001B[0m     \u001B[0mcv2\u001B[0m\u001B[1;33m.\u001B[0m\u001B[0mimwrite\u001B[0m\u001B[1;33m(\u001B[0m\u001B[0mimage_path\u001B[0m\u001B[1;33m,\u001B[0m \u001B[0mimage_bgr\u001B[0m\u001B[1;33m)\u001B[0m\u001B[1;33m\u001B[0m\u001B[1;33m\u001B[0m\u001B[0m\n\u001B[1;32m---> 33\u001B[1;33m     \u001B[0mcamera\u001B[0m\u001B[1;33m.\u001B[0m\u001B[0mdestroy\u001B[0m\u001B[1;33m(\u001B[0m\u001B[1;33m)\u001B[0m\u001B[1;33m\u001B[0m\u001B[1;33m\u001B[0m\u001B[0m\n\u001B[0m\u001B[0;32m     34\u001B[0m \u001B[1;33m\u001B[0m\u001B[0m\n\u001B[0;32m     35\u001B[0m \u001B[1;31m# Conectar la función de devolución de llamada a la cámara frontal (hood)\u001B[0m\u001B[1;33m\u001B[0m\u001B[1;33m\u001B[0m\u001B[1;33m\u001B[0m\u001B[0m\n",
      "\u001B[1;31mRuntimeError\u001B[0m: trying to operate on a destroyed actor; an actor's function was called, but the actor is already destroyed."
     ]
    },
    {
     "ename": "RuntimeError",
     "evalue": "trying to operate on a destroyed actor; an actor's function was called, but the actor is already destroyed.",
     "output_type": "error",
     "traceback": [
      "\u001B[1;31m---------------------------------------------------------------------------\u001B[0m",
      "\u001B[1;31mRuntimeError\u001B[0m                              Traceback (most recent call last)",
      "\u001B[1;32m~\\AppData\\Local\\Temp\\ipykernel_14048\\1618723859.py\u001B[0m in \u001B[0;36m<lambda>\u001B[1;34m(image)\u001B[0m\n\u001B[0;32m     34\u001B[0m \u001B[1;33m\u001B[0m\u001B[0m\n\u001B[0;32m     35\u001B[0m \u001B[1;31m# Conectar la función de devolución de llamada a la cámara frontal (hood)\u001B[0m\u001B[1;33m\u001B[0m\u001B[1;33m\u001B[0m\u001B[1;33m\u001B[0m\u001B[0m\n\u001B[1;32m---> 36\u001B[1;33m \u001B[0mcamera_hood\u001B[0m\u001B[1;33m.\u001B[0m\u001B[0mlisten\u001B[0m\u001B[1;33m(\u001B[0m\u001B[1;32mlambda\u001B[0m \u001B[0mimage\u001B[0m\u001B[1;33m:\u001B[0m \u001B[0mcapture_image\u001B[0m\u001B[1;33m(\u001B[0m\u001B[0mimage\u001B[0m\u001B[1;33m,\u001B[0m \u001B[0mhood_image_path\u001B[0m\u001B[1;33m)\u001B[0m\u001B[1;33m)\u001B[0m\u001B[1;33m\u001B[0m\u001B[1;33m\u001B[0m\u001B[0m\n\u001B[0m\u001B[0;32m     37\u001B[0m \u001B[1;33m\u001B[0m\u001B[0m\n\u001B[0;32m     38\u001B[0m \u001B[1;31m# Conectar la función de devolución de llamada a la cámara frontal del espejo (mirror)\u001B[0m\u001B[1;33m\u001B[0m\u001B[1;33m\u001B[0m\u001B[1;33m\u001B[0m\u001B[0m\n",
      "\u001B[1;32m~\\AppData\\Local\\Temp\\ipykernel_14048\\1618723859.py\u001B[0m in \u001B[0;36mcapture_image\u001B[1;34m(image, image_path)\u001B[0m\n\u001B[0;32m     31\u001B[0m     \u001B[1;31m# Guardar la imagen en la ruta especificada\u001B[0m\u001B[1;33m\u001B[0m\u001B[1;33m\u001B[0m\u001B[1;33m\u001B[0m\u001B[0m\n\u001B[0;32m     32\u001B[0m     \u001B[0mcv2\u001B[0m\u001B[1;33m.\u001B[0m\u001B[0mimwrite\u001B[0m\u001B[1;33m(\u001B[0m\u001B[0mimage_path\u001B[0m\u001B[1;33m,\u001B[0m \u001B[0mimage_bgr\u001B[0m\u001B[1;33m)\u001B[0m\u001B[1;33m\u001B[0m\u001B[1;33m\u001B[0m\u001B[0m\n\u001B[1;32m---> 33\u001B[1;33m     \u001B[0mcamera\u001B[0m\u001B[1;33m.\u001B[0m\u001B[0mdestroy\u001B[0m\u001B[1;33m(\u001B[0m\u001B[1;33m)\u001B[0m\u001B[1;33m\u001B[0m\u001B[1;33m\u001B[0m\u001B[0m\n\u001B[0m\u001B[0;32m     34\u001B[0m \u001B[1;33m\u001B[0m\u001B[0m\n\u001B[0;32m     35\u001B[0m \u001B[1;31m# Conectar la función de devolución de llamada a la cámara frontal (hood)\u001B[0m\u001B[1;33m\u001B[0m\u001B[1;33m\u001B[0m\u001B[1;33m\u001B[0m\u001B[0m\n",
      "\u001B[1;31mRuntimeError\u001B[0m: trying to operate on a destroyed actor; an actor's function was called, but the actor is already destroyed."
     ]
    },
    {
     "ename": "RuntimeError",
     "evalue": "trying to operate on a destroyed actor; an actor's function was called, but the actor is already destroyed.",
     "output_type": "error",
     "traceback": [
      "\u001B[1;31m---------------------------------------------------------------------------\u001B[0m",
      "\u001B[1;31mRuntimeError\u001B[0m                              Traceback (most recent call last)",
      "\u001B[1;32m~\\AppData\\Local\\Temp\\ipykernel_14048\\1618723859.py\u001B[0m in \u001B[0;36m<lambda>\u001B[1;34m(image)\u001B[0m\n\u001B[0;32m     37\u001B[0m \u001B[1;33m\u001B[0m\u001B[0m\n\u001B[0;32m     38\u001B[0m \u001B[1;31m# Conectar la función de devolución de llamada a la cámara frontal del espejo (mirror)\u001B[0m\u001B[1;33m\u001B[0m\u001B[1;33m\u001B[0m\u001B[1;33m\u001B[0m\u001B[0m\n\u001B[1;32m---> 39\u001B[1;33m \u001B[0mcamera_mirror\u001B[0m\u001B[1;33m.\u001B[0m\u001B[0mlisten\u001B[0m\u001B[1;33m(\u001B[0m\u001B[1;32mlambda\u001B[0m \u001B[0mimage\u001B[0m\u001B[1;33m:\u001B[0m \u001B[0mcapture_image\u001B[0m\u001B[1;33m(\u001B[0m\u001B[0mimage\u001B[0m\u001B[1;33m,\u001B[0m \u001B[0mmirror_image_path\u001B[0m\u001B[1;33m)\u001B[0m\u001B[1;33m)\u001B[0m\u001B[1;33m\u001B[0m\u001B[1;33m\u001B[0m\u001B[0m\n\u001B[0m\u001B[0;32m     40\u001B[0m \u001B[1;33m\u001B[0m\u001B[0m\n",
      "\u001B[1;32m~\\AppData\\Local\\Temp\\ipykernel_14048\\1618723859.py\u001B[0m in \u001B[0;36mcapture_image\u001B[1;34m(image, image_path)\u001B[0m\n\u001B[0;32m     31\u001B[0m     \u001B[1;31m# Guardar la imagen en la ruta especificada\u001B[0m\u001B[1;33m\u001B[0m\u001B[1;33m\u001B[0m\u001B[1;33m\u001B[0m\u001B[0m\n\u001B[0;32m     32\u001B[0m     \u001B[0mcv2\u001B[0m\u001B[1;33m.\u001B[0m\u001B[0mimwrite\u001B[0m\u001B[1;33m(\u001B[0m\u001B[0mimage_path\u001B[0m\u001B[1;33m,\u001B[0m \u001B[0mimage_bgr\u001B[0m\u001B[1;33m)\u001B[0m\u001B[1;33m\u001B[0m\u001B[1;33m\u001B[0m\u001B[0m\n\u001B[1;32m---> 33\u001B[1;33m     \u001B[0mcamera\u001B[0m\u001B[1;33m.\u001B[0m\u001B[0mdestroy\u001B[0m\u001B[1;33m(\u001B[0m\u001B[1;33m)\u001B[0m\u001B[1;33m\u001B[0m\u001B[1;33m\u001B[0m\u001B[0m\n\u001B[0m\u001B[0;32m     34\u001B[0m \u001B[1;33m\u001B[0m\u001B[0m\n\u001B[0;32m     35\u001B[0m \u001B[1;31m# Conectar la función de devolución de llamada a la cámara frontal (hood)\u001B[0m\u001B[1;33m\u001B[0m\u001B[1;33m\u001B[0m\u001B[1;33m\u001B[0m\u001B[0m\n",
      "\u001B[1;31mRuntimeError\u001B[0m: trying to operate on a destroyed actor; an actor's function was called, but the actor is already destroyed."
     ]
    }
   ],
   "execution_count": 77
  },
  {
   "metadata": {
    "ExecuteTime": {
     "end_time": "2024-04-29T05:00:57.367555Z",
     "start_time": "2024-04-29T05:00:57.352922Z"
    }
   },
   "cell_type": "code",
   "source": [
    "vehicle_pos = vehicle_tesla.get_transform()\n",
    "print(vehicle_pos)"
   ],
   "id": "1c58ef0bc257417c",
   "outputs": [
    {
     "ename": "NameError",
     "evalue": "name 'vehicle_tesla' is not defined",
     "output_type": "error",
     "traceback": [
      "\u001B[1;31m---------------------------------------------------------------------------\u001B[0m",
      "\u001B[1;31mNameError\u001B[0m                                 Traceback (most recent call last)",
      "\u001B[1;32m~\\AppData\\Local\\Temp\\ipykernel_5712\\1075215900.py\u001B[0m in \u001B[0;36m<module>\u001B[1;34m\u001B[0m\n\u001B[1;32m----> 1\u001B[1;33m \u001B[0mvehicle_pos\u001B[0m \u001B[1;33m=\u001B[0m \u001B[0mvehicle_tesla\u001B[0m\u001B[1;33m.\u001B[0m\u001B[0mget_transform\u001B[0m\u001B[1;33m(\u001B[0m\u001B[1;33m)\u001B[0m\u001B[1;33m\u001B[0m\u001B[1;33m\u001B[0m\u001B[0m\n\u001B[0m\u001B[0;32m      2\u001B[0m \u001B[0mprint\u001B[0m\u001B[1;33m(\u001B[0m\u001B[0mvehicle_pos\u001B[0m\u001B[1;33m)\u001B[0m\u001B[1;33m\u001B[0m\u001B[1;33m\u001B[0m\u001B[0m\n",
      "\u001B[1;31mNameError\u001B[0m: name 'vehicle_tesla' is not defined"
     ]
    }
   ],
   "execution_count": 107
  },
  {
   "metadata": {},
   "cell_type": "code",
   "outputs": [],
   "execution_count": 19,
   "source": "vehicle.set_autopilot(True)",
   "id": "80be846005a15934"
  },
  {
   "metadata": {},
   "cell_type": "code",
   "outputs": [],
   "execution_count": null,
   "source": "",
   "id": "7ccb7df4a122b955"
  }
 ],
 "metadata": {
  "kernelspec": {
   "display_name": "Python 3",
   "language": "python",
   "name": "python3"
  },
  "language_info": {
   "codemirror_mode": {
    "name": "ipython",
    "version": 2
   },
   "file_extension": ".py",
   "mimetype": "text/x-python",
   "name": "python",
   "nbconvert_exporter": "python",
   "pygments_lexer": "ipython2",
   "version": "2.7.6"
  }
 },
 "nbformat": 4,
 "nbformat_minor": 5
}
