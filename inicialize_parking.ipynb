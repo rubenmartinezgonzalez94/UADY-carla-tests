{
 "cells": [
  {
   "cell_type": "code",
   "id": "e89cd7e331a9646e",
   "metadata": {
    "collapsed": true,
    "ExecuteTime": {
     "end_time": "2024-04-29T06:38:16.974162Z",
     "start_time": "2024-04-29T06:38:16.790168Z"
    }
   },
   "source": [
    "import sys\n",
    "\n",
    "sys.path.append('E:/UADY/CARLA/CARLA_Latest/WindowsNoEditor/PythonAPI/carla')\n",
    "\n",
    "import carla\n",
    "import numpy as np\n",
    "import re\n",
    "import cv2"
   ],
   "outputs": [],
   "execution_count": 1
  },
  {
   "metadata": {
    "ExecuteTime": {
     "end_time": "2024-04-29T06:38:19.434892Z",
     "start_time": "2024-04-29T06:38:17.319015Z"
    }
   },
   "cell_type": "code",
   "source": [
    "client = carla.Client('localhost', 2000)\n",
    "world = client.get_world()"
   ],
   "id": "initial_id",
   "outputs": [],
   "execution_count": 2
  },
  {
   "metadata": {
    "ExecuteTime": {
     "end_time": "2024-04-29T05:55:37.011678Z",
     "start_time": "2024-04-29T05:55:31.891746Z"
    }
   },
   "cell_type": "code",
   "source": "client.load_world('Town05')",
   "id": "264b28db040ecc23",
   "outputs": [
    {
     "ename": "RuntimeError",
     "evalue": "time-out of 5000ms while waiting for the simulator, make sure the simulator is ready and connected to localhost:2000",
     "output_type": "error",
     "traceback": [
      "\u001B[1;31m---------------------------------------------------------------------------\u001B[0m",
      "\u001B[1;31mRuntimeError\u001B[0m                              Traceback (most recent call last)",
      "\u001B[1;32m~\\AppData\\Local\\Temp\\ipykernel_29376\\3421032779.py\u001B[0m in \u001B[0;36m<module>\u001B[1;34m\u001B[0m\n\u001B[1;32m----> 1\u001B[1;33m \u001B[0mclient\u001B[0m\u001B[1;33m.\u001B[0m\u001B[0mload_world\u001B[0m\u001B[1;33m(\u001B[0m\u001B[1;34m'Town05'\u001B[0m\u001B[1;33m)\u001B[0m\u001B[1;33m\u001B[0m\u001B[1;33m\u001B[0m\u001B[0m\n\u001B[0m",
      "\u001B[1;31mRuntimeError\u001B[0m: time-out of 5000ms while waiting for the simulator, make sure the simulator is ready and connected to localhost:2000"
     ]
    }
   ],
   "execution_count": 7
  },
  {
   "metadata": {
    "ExecuteTime": {
     "end_time": "2024-04-29T06:38:20.385056Z",
     "start_time": "2024-04-29T06:38:20.358022Z"
    }
   },
   "cell_type": "code",
   "source": [
    "car_tesla = world.get_blueprint_library().filter('*model3*')\n",
    "\n",
    "# vehicle_all = world.get_blueprint_library().filter('*vehicle*')\n",
    "# vehicle_tesla = world.try_spawn_actor(car_tesla[0], parking_points[1])\n",
    "\n",
    "# Expresión regular negativa para excluir múltiples patrones\n",
    "exclude_regex = re.compile(\n",
    "    r'.*(ambulance|fusorosa|vespa|kawasaki|crossbike|harley|micro|carlamotors|yamaha|gazelle|diamondback).*')\n",
    "\n",
    "# Filtrar los vehículos excluyendo los patrones especificados\n",
    "vehicle_all = [bp for bp in world.get_blueprint_library().filter('*vehicle*') if not exclude_regex.match(bp.id)]\n"
   ],
   "id": "2547db44f5e0a97c",
   "outputs": [],
   "execution_count": 3
  },
  {
   "metadata": {
    "ExecuteTime": {
     "end_time": "2024-04-29T06:38:21.135583Z",
     "start_time": "2024-04-29T06:38:21.118832Z"
    }
   },
   "cell_type": "code",
   "source": [
    "def is_available_parking():\n",
    "    return np.random.choice([False] + [True] * 2)  #probabily of parking"
   ],
   "id": "2447ba00040f32ef",
   "outputs": [],
   "execution_count": 4
  },
  {
   "metadata": {
    "ExecuteTime": {
     "end_time": "2024-04-29T06:38:21.509171Z",
     "start_time": "2024-04-29T06:38:21.503546Z"
    }
   },
   "cell_type": "code",
   "source": [
    "def generate_parking_points(lines_of_parking_x, lines_of_parking_y):\n",
    "    parking_points = []\n",
    "    for x in lines_of_parking_x:\n",
    "        for y in lines_of_parking_y:\n",
    "            if is_available_parking():\n",
    "                parking_points.append(\n",
    "                    carla.Transform(\n",
    "                        carla.Location(x=x, y=y, z=1),\n",
    "                        carla.Rotation(yaw=int(np.random.choice([0, 180])))\n",
    "                    )\n",
    "                )\n",
    "    return parking_points"
   ],
   "id": "f892e67ac0393c5",
   "outputs": [],
   "execution_count": 5
  },
  {
   "metadata": {
    "ExecuteTime": {
     "end_time": "2024-04-29T06:38:22.129516Z",
     "start_time": "2024-04-29T06:38:22.109155Z"
    }
   },
   "cell_type": "code",
   "source": [
    "parking_points = []\n",
    "lines_of_parking_x = [10, 3.5, -7.0, -13.0, -23, -29]\n",
    "lines_of_parking_y = [-18.8, -21.6, -24.4, -27.2, -30.0, -32.8, -35.6, -38.4, -41.2, -44.0]\n",
    "\n",
    "spectator_line = lines_of_parking_x[1]\n",
    "del lines_of_parking_x[1]\n",
    "parking_points = generate_parking_points(lines_of_parking_x, lines_of_parking_y)"
   ],
   "id": "5381fea2aa2a35be",
   "outputs": [],
   "execution_count": 6
  },
  {
   "metadata": {
    "ExecuteTime": {
     "end_time": "2024-04-29T06:38:36.572703Z",
     "start_time": "2024-04-29T06:38:36.420346Z"
    }
   },
   "cell_type": "code",
   "source": [
    "for point in parking_points:\n",
    "    ramdom_vehicle = np.random.choice(vehicle_all)\n",
    "    vehicle = world.try_spawn_actor(ramdom_vehicle, point)\n",
    "    # print(ramdom_vehicle.id)"
   ],
   "id": "af57b991e60a1242",
   "outputs": [],
   "execution_count": 9
  },
  {
   "metadata": {
    "ExecuteTime": {
     "end_time": "2024-04-29T06:38:41.648443Z",
     "start_time": "2024-04-29T06:38:41.635301Z"
    }
   },
   "cell_type": "code",
   "source": [
    "CAMERA_POS_Z = 3\n",
    "CAMERA_POS_X = -5\n",
    "\n",
    "camera_bp = world.get_blueprint_library().find('sensor.camera.rgb')\n",
    "camera_bp.set_attribute('image_size_x', '640')  # this ratio works in CARLA 9.14 on Windows\n",
    "camera_bp.set_attribute('image_size_y', '360')\n",
    "camera_init_trans = carla.Transform(carla.Location(z=CAMERA_POS_Z, x=CAMERA_POS_X))"
   ],
   "id": "b071c45e0c408f27",
   "outputs": [],
   "execution_count": 10
  },
  {
   "metadata": {
    "ExecuteTime": {
     "end_time": "2024-04-29T06:38:43.216760Z",
     "start_time": "2024-04-29T06:38:43.195023Z"
    }
   },
   "cell_type": "code",
   "source": [
    "# for y in lines_of_parking_y:\n",
    "check_parking_point = carla.Transform(\n",
    "    carla.Location(x=spectator_line, y=-30.0, z=1),\n",
    "    carla.Rotation(yaw=int(np.random.choice([0, 180])))\n",
    ")\n",
    "vehicle_tesla = world.try_spawn_actor(car_tesla[0], check_parking_point)\n",
    "\n",
    "\n",
    "# vehicle_tesla.destroy()"
   ],
   "id": "c42b55fe41c2318f",
   "outputs": [],
   "execution_count": 11
  },
  {
   "metadata": {
    "ExecuteTime": {
     "end_time": "2024-04-29T06:38:46.982962Z",
     "start_time": "2024-04-29T06:38:46.946050Z"
    }
   },
   "cell_type": "code",
   "source": [
    "CAMERA_POS_Z = 3\n",
    "CAMERA_POS_X = -5\n",
    "\n",
    "camera_bp = world.get_blueprint_library().find('sensor.camera.rgb')\n",
    "camera_bp.set_attribute('image_size_x', '640')\n",
    "camera_bp.set_attribute('image_size_y', '360')\n",
    "camera_init_trans = carla.Transform(carla.Location(z=CAMERA_POS_Z, x=CAMERA_POS_X))\n",
    "#this creates the camera in the sim\n",
    "camera = world.spawn_actor(camera_bp, camera_init_trans, attach_to=vehicle_tesla)\n",
    "\n",
    "\n",
    "def camera_callback(image, data_dict):\n",
    "    data_dict['image'] = np.reshape(np.copy(image.raw_data), (image.height, image.width, 4))\n",
    "\n",
    "\n",
    "image_w = camera_bp.get_attribute('image_size_x').as_int()\n",
    "image_h = camera_bp.get_attribute('image_size_y').as_int()\n",
    "\n",
    "camera_data = {'image': np.zeros((image_h, image_w, 4))}\n",
    "# this actually opens a live stream from the camera\n",
    "camera.listen(lambda image: camera_callback(image, camera_data))"
   ],
   "id": "17a33480f695fe70",
   "outputs": [],
   "execution_count": 12
  },
  {
   "metadata": {
    "ExecuteTime": {
     "end_time": "2024-04-29T06:38:48.273198Z",
     "start_time": "2024-04-29T06:38:48.246056Z"
    }
   },
   "cell_type": "code",
   "source": [
    "cv2.namedWindow('RGB Camera', cv2.WINDOW_AUTOSIZE)\n",
    "cv2.imshow('RGB Camera', camera_data['image'])"
   ],
   "id": "91aa9d01da55eb0e",
   "outputs": [],
   "execution_count": 13
  },
  {
   "metadata": {
    "ExecuteTime": {
     "end_time": "2024-04-29T06:38:29.462567Z",
     "start_time": "2024-04-29T06:38:29.300048Z"
    }
   },
   "cell_type": "code",
   "source": [
    "for actor in world.get_actors().filter('*vehicle*'):\n",
    "    actor.destroy()\n",
    "for sensor in world.get_actors().filter('*sensor*'):\n",
    "    sensor.destroy()\n"
   ],
   "id": "88d995574cd97c69",
   "outputs": [],
   "execution_count": 8
  },
  {
   "metadata": {
    "ExecuteTime": {
     "end_time": "2024-04-29T05:00:57.367555Z",
     "start_time": "2024-04-29T05:00:57.352922Z"
    }
   },
   "cell_type": "code",
   "source": [
    "vehicle_pos = vehicle_tesla.get_transform()\n",
    "print(vehicle_pos)"
   ],
   "id": "1c58ef0bc257417c",
   "outputs": [
    {
     "ename": "NameError",
     "evalue": "name 'vehicle_tesla' is not defined",
     "output_type": "error",
     "traceback": [
      "\u001B[1;31m---------------------------------------------------------------------------\u001B[0m",
      "\u001B[1;31mNameError\u001B[0m                                 Traceback (most recent call last)",
      "\u001B[1;32m~\\AppData\\Local\\Temp\\ipykernel_5712\\1075215900.py\u001B[0m in \u001B[0;36m<module>\u001B[1;34m\u001B[0m\n\u001B[1;32m----> 1\u001B[1;33m \u001B[0mvehicle_pos\u001B[0m \u001B[1;33m=\u001B[0m \u001B[0mvehicle_tesla\u001B[0m\u001B[1;33m.\u001B[0m\u001B[0mget_transform\u001B[0m\u001B[1;33m(\u001B[0m\u001B[1;33m)\u001B[0m\u001B[1;33m\u001B[0m\u001B[1;33m\u001B[0m\u001B[0m\n\u001B[0m\u001B[0;32m      2\u001B[0m \u001B[0mprint\u001B[0m\u001B[1;33m(\u001B[0m\u001B[0mvehicle_pos\u001B[0m\u001B[1;33m)\u001B[0m\u001B[1;33m\u001B[0m\u001B[1;33m\u001B[0m\u001B[0m\n",
      "\u001B[1;31mNameError\u001B[0m: name 'vehicle_tesla' is not defined"
     ]
    }
   ],
   "execution_count": 107
  },
  {
   "metadata": {},
   "cell_type": "code",
   "outputs": [],
   "execution_count": 19,
   "source": "vehicle.set_autopilot(True)",
   "id": "80be846005a15934"
  },
  {
   "metadata": {},
   "cell_type": "code",
   "outputs": [],
   "execution_count": null,
   "source": "",
   "id": "7ccb7df4a122b955"
  }
 ],
 "metadata": {
  "kernelspec": {
   "display_name": "Python 3",
   "language": "python",
   "name": "python3"
  },
  "language_info": {
   "codemirror_mode": {
    "name": "ipython",
    "version": 2
   },
   "file_extension": ".py",
   "mimetype": "text/x-python",
   "name": "python",
   "nbconvert_exporter": "python",
   "pygments_lexer": "ipython2",
   "version": "2.7.6"
  }
 },
 "nbformat": 4,
 "nbformat_minor": 5
}
