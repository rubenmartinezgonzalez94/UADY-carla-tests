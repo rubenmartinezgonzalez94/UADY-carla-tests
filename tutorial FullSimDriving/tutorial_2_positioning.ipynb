{
 "cells": [
  {
   "cell_type": "code",
   "execution_count": 2,
   "id": "84189703",
   "metadata": {
    "ExecuteTime": {
     "end_time": "2024-04-07T23:19:55.117167Z",
     "start_time": "2024-04-07T23:19:55.085579Z"
    }
   },
   "outputs": [],
   "source": [
    "#all imports\n",
    "import carla"
   ]
  },
  {
   "cell_type": "code",
   "execution_count": 3,
   "id": "708032ee297f62de",
   "metadata": {
    "collapsed": false,
    "ExecuteTime": {
     "end_time": "2024-04-07T23:19:58.011677Z",
     "start_time": "2024-04-07T23:19:55.795502Z"
    }
   },
   "outputs": [],
   "source": [
    "client = carla.Client('localhost', 2000)\n",
    "\n",
    "world = client.get_world()\n",
    "spawn_points = world.get_map().get_spawn_points()\n",
    "start_point = spawn_points[0]"
   ]
  },
  {
   "cell_type": "markdown",
   "source": [
    "BUSCA EL VEHICULO QUE QUIERAS USAR EN EL BLUEPRINT LIBRARY"
   ],
   "metadata": {
    "collapsed": false
   },
   "id": "9b25b443a804c818"
  },
  {
   "cell_type": "code",
   "outputs": [],
   "source": [
    "vehicle_bp = world.get_blueprint_library().filter('*firetruck*')\n",
    "vehicle = world.try_spawn_actor(vehicle_bp[0], start_point)"
   ],
   "metadata": {
    "ExecuteTime": {
     "end_time": "2024-04-07T23:20:00.393733Z",
     "start_time": "2024-04-07T23:20:00.333206Z"
    }
   },
   "id": "c5846eae",
   "execution_count": 4
  },
  {
   "cell_type": "markdown",
   "source": [
    "MUESTRA LA POSICION DEL VEHICULO"
   ],
   "metadata": {
    "collapsed": false
   },
   "id": "4f74da93da235d36"
  },
  {
   "cell_type": "code",
   "execution_count": 5,
   "id": "598d2c5c",
   "metadata": {
    "ExecuteTime": {
     "end_time": "2024-04-07T23:20:03.447640Z",
     "start_time": "2024-04-07T23:20:03.431301Z"
    }
   },
   "outputs": [
    {
     "name": "stdout",
     "output_type": "stream",
     "text": [
      "Transform(Location(x=-64.644844, y=24.471260, z=-0.001669), Rotation(pitch=-0.000034, yaw=0.159198, roll=0.000251))\n"
     ]
    }
   ],
   "source": [
    "# get the car's position on the map \n",
    "vehicle_pos = vehicle.get_transform()\n",
    "print(vehicle_pos)"
   ]
  },
  {
   "cell_type": "code",
   "execution_count": 6,
   "id": "33b88a12",
   "metadata": {
    "ExecuteTime": {
     "end_time": "2024-04-07T23:20:05.585725Z",
     "start_time": "2024-04-07T23:20:05.566463Z"
    }
   },
   "outputs": [
    {
     "name": "stdout",
     "output_type": "stream",
     "text": [
      "Transform(Location(x=-64.644844, y=24.471010, z=0.600000), Rotation(pitch=0.000000, yaw=0.159198, roll=0.000000))\n"
     ]
    }
   ],
   "source": [
    "# initial spawn point is the same - just 0.6m higher off the ground\n",
    "print(start_point)"
   ]
  },
  {
   "cell_type": "markdown",
   "source": [
    "inicia la conduccion autonoma"
   ],
   "metadata": {
    "collapsed": false
   },
   "id": "7201f0cd08315ce9"
  },
  {
   "cell_type": "code",
   "execution_count": 7,
   "id": "365eee2c",
   "metadata": {
    "ExecuteTime": {
     "end_time": "2024-04-07T23:20:08.229387Z",
     "start_time": "2024-04-07T23:20:08.084061Z"
    }
   },
   "outputs": [],
   "source": [
    "#send vehicle off\n",
    "vehicle.set_autopilot(True)"
   ]
  },
  {
   "cell_type": "code",
   "execution_count": 8,
   "id": "233cd16e",
   "metadata": {
    "ExecuteTime": {
     "end_time": "2024-04-07T23:20:31.162609Z",
     "start_time": "2024-04-07T23:20:31.150529Z"
    }
   },
   "outputs": [
    {
     "name": "stdout",
     "output_type": "stream",
     "text": [
      "Transform(Location(x=-48.021072, y=-57.460808, z=-0.003418), Rotation(pitch=-0.004303, yaw=-115.483551, roll=0.225012))\n"
     ]
    }
   ],
   "source": [
    "# get actual position from the car moving\n",
    "vehicle_pos = vehicle.get_transform()\n",
    "print(vehicle_pos)"
   ]
  },
  {
   "cell_type": "code",
   "execution_count": 9,
   "id": "24e9be89",
   "metadata": {
    "ExecuteTime": {
     "end_time": "2024-04-07T23:20:31.659527Z",
     "start_time": "2024-04-07T23:20:31.649915Z"
    }
   },
   "outputs": [],
   "source": [
    "# now look at the map\n",
    "town_map = world.get_map()"
   ]
  },
  {
   "cell_type": "code",
   "execution_count": 10,
   "id": "39caeb6f",
   "metadata": {
    "ExecuteTime": {
     "end_time": "2024-04-07T23:20:32.172708Z",
     "start_time": "2024-04-07T23:20:32.157445Z"
    }
   },
   "outputs": [
    {
     "data": {
      "text/plain": "carla.libcarla.Map"
     },
     "execution_count": 10,
     "metadata": {},
     "output_type": "execute_result"
    }
   ],
   "source": [
    "type(town_map)"
   ]
  },
  {
   "cell_type": "code",
   "outputs": [],
   "source": [],
   "metadata": {
    "collapsed": false,
    "ExecuteTime": {
     "end_time": "2024-04-07T23:20:33.076680Z",
     "start_time": "2024-04-07T23:20:33.061903Z"
    }
   },
   "id": "9754fb420ee29008",
   "execution_count": 10
  },
  {
   "cell_type": "code",
   "execution_count": 11,
   "id": "ca0be330",
   "metadata": {
    "ExecuteTime": {
     "end_time": "2024-04-07T23:20:34.590851Z",
     "start_time": "2024-04-07T23:20:34.580538Z"
    }
   },
   "outputs": [
    {
     "name": "stdout",
     "output_type": "stream",
     "text": [
      "Map(name=Carla/Maps/Town10HD_Opt)\n"
     ]
    }
   ],
   "source": [
    "print(town_map)"
   ]
  },
  {
   "cell_type": "markdown",
   "source": [
    "mapa actual"
   ],
   "metadata": {
    "collapsed": false
   },
   "id": "c60b8ac1344987de"
  },
  {
   "cell_type": "code",
   "execution_count": 12,
   "id": "7b407a5b",
   "metadata": {
    "ExecuteTime": {
     "end_time": "2024-04-07T23:20:36.767701Z",
     "start_time": "2024-04-07T23:20:36.760184Z"
    }
   },
   "outputs": [],
   "source": [
    "roads = town_map.get_topology()"
   ]
  },
  {
   "cell_type": "code",
   "execution_count": 13,
   "id": "e1d93d9f",
   "metadata": {
    "ExecuteTime": {
     "end_time": "2024-04-07T23:20:37.451594Z",
     "start_time": "2024-04-07T23:20:37.438738Z"
    }
   },
   "outputs": [
    {
     "name": "stdout",
     "output_type": "stream",
     "text": [
      "[(<carla.libcarla.Waypoint object at 0x000001E917F7F5D0>, <carla.libcarla.Waypoint object at 0x000001E917F7F510>), (<carla.libcarla.Waypoint object at 0x000001E917F9BCF0>, <carla.libcarla.Waypoint object at 0x000001E917F9BD50>), (<carla.libcarla.Waypoint object at 0x000001E917F9BDB0>, <carla.libcarla.Waypoint object at 0x000001E917F9BB10>), (<carla.libcarla.Waypoint object at 0x000001E917F9BAB0>, <carla.libcarla.Waypoint object at 0x000001E917F9B930>), (<carla.libcarla.Waypoint object at 0x000001E917F9B450>, <carla.libcarla.Waypoint object at 0x000001E917F9B9F0>), (<carla.libcarla.Waypoint object at 0x000001E917F9B8D0>, <carla.libcarla.Waypoint object at 0x000001E917F9B5D0>), (<carla.libcarla.Waypoint object at 0x000001E917F9B810>, <carla.libcarla.Waypoint object at 0x000001E917F9B510>), (<carla.libcarla.Waypoint object at 0x000001E917F9B7B0>, <carla.libcarla.Waypoint object at 0x000001E917F9B210>), (<carla.libcarla.Waypoint object at 0x000001E917F9B630>, <carla.libcarla.Waypoint object at 0x000001E917F9B4B0>), (<carla.libcarla.Waypoint object at 0x000001E917F9B570>, <carla.libcarla.Waypoint object at 0x000001E917F9B330>), (<carla.libcarla.Waypoint object at 0x000001E917F9B6F0>, <carla.libcarla.Waypoint object at 0x000001E917F9B270>), (<carla.libcarla.Waypoint object at 0x000001E917F9B3F0>, <carla.libcarla.Waypoint object at 0x000001E917F9B1B0>), (<carla.libcarla.Waypoint object at 0x000001E917F9B090>, <carla.libcarla.Waypoint object at 0x000001E917F9B0F0>), (<carla.libcarla.Waypoint object at 0x000001E917F9B390>, <carla.libcarla.Waypoint object at 0x000001E917F9B990>), (<carla.libcarla.Waypoint object at 0x000001E917F9B750>, <carla.libcarla.Waypoint object at 0x000001E917F9BB70>), (<carla.libcarla.Waypoint object at 0x000001E917F9BE10>, <carla.libcarla.Waypoint object at 0x000001E917F9BE70>), (<carla.libcarla.Waypoint object at 0x000001E917F9BED0>, <carla.libcarla.Waypoint object at 0x000001E917F9BF30>), (<carla.libcarla.Waypoint object at 0x000001E917F9BF90>, <carla.libcarla.Waypoint object at 0x000001E917FAC030>), (<carla.libcarla.Waypoint object at 0x000001E917FAC090>, <carla.libcarla.Waypoint object at 0x000001E917FAC0F0>), (<carla.libcarla.Waypoint object at 0x000001E917FAC150>, <carla.libcarla.Waypoint object at 0x000001E917FAC1B0>), (<carla.libcarla.Waypoint object at 0x000001E917FAC210>, <carla.libcarla.Waypoint object at 0x000001E917FAC270>), (<carla.libcarla.Waypoint object at 0x000001E917FAC2D0>, <carla.libcarla.Waypoint object at 0x000001E917FAC330>), (<carla.libcarla.Waypoint object at 0x000001E917FAC390>, <carla.libcarla.Waypoint object at 0x000001E917FAC3F0>), (<carla.libcarla.Waypoint object at 0x000001E917FAC450>, <carla.libcarla.Waypoint object at 0x000001E917FAC4B0>), (<carla.libcarla.Waypoint object at 0x000001E917FAC510>, <carla.libcarla.Waypoint object at 0x000001E917FAC570>), (<carla.libcarla.Waypoint object at 0x000001E917FAC5D0>, <carla.libcarla.Waypoint object at 0x000001E917FAC630>), (<carla.libcarla.Waypoint object at 0x000001E917FAC690>, <carla.libcarla.Waypoint object at 0x000001E917FAC6F0>), (<carla.libcarla.Waypoint object at 0x000001E917FAC750>, <carla.libcarla.Waypoint object at 0x000001E917FAC7B0>), (<carla.libcarla.Waypoint object at 0x000001E917FAC810>, <carla.libcarla.Waypoint object at 0x000001E917FAC870>), (<carla.libcarla.Waypoint object at 0x000001E917FAC8D0>, <carla.libcarla.Waypoint object at 0x000001E917FAC930>), (<carla.libcarla.Waypoint object at 0x000001E917FAC990>, <carla.libcarla.Waypoint object at 0x000001E917FAC9F0>), (<carla.libcarla.Waypoint object at 0x000001E917FACA50>, <carla.libcarla.Waypoint object at 0x000001E917FACAB0>), (<carla.libcarla.Waypoint object at 0x000001E917FACB10>, <carla.libcarla.Waypoint object at 0x000001E917FACB70>), (<carla.libcarla.Waypoint object at 0x000001E917FACBD0>, <carla.libcarla.Waypoint object at 0x000001E917FACC30>), (<carla.libcarla.Waypoint object at 0x000001E917FACC90>, <carla.libcarla.Waypoint object at 0x000001E917FACCF0>), (<carla.libcarla.Waypoint object at 0x000001E917FACD50>, <carla.libcarla.Waypoint object at 0x000001E917FACDB0>), (<carla.libcarla.Waypoint object at 0x000001E917FACE10>, <carla.libcarla.Waypoint object at 0x000001E917FACE70>), (<carla.libcarla.Waypoint object at 0x000001E917FACED0>, <carla.libcarla.Waypoint object at 0x000001E917FACF30>), (<carla.libcarla.Waypoint object at 0x000001E917FACF90>, <carla.libcarla.Waypoint object at 0x000001E917FB1030>), (<carla.libcarla.Waypoint object at 0x000001E917FB1090>, <carla.libcarla.Waypoint object at 0x000001E917FB10F0>), (<carla.libcarla.Waypoint object at 0x000001E917FB1150>, <carla.libcarla.Waypoint object at 0x000001E917FB11B0>), (<carla.libcarla.Waypoint object at 0x000001E917FB1210>, <carla.libcarla.Waypoint object at 0x000001E917FB1270>), (<carla.libcarla.Waypoint object at 0x000001E917FB12D0>, <carla.libcarla.Waypoint object at 0x000001E917FB1330>), (<carla.libcarla.Waypoint object at 0x000001E917FB1390>, <carla.libcarla.Waypoint object at 0x000001E917FB13F0>), (<carla.libcarla.Waypoint object at 0x000001E917FB1450>, <carla.libcarla.Waypoint object at 0x000001E917FB14B0>), (<carla.libcarla.Waypoint object at 0x000001E917FB1510>, <carla.libcarla.Waypoint object at 0x000001E917FB1570>), (<carla.libcarla.Waypoint object at 0x000001E917FB15D0>, <carla.libcarla.Waypoint object at 0x000001E917FB1630>), (<carla.libcarla.Waypoint object at 0x000001E917FB1690>, <carla.libcarla.Waypoint object at 0x000001E917FB16F0>), (<carla.libcarla.Waypoint object at 0x000001E917FB1750>, <carla.libcarla.Waypoint object at 0x000001E917FB17B0>), (<carla.libcarla.Waypoint object at 0x000001E917FB1810>, <carla.libcarla.Waypoint object at 0x000001E917FB1870>), (<carla.libcarla.Waypoint object at 0x000001E917FB18D0>, <carla.libcarla.Waypoint object at 0x000001E917FB1930>), (<carla.libcarla.Waypoint object at 0x000001E917FB1990>, <carla.libcarla.Waypoint object at 0x000001E917FB19F0>), (<carla.libcarla.Waypoint object at 0x000001E917FB1A50>, <carla.libcarla.Waypoint object at 0x000001E917FB1AB0>), (<carla.libcarla.Waypoint object at 0x000001E917FB1B10>, <carla.libcarla.Waypoint object at 0x000001E917FB1B70>), (<carla.libcarla.Waypoint object at 0x000001E917FB1BD0>, <carla.libcarla.Waypoint object at 0x000001E917FB1C30>), (<carla.libcarla.Waypoint object at 0x000001E917FB1C90>, <carla.libcarla.Waypoint object at 0x000001E917FB1CF0>), (<carla.libcarla.Waypoint object at 0x000001E917FB1D50>, <carla.libcarla.Waypoint object at 0x000001E917FB1DB0>), (<carla.libcarla.Waypoint object at 0x000001E917FB1E10>, <carla.libcarla.Waypoint object at 0x000001E917FB1E70>), (<carla.libcarla.Waypoint object at 0x000001E917FB1ED0>, <carla.libcarla.Waypoint object at 0x000001E917FB1F30>), (<carla.libcarla.Waypoint object at 0x000001E917FB1F90>, <carla.libcarla.Waypoint object at 0x000001E917FB3030>), (<carla.libcarla.Waypoint object at 0x000001E917FB3090>, <carla.libcarla.Waypoint object at 0x000001E917FB30F0>), (<carla.libcarla.Waypoint object at 0x000001E917FB3150>, <carla.libcarla.Waypoint object at 0x000001E917FB31B0>), (<carla.libcarla.Waypoint object at 0x000001E917FB3210>, <carla.libcarla.Waypoint object at 0x000001E917FB3270>), (<carla.libcarla.Waypoint object at 0x000001E917FB32D0>, <carla.libcarla.Waypoint object at 0x000001E917FB3330>), (<carla.libcarla.Waypoint object at 0x000001E917FB3390>, <carla.libcarla.Waypoint object at 0x000001E917FB33F0>), (<carla.libcarla.Waypoint object at 0x000001E917FB3450>, <carla.libcarla.Waypoint object at 0x000001E917FB34B0>), (<carla.libcarla.Waypoint object at 0x000001E917FB3510>, <carla.libcarla.Waypoint object at 0x000001E917FB3570>), (<carla.libcarla.Waypoint object at 0x000001E917FB35D0>, <carla.libcarla.Waypoint object at 0x000001E917FB3630>), (<carla.libcarla.Waypoint object at 0x000001E917FB3690>, <carla.libcarla.Waypoint object at 0x000001E917FB36F0>), (<carla.libcarla.Waypoint object at 0x000001E917FB3750>, <carla.libcarla.Waypoint object at 0x000001E917FB37B0>), (<carla.libcarla.Waypoint object at 0x000001E917FB3810>, <carla.libcarla.Waypoint object at 0x000001E917FB3870>), (<carla.libcarla.Waypoint object at 0x000001E917FB38D0>, <carla.libcarla.Waypoint object at 0x000001E917FB3930>), (<carla.libcarla.Waypoint object at 0x000001E917FB3990>, <carla.libcarla.Waypoint object at 0x000001E917FB39F0>), (<carla.libcarla.Waypoint object at 0x000001E917FB3A50>, <carla.libcarla.Waypoint object at 0x000001E917FB3AB0>), (<carla.libcarla.Waypoint object at 0x000001E917FB3B10>, <carla.libcarla.Waypoint object at 0x000001E917FB3B70>), (<carla.libcarla.Waypoint object at 0x000001E917FB3BD0>, <carla.libcarla.Waypoint object at 0x000001E917FB3C30>), (<carla.libcarla.Waypoint object at 0x000001E917FB3C90>, <carla.libcarla.Waypoint object at 0x000001E917FB3CF0>), (<carla.libcarla.Waypoint object at 0x000001E917FB3D50>, <carla.libcarla.Waypoint object at 0x000001E917FB3DB0>), (<carla.libcarla.Waypoint object at 0x000001E917FB3E10>, <carla.libcarla.Waypoint object at 0x000001E917FB3E70>), (<carla.libcarla.Waypoint object at 0x000001E917FB3ED0>, <carla.libcarla.Waypoint object at 0x000001E917FB3F30>), (<carla.libcarla.Waypoint object at 0x000001E917FB3F90>, <carla.libcarla.Waypoint object at 0x000001E917FB0030>), (<carla.libcarla.Waypoint object at 0x000001E917FB0090>, <carla.libcarla.Waypoint object at 0x000001E917FB00F0>), (<carla.libcarla.Waypoint object at 0x000001E917FB0150>, <carla.libcarla.Waypoint object at 0x000001E917FB01B0>), (<carla.libcarla.Waypoint object at 0x000001E917FB0210>, <carla.libcarla.Waypoint object at 0x000001E917FB0270>), (<carla.libcarla.Waypoint object at 0x000001E917FB02D0>, <carla.libcarla.Waypoint object at 0x000001E917FB0330>), (<carla.libcarla.Waypoint object at 0x000001E917FB0390>, <carla.libcarla.Waypoint object at 0x000001E917FB03F0>), (<carla.libcarla.Waypoint object at 0x000001E917FB0450>, <carla.libcarla.Waypoint object at 0x000001E917FB04B0>), (<carla.libcarla.Waypoint object at 0x000001E917FB0510>, <carla.libcarla.Waypoint object at 0x000001E917FB0570>), (<carla.libcarla.Waypoint object at 0x000001E917FB05D0>, <carla.libcarla.Waypoint object at 0x000001E917FB0630>), (<carla.libcarla.Waypoint object at 0x000001E917FB0690>, <carla.libcarla.Waypoint object at 0x000001E917FB06F0>), (<carla.libcarla.Waypoint object at 0x000001E917FB0750>, <carla.libcarla.Waypoint object at 0x000001E917FB07B0>), (<carla.libcarla.Waypoint object at 0x000001E917FB0810>, <carla.libcarla.Waypoint object at 0x000001E917FB0870>), (<carla.libcarla.Waypoint object at 0x000001E917FB08D0>, <carla.libcarla.Waypoint object at 0x000001E917FB0930>), (<carla.libcarla.Waypoint object at 0x000001E917FB0990>, <carla.libcarla.Waypoint object at 0x000001E917FB09F0>), (<carla.libcarla.Waypoint object at 0x000001E917FB0A50>, <carla.libcarla.Waypoint object at 0x000001E917FB0AB0>), (<carla.libcarla.Waypoint object at 0x000001E917FB0B10>, <carla.libcarla.Waypoint object at 0x000001E917FB0B70>), (<carla.libcarla.Waypoint object at 0x000001E917FB0BD0>, <carla.libcarla.Waypoint object at 0x000001E917FB0C30>), (<carla.libcarla.Waypoint object at 0x000001E917FB0C90>, <carla.libcarla.Waypoint object at 0x000001E917FB0CF0>), (<carla.libcarla.Waypoint object at 0x000001E917FB0D50>, <carla.libcarla.Waypoint object at 0x000001E917FB0DB0>), (<carla.libcarla.Waypoint object at 0x000001E917FB0E10>, <carla.libcarla.Waypoint object at 0x000001E917FB0E70>), (<carla.libcarla.Waypoint object at 0x000001E917FB0ED0>, <carla.libcarla.Waypoint object at 0x000001E917FB0F30>), (<carla.libcarla.Waypoint object at 0x000001E917FB0F90>, <carla.libcarla.Waypoint object at 0x000001E917FAE030>), (<carla.libcarla.Waypoint object at 0x000001E917FAE090>, <carla.libcarla.Waypoint object at 0x000001E917FAE0F0>), (<carla.libcarla.Waypoint object at 0x000001E917FAE150>, <carla.libcarla.Waypoint object at 0x000001E917FAE1B0>), (<carla.libcarla.Waypoint object at 0x000001E917FAE210>, <carla.libcarla.Waypoint object at 0x000001E917FAE270>), (<carla.libcarla.Waypoint object at 0x000001E917FAE2D0>, <carla.libcarla.Waypoint object at 0x000001E917FAE330>), (<carla.libcarla.Waypoint object at 0x000001E917FAE390>, <carla.libcarla.Waypoint object at 0x000001E917FAE3F0>), (<carla.libcarla.Waypoint object at 0x000001E917FAE450>, <carla.libcarla.Waypoint object at 0x000001E917FAE4B0>), (<carla.libcarla.Waypoint object at 0x000001E917FAE510>, <carla.libcarla.Waypoint object at 0x000001E917FAE570>), (<carla.libcarla.Waypoint object at 0x000001E917FAE5D0>, <carla.libcarla.Waypoint object at 0x000001E917FAE630>), (<carla.libcarla.Waypoint object at 0x000001E917FAE690>, <carla.libcarla.Waypoint object at 0x000001E917FAE6F0>), (<carla.libcarla.Waypoint object at 0x000001E917FAE750>, <carla.libcarla.Waypoint object at 0x000001E917FAE7B0>), (<carla.libcarla.Waypoint object at 0x000001E917FAE810>, <carla.libcarla.Waypoint object at 0x000001E917FAE870>), (<carla.libcarla.Waypoint object at 0x000001E917FAE8D0>, <carla.libcarla.Waypoint object at 0x000001E917FAE930>), (<carla.libcarla.Waypoint object at 0x000001E917FAE990>, <carla.libcarla.Waypoint object at 0x000001E917FAE9F0>), (<carla.libcarla.Waypoint object at 0x000001E917FAEA50>, <carla.libcarla.Waypoint object at 0x000001E917FAEAB0>), (<carla.libcarla.Waypoint object at 0x000001E917FAEB10>, <carla.libcarla.Waypoint object at 0x000001E917FAEB70>), (<carla.libcarla.Waypoint object at 0x000001E917FAEBD0>, <carla.libcarla.Waypoint object at 0x000001E917FAEC30>), (<carla.libcarla.Waypoint object at 0x000001E917FAEC90>, <carla.libcarla.Waypoint object at 0x000001E917FAECF0>), (<carla.libcarla.Waypoint object at 0x000001E917FAED50>, <carla.libcarla.Waypoint object at 0x000001E917FAEDB0>), (<carla.libcarla.Waypoint object at 0x000001E917FAEE10>, <carla.libcarla.Waypoint object at 0x000001E917FAEE70>), (<carla.libcarla.Waypoint object at 0x000001E917FAEED0>, <carla.libcarla.Waypoint object at 0x000001E917FAEF30>), (<carla.libcarla.Waypoint object at 0x000001E917FAEF90>, <carla.libcarla.Waypoint object at 0x000001E917FB2030>), (<carla.libcarla.Waypoint object at 0x000001E917FB2090>, <carla.libcarla.Waypoint object at 0x000001E917FB20F0>), (<carla.libcarla.Waypoint object at 0x000001E917FB2150>, <carla.libcarla.Waypoint object at 0x000001E917FB21B0>), (<carla.libcarla.Waypoint object at 0x000001E917FB2210>, <carla.libcarla.Waypoint object at 0x000001E917FB2270>), (<carla.libcarla.Waypoint object at 0x000001E917FB22D0>, <carla.libcarla.Waypoint object at 0x000001E917FB2330>), (<carla.libcarla.Waypoint object at 0x000001E917FB2390>, <carla.libcarla.Waypoint object at 0x000001E917FB23F0>), (<carla.libcarla.Waypoint object at 0x000001E917FB2450>, <carla.libcarla.Waypoint object at 0x000001E917FB24B0>), (<carla.libcarla.Waypoint object at 0x000001E917FB2510>, <carla.libcarla.Waypoint object at 0x000001E917FB2570>), (<carla.libcarla.Waypoint object at 0x000001E917FB25D0>, <carla.libcarla.Waypoint object at 0x000001E917FB2630>), (<carla.libcarla.Waypoint object at 0x000001E917FB2690>, <carla.libcarla.Waypoint object at 0x000001E917FB26F0>), (<carla.libcarla.Waypoint object at 0x000001E917FB2750>, <carla.libcarla.Waypoint object at 0x000001E917FB27B0>), (<carla.libcarla.Waypoint object at 0x000001E917FB2810>, <carla.libcarla.Waypoint object at 0x000001E917FB2870>), (<carla.libcarla.Waypoint object at 0x000001E917FB28D0>, <carla.libcarla.Waypoint object at 0x000001E917FB2930>), (<carla.libcarla.Waypoint object at 0x000001E917FB2990>, <carla.libcarla.Waypoint object at 0x000001E917FB29F0>), (<carla.libcarla.Waypoint object at 0x000001E917FB2A50>, <carla.libcarla.Waypoint object at 0x000001E917FB2AB0>), (<carla.libcarla.Waypoint object at 0x000001E917FB2B10>, <carla.libcarla.Waypoint object at 0x000001E917FB2B70>), (<carla.libcarla.Waypoint object at 0x000001E917FB2BD0>, <carla.libcarla.Waypoint object at 0x000001E917FB2C30>), (<carla.libcarla.Waypoint object at 0x000001E917FB2C90>, <carla.libcarla.Waypoint object at 0x000001E917FB2CF0>), (<carla.libcarla.Waypoint object at 0x000001E917FB2D50>, <carla.libcarla.Waypoint object at 0x000001E917FB2DB0>), (<carla.libcarla.Waypoint object at 0x000001E917FB2E10>, <carla.libcarla.Waypoint object at 0x000001E917FB2E70>), (<carla.libcarla.Waypoint object at 0x000001E917FB2ED0>, <carla.libcarla.Waypoint object at 0x000001E917FB2F30>), (<carla.libcarla.Waypoint object at 0x000001E917FB2F90>, <carla.libcarla.Waypoint object at 0x000001E917FB4030>), (<carla.libcarla.Waypoint object at 0x000001E917FB4090>, <carla.libcarla.Waypoint object at 0x000001E917FB40F0>), (<carla.libcarla.Waypoint object at 0x000001E917FB4150>, <carla.libcarla.Waypoint object at 0x000001E917FB41B0>), (<carla.libcarla.Waypoint object at 0x000001E917FB4210>, <carla.libcarla.Waypoint object at 0x000001E917FB4270>), (<carla.libcarla.Waypoint object at 0x000001E917FB42D0>, <carla.libcarla.Waypoint object at 0x000001E917FB4330>), (<carla.libcarla.Waypoint object at 0x000001E917FB4390>, <carla.libcarla.Waypoint object at 0x000001E917FB43F0>), (<carla.libcarla.Waypoint object at 0x000001E917FB4450>, <carla.libcarla.Waypoint object at 0x000001E917FB44B0>), (<carla.libcarla.Waypoint object at 0x000001E917FB4510>, <carla.libcarla.Waypoint object at 0x000001E917FB4570>), (<carla.libcarla.Waypoint object at 0x000001E917FB45D0>, <carla.libcarla.Waypoint object at 0x000001E917FB4630>), (<carla.libcarla.Waypoint object at 0x000001E917FB4690>, <carla.libcarla.Waypoint object at 0x000001E917FB46F0>), (<carla.libcarla.Waypoint object at 0x000001E917FB4750>, <carla.libcarla.Waypoint object at 0x000001E917FB47B0>), (<carla.libcarla.Waypoint object at 0x000001E917FB4810>, <carla.libcarla.Waypoint object at 0x000001E917FB4870>), (<carla.libcarla.Waypoint object at 0x000001E917FB48D0>, <carla.libcarla.Waypoint object at 0x000001E917FB4930>), (<carla.libcarla.Waypoint object at 0x000001E917FB4990>, <carla.libcarla.Waypoint object at 0x000001E917FB49F0>), (<carla.libcarla.Waypoint object at 0x000001E917FB4A50>, <carla.libcarla.Waypoint object at 0x000001E917FB4AB0>), (<carla.libcarla.Waypoint object at 0x000001E917FB4B10>, <carla.libcarla.Waypoint object at 0x000001E917FB4B70>), (<carla.libcarla.Waypoint object at 0x000001E917FB4BD0>, <carla.libcarla.Waypoint object at 0x000001E917FB4C30>), (<carla.libcarla.Waypoint object at 0x000001E917FB4C90>, <carla.libcarla.Waypoint object at 0x000001E917FB4CF0>), (<carla.libcarla.Waypoint object at 0x000001E917FB4D50>, <carla.libcarla.Waypoint object at 0x000001E917FB4DB0>), (<carla.libcarla.Waypoint object at 0x000001E917FB4E10>, <carla.libcarla.Waypoint object at 0x000001E917FB4E70>), (<carla.libcarla.Waypoint object at 0x000001E917FB4ED0>, <carla.libcarla.Waypoint object at 0x000001E917FB4F30>), (<carla.libcarla.Waypoint object at 0x000001E917FB4F90>, <carla.libcarla.Waypoint object at 0x000001E917FB5030>), (<carla.libcarla.Waypoint object at 0x000001E917FB5090>, <carla.libcarla.Waypoint object at 0x000001E917FB50F0>), (<carla.libcarla.Waypoint object at 0x000001E917FB5150>, <carla.libcarla.Waypoint object at 0x000001E917FB51B0>), (<carla.libcarla.Waypoint object at 0x000001E917FB5210>, <carla.libcarla.Waypoint object at 0x000001E917FB5270>), (<carla.libcarla.Waypoint object at 0x000001E917FB52D0>, <carla.libcarla.Waypoint object at 0x000001E917FB5330>), (<carla.libcarla.Waypoint object at 0x000001E917FB5390>, <carla.libcarla.Waypoint object at 0x000001E917FB53F0>), (<carla.libcarla.Waypoint object at 0x000001E917FB5450>, <carla.libcarla.Waypoint object at 0x000001E917FB54B0>), (<carla.libcarla.Waypoint object at 0x000001E917FB5510>, <carla.libcarla.Waypoint object at 0x000001E917FB5570>), (<carla.libcarla.Waypoint object at 0x000001E917FB55D0>, <carla.libcarla.Waypoint object at 0x000001E917FB5630>), (<carla.libcarla.Waypoint object at 0x000001E917FB5690>, <carla.libcarla.Waypoint object at 0x000001E917FB56F0>), (<carla.libcarla.Waypoint object at 0x000001E917FB5750>, <carla.libcarla.Waypoint object at 0x000001E917FB57B0>), (<carla.libcarla.Waypoint object at 0x000001E917FB5810>, <carla.libcarla.Waypoint object at 0x000001E917FB5870>), (<carla.libcarla.Waypoint object at 0x000001E917FB58D0>, <carla.libcarla.Waypoint object at 0x000001E917FB5930>), (<carla.libcarla.Waypoint object at 0x000001E917FB5990>, <carla.libcarla.Waypoint object at 0x000001E917FB59F0>), (<carla.libcarla.Waypoint object at 0x000001E917FB5A50>, <carla.libcarla.Waypoint object at 0x000001E917FB5AB0>), (<carla.libcarla.Waypoint object at 0x000001E917FB5B10>, <carla.libcarla.Waypoint object at 0x000001E917FB5B70>), (<carla.libcarla.Waypoint object at 0x000001E917FB5BD0>, <carla.libcarla.Waypoint object at 0x000001E917FB5C30>), (<carla.libcarla.Waypoint object at 0x000001E917FB5C90>, <carla.libcarla.Waypoint object at 0x000001E917FB5CF0>), (<carla.libcarla.Waypoint object at 0x000001E917FB5D50>, <carla.libcarla.Waypoint object at 0x000001E917FB5DB0>), (<carla.libcarla.Waypoint object at 0x000001E917FB5E10>, <carla.libcarla.Waypoint object at 0x000001E917FB5E70>), (<carla.libcarla.Waypoint object at 0x000001E917FB5ED0>, <carla.libcarla.Waypoint object at 0x000001E917FB5F30>), (<carla.libcarla.Waypoint object at 0x000001E917FB5F90>, <carla.libcarla.Waypoint object at 0x000001E917FB6030>), (<carla.libcarla.Waypoint object at 0x000001E917FB6090>, <carla.libcarla.Waypoint object at 0x000001E917FB60F0>), (<carla.libcarla.Waypoint object at 0x000001E917FB6150>, <carla.libcarla.Waypoint object at 0x000001E917FB61B0>), (<carla.libcarla.Waypoint object at 0x000001E917FB6210>, <carla.libcarla.Waypoint object at 0x000001E917FB6270>), (<carla.libcarla.Waypoint object at 0x000001E917FB62D0>, <carla.libcarla.Waypoint object at 0x000001E917FB6330>), (<carla.libcarla.Waypoint object at 0x000001E917FB6390>, <carla.libcarla.Waypoint object at 0x000001E917FB63F0>), (<carla.libcarla.Waypoint object at 0x000001E917FB6450>, <carla.libcarla.Waypoint object at 0x000001E917FB64B0>), (<carla.libcarla.Waypoint object at 0x000001E917FB6510>, <carla.libcarla.Waypoint object at 0x000001E917FB6570>), (<carla.libcarla.Waypoint object at 0x000001E917FB65D0>, <carla.libcarla.Waypoint object at 0x000001E917FB6630>), (<carla.libcarla.Waypoint object at 0x000001E917FB6690>, <carla.libcarla.Waypoint object at 0x000001E917FB66F0>), (<carla.libcarla.Waypoint object at 0x000001E917FB6750>, <carla.libcarla.Waypoint object at 0x000001E917FB67B0>), (<carla.libcarla.Waypoint object at 0x000001E917FB6810>, <carla.libcarla.Waypoint object at 0x000001E917FB6870>), (<carla.libcarla.Waypoint object at 0x000001E917FB68D0>, <carla.libcarla.Waypoint object at 0x000001E917FB6930>), (<carla.libcarla.Waypoint object at 0x000001E917FB6990>, <carla.libcarla.Waypoint object at 0x000001E917FB69F0>), (<carla.libcarla.Waypoint object at 0x000001E917FB6A50>, <carla.libcarla.Waypoint object at 0x000001E917FB6AB0>)]\n"
     ]
    }
   ],
   "source": [
    "# topology is pairs of waypoints defining all roads - tuples of those\n",
    "print(roads)\n"
   ]
  },
  {
   "cell_type": "code",
   "execution_count": 14,
   "id": "37b9456f",
   "metadata": {
    "ExecuteTime": {
     "end_time": "2024-04-07T23:20:38.382244Z",
     "start_time": "2024-04-07T23:20:38.364918Z"
    }
   },
   "outputs": [
    {
     "name": "stdout",
     "output_type": "stream",
     "text": [
      "Waypoint(Transform(Location(x=109.929878, y=-9.334196, z=0.000000), Rotation(pitch=0.000000, yaw=-89.609253, roll=0.000000)))\n"
     ]
    }
   ],
   "source": [
    "#have a look at a waypoint - it is transform wrapped as a waypoint\n",
    "print(roads[0][0])\n"
   ]
  },
  {
   "cell_type": "code",
   "execution_count": 22,
   "id": "778cfe38",
   "metadata": {
    "ExecuteTime": {
     "end_time": "2024-04-07T23:23:24.667061Z",
     "start_time": "2024-04-07T23:23:24.653876Z"
    }
   },
   "outputs": [
    {
     "data": {
      "text/plain": "200"
     },
     "execution_count": 22,
     "metadata": {},
     "output_type": "execute_result"
    }
   ],
   "source": [
    "len(roads)\n"
   ]
  },
  {
   "cell_type": "code",
   "execution_count": 23,
   "id": "9e8cf8ce",
   "metadata": {
    "ExecuteTime": {
     "end_time": "2024-04-07T23:23:25.461299Z",
     "start_time": "2024-04-07T23:23:25.455673Z"
    }
   },
   "outputs": [],
   "source": [
    "# making a route\n",
    "#from one position to another\n",
    "#pos 1: Transform(Location(x=50.477512, y=141.135620, z=0.001844), Rotation(pitch=0.000007, yaw=0.318098, roll=0.000000))\n",
    "#pos 2: Transform(Location(x=-64.644844, y=24.471010, z=0.600000), Rotation(pitch=0.000000, yaw=0.159198, roll=0.000000))"
   ]
  },
  {
   "cell_type": "code",
   "execution_count": 24,
   "id": "9d789284",
   "metadata": {
    "ExecuteTime": {
     "end_time": "2024-04-07T23:23:26.185373Z",
     "start_time": "2024-04-07T23:23:26.175736Z"
    }
   },
   "outputs": [],
   "source": [
    "# import some code coming with the sim\n",
    "import sys\n",
    "sys.path.append('E:/UADY/CARLA/CARLA_Latest/WindowsNoEditor/PythonAPI/carla')\n",
    "from agents.navigation.global_route_planner import GlobalRoutePlanner"
   ]
  },
  {
   "cell_type": "code",
   "execution_count": 25,
   "id": "baefb365",
   "metadata": {
    "ExecuteTime": {
     "end_time": "2024-04-07T23:23:27.194803Z",
     "start_time": "2024-04-07T23:23:27.140833Z"
    }
   },
   "outputs": [],
   "source": [
    "# using the code to plan the route and then draw it in the simulator\n",
    "#town10hd_map = world.get_map()\n",
    "sampling_resolution = 2\n",
    "grp = GlobalRoutePlanner(town_map, sampling_resolution)\n",
    "\n",
    "point_a = carla.Location(x=50.477512, y=141.135620, z=0.001844)\n",
    "point_b = carla.Location(x=-64.644844, y=24.471010, z=0.600000)\n",
    "\n",
    "route = grp.trace_route(point_a, point_b)\n",
    "\n",
    "for waypoint in route:\n",
    "    world.debug.draw_string(waypoint[0].transform.location, 'O', draw_shadow=False,\n",
    "                            color=carla.Color(r=255, g=0, b=0), life_time=120.0,\n",
    "                            persistent_lines=True)\n"
   ]
  },
  {
   "cell_type": "code",
   "execution_count": 27,
   "id": "7da2021c",
   "metadata": {
    "ExecuteTime": {
     "end_time": "2024-04-07T23:23:34.655302Z",
     "start_time": "2024-04-07T23:23:34.625600Z"
    }
   },
   "outputs": [],
   "source": [
    "# utility script of destruction\n",
    "\n",
    "for actor in world.get_actors().filter('*vehicle*'):\n",
    "    actor.destroy()\n",
    "for sensor in world.get_actors().filter('*sensor*'):\n",
    "    sensor.destroy()"
   ]
  },
  {
   "cell_type": "code",
   "execution_count": 28,
   "id": "b3327268",
   "metadata": {
    "ExecuteTime": {
     "end_time": "2024-04-07T23:23:38.152442Z",
     "start_time": "2024-04-07T23:23:38.104756Z"
    }
   },
   "outputs": [],
   "source": [
    "# now we define 2 cars\n",
    "truck_bp = world.get_blueprint_library().filter('*firetruck*')\n",
    "mini_bp = world.get_blueprint_library().filter('*cooper_s*')\n",
    "\n",
    "#start first car in alredy defined start point\n",
    "truck = world.try_spawn_actor(truck_bp[0], start_point)"
   ]
  },
  {
   "cell_type": "code",
   "execution_count": 50,
   "id": "294fdfe1",
   "metadata": {
    "ExecuteTime": {
     "end_time": "2024-02-11T05:11:28.846249400Z",
     "start_time": "2024-02-11T05:11:28.814877800Z"
    }
   },
   "outputs": [],
   "source": [
    "# tweak spectator position to watch the show\n",
    "\n",
    "spectator = world.get_spectator()\n",
    "spawn_points = world.get_map().get_spawn_points()\n",
    "start_point = spawn_points[0]\n",
    "\n",
    "spectator_pos = carla.Transform(start_point.location + carla.Location(x=20,y=10,z=4),\n",
    "                                carla.Rotation(yaw = start_point.rotation.yaw -155))\n",
    "\n",
    "spectator.set_transform(spectator_pos)"
   ]
  },
  {
   "cell_type": "code",
   "execution_count": 51,
   "id": "9dee8be0",
   "metadata": {},
   "outputs": [],
   "source": [
    "\n"
   ]
  },
  {
   "cell_type": "code",
   "execution_count": 21,
   "id": "894d141a",
   "metadata": {
    "ExecuteTime": {
     "end_time": "2024-04-07T23:23:11.205457Z",
     "start_time": "2024-04-07T23:23:11.166664Z"
    }
   },
   "outputs": [
    {
     "ename": "NameError",
     "evalue": "name 'mini_bp' is not defined",
     "output_type": "error",
     "traceback": [
      "\u001B[1;31m---------------------------------------------------------------------------\u001B[0m",
      "\u001B[1;31mNameError\u001B[0m                                 Traceback (most recent call last)",
      "\u001B[1;32m~\\AppData\\Local\\Temp\\ipykernel_23288\\1000526786.py\u001B[0m in \u001B[0;36m<module>\u001B[1;34m\u001B[0m\n\u001B[0;32m      2\u001B[0m \u001B[1;33m\u001B[0m\u001B[0m\n\u001B[0;32m      3\u001B[0m \u001B[1;31m#spawn it first somewhere else\u001B[0m\u001B[1;33m\u001B[0m\u001B[1;33m\u001B[0m\u001B[1;33m\u001B[0m\u001B[0m\n\u001B[1;32m----> 4\u001B[1;33m \u001B[0mmini\u001B[0m \u001B[1;33m=\u001B[0m \u001B[0mworld\u001B[0m\u001B[1;33m.\u001B[0m\u001B[0mtry_spawn_actor\u001B[0m\u001B[1;33m(\u001B[0m\u001B[0mmini_bp\u001B[0m\u001B[1;33m[\u001B[0m\u001B[1;36m0\u001B[0m\u001B[1;33m]\u001B[0m\u001B[1;33m,\u001B[0m \u001B[0mspawn_points\u001B[0m\u001B[1;33m[\u001B[0m\u001B[1;36m10\u001B[0m\u001B[1;33m]\u001B[0m\u001B[1;33m)\u001B[0m\u001B[1;33m\u001B[0m\u001B[1;33m\u001B[0m\u001B[0m\n\u001B[0m\u001B[0;32m      5\u001B[0m \u001B[1;33m\u001B[0m\u001B[0m\n\u001B[0;32m      6\u001B[0m mini_pos = carla.Transform(start_point.location + carla.Location(x=-4,z=10),\n",
      "\u001B[1;31mNameError\u001B[0m: name 'mini_bp' is not defined"
     ]
    }
   ],
   "source": [
    "# drop the Mini the sky - watch what happens after\n",
    "\n",
    "#spawn it first somewhere else\n",
    "mini = world.try_spawn_actor(mini_bp[0], spawn_points[10])\n",
    "\n",
    "mini_pos = carla.Transform(start_point.location + carla.Location(x=-4,z=10),\n",
    "                            carla.Rotation(yaw = start_point.rotation.yaw - 0))\n",
    "mini.set_transform(mini_pos)\n"
   ]
  },
  {
   "cell_type": "code",
   "execution_count": 59,
   "id": "4f057b2f",
   "metadata": {
    "ExecuteTime": {
     "end_time": "2024-02-11T05:17:59.359502500Z",
     "start_time": "2024-02-11T05:17:56.258740900Z"
    }
   },
   "outputs": [],
   "source": [
    "import time\n",
    "for actor in world.get_actors().filter('*vehicle*'):\n",
    "    actor.destroy()\n",
    "for sensor in world.get_actors().filter('*sensor*'):\n",
    "    sensor.destroy()\n",
    "# now we define 2 cars\n",
    "truck_bp = world.get_blueprint_library().filter('*firetruck*')\n",
    "mini_bp = world.get_blueprint_library().filter('*cooper_s*')\n",
    "\n",
    "#start first car in alredy defined start point\n",
    "truck = world.try_spawn_actor(truck_bp[0], start_point)\n",
    "time.sleep(3)\n",
    "\n",
    "vw_bp = world.get_blueprint_library().filter('*volkswagen*')\n",
    "\n",
    "vw = world.try_spawn_actor(vw_bp[0], spawn_points[20])\n",
    "vw_pos = carla.Transform(start_point.location + carla.Location(x=1,z=6),\n",
    "                            carla.Rotation(yaw = start_point.rotation.yaw - 0))\n",
    "vw.set_transform(vw_pos)\n",
    "mini = world.try_spawn_actor(mini_bp[0], spawn_points[10])\n",
    "\n",
    "mini_pos = carla.Transform(start_point.location + carla.Location(x=1,z=10),\n",
    "                            carla.Rotation(yaw = start_point.rotation.yaw - 0))\n",
    "mini.set_transform(mini_pos)\n"
   ]
  },
  {
   "cell_type": "code",
   "execution_count": 19,
   "id": "820993f0",
   "metadata": {
    "ExecuteTime": {
     "end_time": "2024-04-07T23:22:52.970448Z",
     "start_time": "2024-04-07T23:22:52.941818Z"
    }
   },
   "outputs": [],
   "source": [
    "vw_bp = world.get_blueprint_library().filter('*volkswagen*')"
   ]
  },
  {
   "cell_type": "code",
   "execution_count": 20,
   "id": "b97f830c",
   "metadata": {
    "ExecuteTime": {
     "end_time": "2024-04-07T23:22:54.125399Z",
     "start_time": "2024-04-07T23:22:54.100537Z"
    }
   },
   "outputs": [
    {
     "name": "stdout",
     "output_type": "stream",
     "text": [
      "[ActorBlueprint(id=vehicle.nissan.micra,tags=[vehicle, nissan, micra]), ActorBlueprint(id=vehicle.audi.a2,tags=[vehicle, audi, a2]), ActorBlueprint(id=static.prop.plantpot04,tags=[static, prop, plantpot04]), ActorBlueprint(id=static.prop.bench02,tags=[bench02, static, prop]), ActorBlueprint(id=vehicle.mercedes.coupe_2020,tags=[vehicle, mercedes, coupe_2020]), ActorBlueprint(id=vehicle.audi.tt,tags=[vehicle, audi, tt]), ActorBlueprint(id=walker.pedestrian.0037,tags=[0037, walker, pedestrian]), ActorBlueprint(id=vehicle.harley-davidson.low_rider,tags=[harley-davidson, vehicle, low_rider]), ActorBlueprint(id=vehicle.bmw.grandtourer,tags=[vehicle, bmw, grandtourer]), ActorBlueprint(id=static.prop.trashcan05,tags=[static, prop, trashcan05]), ActorBlueprint(id=walker.pedestrian.0038,tags=[walker, pedestrian, 0038]), ActorBlueprint(id=vehicle.carlamotors.firetruck,tags=[vehicle, carlamotors, firetruck]), ActorBlueprint(id=vehicle.micro.microlino,tags=[vehicle, microlino, micro]), ActorBlueprint(id=vehicle.carlamotors.carlacola,tags=[vehicle, carlamotors, carlacola]), ActorBlueprint(id=vehicle.carlamotors.european_hgv,tags=[vehicle, carlamotors, european_hgv]), ActorBlueprint(id=vehicle.ford.mustang,tags=[vehicle, ford, mustang]), ActorBlueprint(id=vehicle.chevrolet.impala,tags=[impala, chevrolet, vehicle]), ActorBlueprint(id=vehicle.citroen.c3,tags=[vehicle, c3, citroen]), ActorBlueprint(id=vehicle.dodge.charger_police,tags=[vehicle, charger_police, dodge]), ActorBlueprint(id=vehicle.jeep.wrangler_rubicon,tags=[vehicle, jeep, wrangler_rubicon]), ActorBlueprint(id=static.prop.kiosk_01,tags=[static, prop, kiosk_01]), ActorBlueprint(id=vehicle.mercedes.coupe,tags=[vehicle, mercedes, coupe]), ActorBlueprint(id=static.prop.bike helmet,tags=[static, prop, bike helmet]), ActorBlueprint(id=walker.pedestrian.0046,tags=[0046, walker, pedestrian]), ActorBlueprint(id=vehicle.mini.cooper_s,tags=[vehicle, mini, cooper_s]), ActorBlueprint(id=vehicle.nissan.patrol,tags=[vehicle, nissan, patrol]), ActorBlueprint(id=static.prop.plantpot06,tags=[plantpot06, static, prop]), ActorBlueprint(id=vehicle.seat.leon,tags=[vehicle, seat, leon]), ActorBlueprint(id=vehicle.toyota.prius,tags=[toyota, vehicle, prius]), ActorBlueprint(id=vehicle.yamaha.yzf,tags=[vehicle, yamaha, yzf]), ActorBlueprint(id=vehicle.kawasaki.ninja,tags=[vehicle, kawasaki, ninja]), ActorBlueprint(id=vehicle.bh.crossbike,tags=[bh, vehicle, crossbike]), ActorBlueprint(id=vehicle.gazelle.omafiets,tags=[gazelle, vehicle, omafiets]), ActorBlueprint(id=vehicle.tesla.cybertruck,tags=[vehicle, tesla, cybertruck]), ActorBlueprint(id=vehicle.diamondback.century,tags=[century, vehicle, diamondback]), ActorBlueprint(id=static.prop.barrel,tags=[static, prop, barrel]), ActorBlueprint(id=vehicle.audi.etron,tags=[vehicle, audi, etron]), ActorBlueprint(id=static.prop.streetsign,tags=[streetsign, static, prop]), ActorBlueprint(id=static.prop.plantpot02,tags=[static, prop, plantpot02]), ActorBlueprint(id=vehicle.mitsubishi.fusorosa,tags=[vehicle, mitsubishi, fusorosa]), ActorBlueprint(id=vehicle.tesla.model3,tags=[vehicle, tesla, model3]), ActorBlueprint(id=vehicle.volkswagen.t2,tags=[vehicle, volkswagen, t2]), ActorBlueprint(id=vehicle.lincoln.mkz_2017,tags=[vehicle, mkz_2017, lincoln]), ActorBlueprint(id=static.prop.glasscontainer,tags=[static, prop, glasscontainer]), ActorBlueprint(id=vehicle.lincoln.mkz_2020,tags=[vehicle, lincoln, mkz_2020]), ActorBlueprint(id=vehicle.dodge.charger_2020,tags=[vehicle, dodge, charger_2020]), ActorBlueprint(id=vehicle.dodge.charger_police_2020,tags=[vehicle, dodge, charger_police_2020]), ActorBlueprint(id=vehicle.ford.ambulance,tags=[vehicle, ford, ambulance]), ActorBlueprint(id=vehicle.vespa.zx125,tags=[zx125, vehicle, vespa]), ActorBlueprint(id=static.prop.creasedbox02,tags=[static, prop, creasedbox02]), ActorBlueprint(id=vehicle.mini.cooper_s_2021,tags=[vehicle, mini, cooper_s_2021]), ActorBlueprint(id=walker.pedestrian.0021,tags=[walker, 0021, pedestrian]), ActorBlueprint(id=vehicle.nissan.patrol_2021,tags=[patrol_2021, vehicle, nissan]), ActorBlueprint(id=walker.pedestrian.0031,tags=[walker, pedestrian, 0031]), ActorBlueprint(id=vehicle.mercedes.sprinter,tags=[vehicle, mercedes, sprinter]), ActorBlueprint(id=vehicle.ford.crown,tags=[vehicle, ford, crown]), ActorBlueprint(id=static.prop.pergola,tags=[static, prop, pergola]), ActorBlueprint(id=vehicle.volkswagen.t2_2021,tags=[t2_2021, vehicle, volkswagen]), ActorBlueprint(id=walker.pedestrian.0010,tags=[walker, 0010, pedestrian]), ActorBlueprint(id=sensor.other.collision,tags=[sensor, other, collision]), ActorBlueprint(id=sensor.camera.optical_flow,tags=[sensor, camera, optical_flow]), ActorBlueprint(id=sensor.camera.depth,tags=[sensor, camera, depth]), ActorBlueprint(id=static.prop.ironplank,tags=[static, prop, ironplank]), ActorBlueprint(id=sensor.camera.normals,tags=[normals, sensor, camera]), ActorBlueprint(id=static.prop.warningconstruction,tags=[static, prop, warningconstruction]), ActorBlueprint(id=sensor.camera.dvs,tags=[sensor, camera, dvs]), ActorBlueprint(id=sensor.other.gnss,tags=[sensor, other, gnss]), ActorBlueprint(id=walker.pedestrian.0013,tags=[walker, pedestrian, 0013]), ActorBlueprint(id=sensor.other.imu,tags=[sensor, other, imu]), ActorBlueprint(id=static.prop.platformgarbage01,tags=[static, prop, platformgarbage01]), ActorBlueprint(id=sensor.other.lane_invasion,tags=[lane_invasion, sensor, other]), ActorBlueprint(id=static.prop.doghouse,tags=[static, prop, doghouse]), ActorBlueprint(id=walker.pedestrian.0024,tags=[walker, pedestrian, 0024]), ActorBlueprint(id=sensor.other.obstacle,tags=[sensor, other, obstacle]), ActorBlueprint(id=static.prop.creasedbox01,tags=[static, prop, creasedbox01]), ActorBlueprint(id=sensor.other.radar,tags=[radar, sensor, other]), ActorBlueprint(id=sensor.lidar.ray_cast_semantic,tags=[sensor, lidar, ray_cast_semantic]), ActorBlueprint(id=walker.pedestrian.0007,tags=[walker, pedestrian, 0007]), ActorBlueprint(id=sensor.lidar.ray_cast,tags=[sensor, lidar, ray_cast]), ActorBlueprint(id=static.prop.trashcan03,tags=[static, prop, trashcan03]), ActorBlueprint(id=sensor.other.rss,tags=[rss, sensor, other]), ActorBlueprint(id=util.actor.empty,tags=[util, actor, empty]), ActorBlueprint(id=sensor.camera.rgb,tags=[sensor, camera, rgb]), ActorBlueprint(id=sensor.camera.semantic_segmentation,tags=[sensor, camera, semantic_segmentation]), ActorBlueprint(id=static.prop.dirtdebris02,tags=[static, prop, dirtdebris02]), ActorBlueprint(id=sensor.camera.instance_segmentation,tags=[sensor, camera, instance_segmentation]), ActorBlueprint(id=walker.pedestrian.0001,tags=[walker, pedestrian, 0001]), ActorBlueprint(id=walker.pedestrian.0002,tags=[0002, walker, pedestrian]), ActorBlueprint(id=walker.pedestrian.0003,tags=[walker, 0003, pedestrian]), ActorBlueprint(id=static.prop.atm,tags=[static, prop, atm]), ActorBlueprint(id=walker.pedestrian.0004,tags=[walker, pedestrian, 0004]), ActorBlueprint(id=walker.pedestrian.0005,tags=[walker, pedestrian, 0005]), ActorBlueprint(id=walker.pedestrian.0006,tags=[walker, pedestrian, 0006]), ActorBlueprint(id=static.prop.garbage05,tags=[garbage05, static, prop]), ActorBlueprint(id=walker.pedestrian.0008,tags=[walker, pedestrian, 0008]), ActorBlueprint(id=static.prop.garbage04,tags=[static, garbage04, prop]), ActorBlueprint(id=walker.pedestrian.0009,tags=[walker, pedestrian, 0009]), ActorBlueprint(id=walker.pedestrian.0011,tags=[0011, walker, pedestrian]), ActorBlueprint(id=walker.pedestrian.0012,tags=[walker, pedestrian, 0012]), ActorBlueprint(id=walker.pedestrian.0014,tags=[walker, pedestrian, 0014]), ActorBlueprint(id=walker.pedestrian.0015,tags=[walker, pedestrian, 0015]), ActorBlueprint(id=walker.pedestrian.0016,tags=[walker, pedestrian, 0016]), ActorBlueprint(id=walker.pedestrian.0017,tags=[walker, pedestrian, 0017]), ActorBlueprint(id=walker.pedestrian.0018,tags=[walker, 0018, pedestrian]), ActorBlueprint(id=walker.pedestrian.0019,tags=[0019, walker, pedestrian]), ActorBlueprint(id=static.prop.plasticbag,tags=[plasticbag, static, prop]), ActorBlueprint(id=static.prop.busstop,tags=[static, prop, busstop]), ActorBlueprint(id=walker.pedestrian.0020,tags=[0020, walker, pedestrian]), ActorBlueprint(id=walker.pedestrian.0022,tags=[walker, pedestrian, 0022]), ActorBlueprint(id=static.prop.clothcontainer,tags=[static, prop, clothcontainer]), ActorBlueprint(id=walker.pedestrian.0023,tags=[walker, pedestrian, 0023]), ActorBlueprint(id=walker.pedestrian.0025,tags=[walker, pedestrian, 0025]), ActorBlueprint(id=static.prop.fountain,tags=[static, prop, fountain]), ActorBlueprint(id=walker.pedestrian.0026,tags=[walker, pedestrian, 0026]), ActorBlueprint(id=walker.pedestrian.0027,tags=[walker, pedestrian, 0027]), ActorBlueprint(id=walker.pedestrian.0028,tags=[0028, walker, pedestrian]), ActorBlueprint(id=static.prop.advertisement,tags=[static, prop, advertisement]), ActorBlueprint(id=walker.pedestrian.0029,tags=[walker, 0029, pedestrian]), ActorBlueprint(id=walker.pedestrian.0030,tags=[walker, pedestrian, 0030]), ActorBlueprint(id=static.prop.slide,tags=[static, prop, slide]), ActorBlueprint(id=walker.pedestrian.0032,tags=[walker, pedestrian, 0032]), ActorBlueprint(id=walker.pedestrian.0033,tags=[walker, pedestrian, 0033]), ActorBlueprint(id=walker.pedestrian.0034,tags=[walker, pedestrian, 0034]), ActorBlueprint(id=walker.pedestrian.0035,tags=[walker, pedestrian, 0035]), ActorBlueprint(id=static.prop.colacan,tags=[static, prop, colacan]), ActorBlueprint(id=walker.pedestrian.0036,tags=[walker, 0036, pedestrian]), ActorBlueprint(id=static.prop.trashcan04,tags=[static, prop, trashcan04]), ActorBlueprint(id=static.prop.plastictable,tags=[static, prop, plastictable]), ActorBlueprint(id=walker.pedestrian.0039,tags=[walker, pedestrian, 0039]), ActorBlueprint(id=static.prop.mailbox,tags=[mailbox, static, prop]), ActorBlueprint(id=walker.pedestrian.0040,tags=[walker, pedestrian, 0040]), ActorBlueprint(id=walker.pedestrian.0041,tags=[walker, pedestrian, 0041]), ActorBlueprint(id=walker.pedestrian.0042,tags=[walker, pedestrian, 0042]), ActorBlueprint(id=walker.pedestrian.0043,tags=[walker, pedestrian, 0043]), ActorBlueprint(id=static.prop.swingcouch,tags=[static, prop, swingcouch]), ActorBlueprint(id=walker.pedestrian.0044,tags=[walker, pedestrian, 0044]), ActorBlueprint(id=walker.pedestrian.0045,tags=[walker, pedestrian, 0045]), ActorBlueprint(id=walker.pedestrian.0047,tags=[walker, 0047, pedestrian]), ActorBlueprint(id=walker.pedestrian.0048,tags=[walker, pedestrian, 0048]), ActorBlueprint(id=walker.pedestrian.0049,tags=[walker, pedestrian, 0049]), ActorBlueprint(id=walker.pedestrian.0050,tags=[walker, pedestrian, 0050]), ActorBlueprint(id=static.prop.streetbarrier,tags=[static, prop, streetbarrier]), ActorBlueprint(id=walker.pedestrian.0051,tags=[walker, pedestrian, 0051]), ActorBlueprint(id=static.prop.barbeque,tags=[static, barbeque, prop]), ActorBlueprint(id=static.prop.plantpot07,tags=[static, plantpot07, prop]), ActorBlueprint(id=static.prop.bench01,tags=[static, prop, bench01]), ActorBlueprint(id=static.prop.plantpot05,tags=[static, prop, plantpot05]), ActorBlueprint(id=static.prop.bench03,tags=[static, bench03, prop]), ActorBlueprint(id=static.prop.bin,tags=[static, prop, bin]), ActorBlueprint(id=static.prop.garbage03,tags=[static, prop, garbage03]), ActorBlueprint(id=static.prop.box01,tags=[static, prop, box01]), ActorBlueprint(id=static.prop.box02,tags=[static, prop, box02]), ActorBlueprint(id=static.prop.garbage01,tags=[static, prop, garbage01]), ActorBlueprint(id=static.prop.box03,tags=[static, prop, box03]), ActorBlueprint(id=static.prop.table,tags=[static, prop, table]), ActorBlueprint(id=static.prop.briefcase,tags=[briefcase, static, prop]), ActorBlueprint(id=static.prop.brokentile01,tags=[static, prop, brokentile01]), ActorBlueprint(id=static.prop.brokentile02,tags=[static, prop, brokentile02]), ActorBlueprint(id=static.prop.trafficcone02,tags=[static, prop, trafficcone02]), ActorBlueprint(id=static.prop.brokentile03,tags=[static, prop, brokentile03]), ActorBlueprint(id=static.prop.brokentile04,tags=[static, brokentile04, prop]), ActorBlueprint(id=static.prop.vendingmachine,tags=[vendingmachine, static, prop]), ActorBlueprint(id=static.prop.chainbarrier,tags=[static, prop, chainbarrier]), ActorBlueprint(id=static.prop.chainbarrierend,tags=[static, prop, chainbarrierend]), ActorBlueprint(id=static.prop.shoppingbag,tags=[static, prop, shoppingbag]), ActorBlueprint(id=static.prop.clothesline,tags=[static, prop, clothesline]), ActorBlueprint(id=static.prop.constructioncone,tags=[static, prop, constructioncone]), ActorBlueprint(id=static.prop.container,tags=[static, container, prop]), ActorBlueprint(id=static.prop.creasedbox03,tags=[static, prop, creasedbox03]), ActorBlueprint(id=static.prop.dirtdebris01,tags=[static, prop, dirtdebris01]), ActorBlueprint(id=static.prop.dirtdebris03,tags=[static, prop, dirtdebris03]), ActorBlueprint(id=static.prop.garbage02,tags=[static, prop, garbage02]), ActorBlueprint(id=static.prop.plasticchair,tags=[static, prop, plasticchair]), ActorBlueprint(id=static.prop.garbage06,tags=[static, prop, garbage06]), ActorBlueprint(id=static.prop.calibrator,tags=[static, prop, calibrator]), ActorBlueprint(id=static.prop.gardenlamp,tags=[static, prop, gardenlamp]), ActorBlueprint(id=static.prop.gnome,tags=[static, prop, gnome]), ActorBlueprint(id=static.prop.guitarcase,tags=[guitarcase, static, prop]), ActorBlueprint(id=static.prop.maptable,tags=[maptable, static, prop]), ActorBlueprint(id=static.prop.mobile,tags=[static, prop, mobile]), ActorBlueprint(id=static.prop.plantpot08,tags=[static, prop, plantpot08]), ActorBlueprint(id=static.prop.motorhelmet,tags=[static, prop, motorhelmet]), ActorBlueprint(id=static.prop.plantpot01,tags=[static, prop, plantpot01]), ActorBlueprint(id=static.prop.plantpot03,tags=[static, prop, plantpot03]), ActorBlueprint(id=static.prop.purse,tags=[static, purse, prop]), ActorBlueprint(id=static.prop.shoppingcart,tags=[static, prop, shoppingcart]), ActorBlueprint(id=static.prop.shoppingtrolley,tags=[static, prop, shoppingtrolley]), ActorBlueprint(id=static.prop.streetsign01,tags=[static, streetsign01, prop]), ActorBlueprint(id=static.prop.haybalelb,tags=[static, prop, haybalelb]), ActorBlueprint(id=static.prop.streetsign04,tags=[static, prop, streetsign04]), ActorBlueprint(id=static.prop.streetfountain,tags=[static, prop, streetfountain]), ActorBlueprint(id=static.prop.swing,tags=[static, prop, swing]), ActorBlueprint(id=static.prop.trafficcone01,tags=[static, prop, trafficcone01]), ActorBlueprint(id=static.prop.trafficwarning,tags=[static, prop, trafficwarning]), ActorBlueprint(id=static.prop.trampoline,tags=[static, prop, trampoline]), ActorBlueprint(id=static.prop.trashbag,tags=[static, prop, trashbag]), ActorBlueprint(id=static.prop.trashcan01,tags=[static, prop, trashcan01]), ActorBlueprint(id=static.prop.trashcan02,tags=[static, prop, trashcan02]), ActorBlueprint(id=static.prop.travelcase,tags=[static, prop, travelcase]), ActorBlueprint(id=static.prop.wateringcan,tags=[static, prop, wateringcan]), ActorBlueprint(id=static.prop.foodcart,tags=[foodcart, static, prop]), ActorBlueprint(id=static.prop.haybale,tags=[haybale, static, prop]), ActorBlueprint(id=static.prop.busstoplb,tags=[static, prop, busstoplb]), ActorBlueprint(id=static.prop.mesh,tags=[static, prop, mesh]), ActorBlueprint(id=static.prop.warningaccident,tags=[static, prop, warningaccident]), ActorBlueprint(id=static.trigger.friction,tags=[friction, trigger, static]), ActorBlueprint(id=controller.ai.walker,tags=[controller, walker, ai])]\n"
     ]
    }
   ],
   "source": [
    "vehicle_all = world.get_blueprint_library()\n",
    "print(vehicle_all)"
   ]
  },
  {
   "cell_type": "code",
   "execution_count": null,
   "id": "59ca3de0",
   "metadata": {},
   "outputs": [],
   "source": []
  }
 ],
 "metadata": {
  "kernelspec": {
   "display_name": "Python 3 (ipykernel)",
   "language": "python",
   "name": "python3"
  },
  "language_info": {
   "codemirror_mode": {
    "name": "ipython",
    "version": 3
   },
   "file_extension": ".py",
   "mimetype": "text/x-python",
   "name": "python",
   "nbconvert_exporter": "python",
   "pygments_lexer": "ipython3",
   "version": "3.7.15"
  }
 },
 "nbformat": 4,
 "nbformat_minor": 5
}
