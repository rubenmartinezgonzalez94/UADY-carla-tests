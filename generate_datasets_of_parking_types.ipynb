{
 "cells": [
  {
   "cell_type": "code",
   "id": "52d3849878749a48",
   "metadata": {
    "collapsed": true,
    "ExecuteTime": {
     "end_time": "2024-05-13T07:01:31.150358Z",
     "start_time": "2024-05-13T07:01:30.827577Z"
    }
   },
   "source": [
    "import sys\n",
    "\n",
    "sys.path.append('E:/UADY/CARLA/CARLA_Latest/WindowsNoEditor/PythonAPI/carla')\n",
    "\n",
    "from abc import ABC, abstractmethod\n",
    "import carla\n",
    "import numpy as np\n",
    "import re\n",
    "import cv2\n",
    "import time"
   ],
   "outputs": [],
   "execution_count": 1
  },
  {
   "metadata": {
    "ExecuteTime": {
     "end_time": "2024-05-13T07:01:31.180557Z",
     "start_time": "2024-05-13T07:01:31.152857Z"
    }
   },
   "cell_type": "code",
   "source": [
    "\n",
    "class Simulation_parking():\n",
    "\n",
    "    def __init__(self):\n",
    "        self.client = carla.Client('localhost', 2000)\n",
    "        self.world = self.client.get_world()\n",
    "        self.car_tesla = self.world.get_blueprint_library().filter('*model3*')\n",
    "        self.exclude_regex = re.compile(\n",
    "            r'.*(cybertruck|ambulance|fusorosa|vespa|kawasaki|crossbike|harley|micro|carlamotors|yamaha|gazelle|diamondback).*')\n",
    "        self.vehicle_all = [bp for bp in self.world.get_blueprint_library().filter('*vehicle*') if\n",
    "                            not self.exclude_regex.match(bp.id)]\n",
    "        self.available_parking_probability = 0.33\n",
    "        self.spectator_line = 1\n",
    "\n",
    "    def load_world(self, world_name):\n",
    "        self.client.set_timeout(4.0)\n",
    "        self.client.load_world(world_name)\n",
    "\n",
    "    def configure_weather(self, weather):\n",
    "        self.world.set_weather(weather)\n",
    "\n",
    "    def clean_actors(self):\n",
    "        for actor in self.world.get_actors().filter('*vehicle*'):\n",
    "            actor.destroy()\n",
    "        for sensor in self.world.get_actors().filter('*sensor*'):\n",
    "            sensor.destroy()\n",
    "\n",
    "    def get_lights(self):\n",
    "        return carla.VehicleLightState(carla.VehicleLightState.Position | carla.VehicleLightState.LowBeam)\n",
    "\n",
    "    def capture_image(self, image, vehicle, image_path):\n",
    "        image_array = np.frombuffer(image.raw_data, dtype=np.uint8)\n",
    "        image_array = np.reshape(image_array, (image.height, image.width, 4))\n",
    "        image_bgr = image_array[:, :, :3]  # Convertir de formato RGBA a formato BGR para OpenCV\n",
    "        created = time.time()\n",
    "\n",
    "        image_tags = self.generate_tag_for_image(f'camera_front_mirror', vehicle)\n",
    "\n",
    "        cv2.imwrite(f'{image_path}_{image_tags}.jpg', image_bgr)\n",
    "\n",
    "    def generate_tag_for_image(self, sensor_tag, vehicle):\n",
    "        x = vehicle.get_location().x\n",
    "        y = vehicle.get_location().y\n",
    "        yaw = vehicle.get_transform().rotation.yaw\n",
    "        created = time.time()\n",
    "        return f's={sensor_tag}_x={x}_y={y}_a={yaw}_t={created}'\n"
   ],
   "id": "9f63f6097bcc6b1d",
   "outputs": [],
   "execution_count": 2
  },
  {
   "metadata": {
    "ExecuteTime": {
     "end_time": "2024-05-13T07:01:31.210956Z",
     "start_time": "2024-05-13T07:01:31.183455Z"
    }
   },
   "cell_type": "code",
   "source": [
    "class Simulation_parking_perpendicular(Simulation_parking):\n",
    "    def __init__(self):\n",
    "        super().__init__()\n",
    "        self.coordinates_of_parking_trajectories = [\n",
    "            [406.6, 177.3, 117.5, 40, 30000],\n",
    "            [651.3, 368.7, 117.5, -140, 30000],\n",
    "            # [150, -122.5, -140, 30000],\n",
    "\n",
    "            # [[406.6, 177.3], [636.9, 369.8]],\n",
    "            # [[651.3, 368.7], [459.2, 206.6]],\n",
    "            # [[362.7, 369.6], [339.9, 369.6]],\n",
    "        ]\n",
    "\n",
    "    def make_images_from_trajectories(self):\n",
    "        for trajectory in self.coordinates_of_parking_trajectories:\n",
    "            self.make_images_from_trajectory(trajectory)\n",
    "\n",
    "    def attach_camera_to_vehicle(self, vehicle):\n",
    "        ancho_imagen = 1920\n",
    "        alto_imagen = 1080\n",
    "\n",
    "        camera_bp = self.world.get_blueprint_library().find('sensor.camera.rgb')\n",
    "        camera_bp.set_attribute('image_size_x', str(ancho_imagen))\n",
    "        camera_bp.set_attribute('image_size_y', str(alto_imagen))\n",
    "        camera_location_mirror = carla.Location(x=0, y=1, z=1.25)\n",
    "        camera_Rotation_mirror = carla.Rotation(yaw=45)\n",
    "        camera_transform = carla.Transform(camera_location_mirror, camera_Rotation_mirror)\n",
    "        camera = self.world.spawn_actor(camera_bp, camera_transform, attach_to=vehicle)\n",
    "        return camera\n",
    "\n",
    "    def make_images_from_trajectory(self, trajectory):\n",
    "        wait = trajectory[4]\n",
    "        yaw = trajectory[3]\n",
    "        z_axis = trajectory[2]\n",
    "        spectator = self.world.get_spectator()\n",
    "\n",
    "        start_point = carla.Transform(\n",
    "            carla.Location(x=trajectory[0], y=trajectory[1], z=z_axis),\n",
    "            carla.Rotation(yaw=yaw)\n",
    "        )\n",
    "        spectator.set_transform(start_point)\n",
    "        vehicle_tesla = self.world.try_spawn_actor(self.car_tesla[0], start_point)\n",
    "        vehicle_tesla.set_light_state(self.get_lights())\n",
    "        cv2.waitKey(2000)\n",
    "\n",
    "        camera = self.attach_camera_to_vehicle(vehicle_tesla)\n",
    "\n",
    "        camera.listen(\n",
    "            lambda image: self.capture_image(image, vehicle_tesla, './perpendicular_parking/'))\n",
    "\n",
    "        vehicle_tesla.set_autopilot(True)\n",
    "\n",
    "        cv2.waitKey(wait)\n",
    "        vehicle_tesla.destroy()\n",
    "        camera.destroy()"
   ],
   "id": "9fa6fc2dac5341eb",
   "outputs": [],
   "execution_count": 3
  },
  {
   "metadata": {
    "ExecuteTime": {
     "end_time": "2024-05-13T07:01:31.226390Z",
     "start_time": "2024-05-13T07:01:31.213463Z"
    }
   },
   "cell_type": "code",
   "source": [
    "\n",
    "class Simulation_parking_angle(Simulation_parking):\n",
    "    def __init__(self):\n",
    "        super().__init__()\n",
    "        self.coordinates_of_parking_trajectories = [\n",
    "            [245.6, 670.1, 127, -12, 15000],\n",
    "            [-543.6, 154, 165, 0, 25000],\n",
    "            # [388.4, 617.0],\n",
    "        ]\n",
    "\n",
    "    def make_images_from_trajectories(self):\n",
    "        for trajectory in self.coordinates_of_parking_trajectories:\n",
    "            self.make_images_from_trajectory(trajectory)\n",
    "\n",
    "    def attach_camera_to_vehicle(self, vehicle):\n",
    "        ancho_imagen = 1920\n",
    "        alto_imagen = 1080\n",
    "\n",
    "        camera_bp = self.world.get_blueprint_library().find('sensor.camera.rgb')\n",
    "        camera_bp.set_attribute('image_size_x', str(ancho_imagen))\n",
    "        camera_bp.set_attribute('image_size_y', str(alto_imagen))\n",
    "        camera_location_mirror = carla.Location(x=0, y=1, z=1.25)\n",
    "        camera_Rotation_mirror = carla.Rotation(yaw=45)\n",
    "        camera_transform = carla.Transform(camera_location_mirror, camera_Rotation_mirror)\n",
    "        camera = self.world.spawn_actor(camera_bp, camera_transform, attach_to=vehicle)\n",
    "        return camera\n",
    "\n",
    "    def make_images_from_trajectory(self, trajectory):\n",
    "        wait = trajectory[4]\n",
    "        yaw = trajectory[3]\n",
    "        z_axis = trajectory[2]\n",
    "        spectator = self.world.get_spectator()\n",
    "\n",
    "        start_point = carla.Transform(\n",
    "            carla.Location(x=trajectory[0], y=trajectory[1], z=z_axis),\n",
    "            carla.Rotation(yaw=yaw)\n",
    "        )\n",
    "        spectator.set_transform(start_point)\n",
    "        vehicle_tesla = self.world.try_spawn_actor(self.car_tesla[0], start_point)\n",
    "        vehicle_tesla.set_light_state(self.get_lights())\n",
    "        cv2.waitKey(2000)\n",
    "\n",
    "        camera = self.attach_camera_to_vehicle(vehicle_tesla)\n",
    "\n",
    "        camera.listen(\n",
    "            lambda image: self.capture_image(image, vehicle_tesla, './angle_parking/'))\n",
    "\n",
    "        vehicle_tesla.set_autopilot(True)\n",
    "\n",
    "        cv2.waitKey(wait)\n",
    "        vehicle_tesla.destroy()\n",
    "        camera.destroy()"
   ],
   "id": "8ca7890306107c7a",
   "outputs": [],
   "execution_count": 4
  },
  {
   "metadata": {
    "ExecuteTime": {
     "end_time": "2024-05-13T07:01:31.256341Z",
     "start_time": "2024-05-13T07:01:31.229382Z"
    }
   },
   "cell_type": "code",
   "source": [
    "class Simulation_parking_parallel(Simulation_parking):\n",
    "    def __init__(self):\n",
    "        super().__init__()\n",
    "\n",
    "        self.coordinates_of_parking_trajectories = [\n",
    "            [879.4, 228.2,132, 140, 18000],\n",
    "            [79, 279.4, 153, 220, 18000],\n",
    "            # [716.0, 361.9],\n",
    "        ]\n",
    "\n",
    "    def make_images_from_trajectories(self):\n",
    "        for trajectory in self.coordinates_of_parking_trajectories:\n",
    "            self.make_images_from_trajectory(trajectory)\n",
    "\n",
    "    def attach_camera_to_vehicle(self, vehicle):\n",
    "        ancho_imagen = 1920\n",
    "        alto_imagen = 1080\n",
    "\n",
    "        camera_bp = self.world.get_blueprint_library().find('sensor.camera.rgb')\n",
    "        camera_bp.set_attribute('image_size_x', str(ancho_imagen))\n",
    "        camera_bp.set_attribute('image_size_y', str(alto_imagen))\n",
    "        camera_location_mirror = carla.Location(x=0, y=1, z=1.25)\n",
    "        camera_Rotation_mirror = carla.Rotation(yaw=45)\n",
    "        camera_transform = carla.Transform(camera_location_mirror, camera_Rotation_mirror)\n",
    "        camera = self.world.spawn_actor(camera_bp, camera_transform, attach_to=vehicle)\n",
    "        return camera\n",
    "\n",
    "    def make_images_from_trajectory(self, trajectory):\n",
    "        wait = trajectory[4]\n",
    "        yaw = trajectory[3]\n",
    "        z_axis = trajectory[2]\n",
    "        spectator = self.world.get_spectator()\n",
    "\n",
    "        start_point = carla.Transform(\n",
    "            carla.Location(x=trajectory[0], y=trajectory[1], z=z_axis),\n",
    "            carla.Rotation(yaw=yaw)\n",
    "        )\n",
    "        spectator.set_transform(start_point)\n",
    "        vehicle_tesla = self.world.try_spawn_actor(self.car_tesla[0], start_point)\n",
    "        vehicle_tesla.set_light_state(self.get_lights())\n",
    "        cv2.waitKey(2000)\n",
    "\n",
    "        camera = self.attach_camera_to_vehicle(vehicle_tesla)\n",
    "\n",
    "        camera.listen(\n",
    "            lambda image: self.capture_image(image, vehicle_tesla, './parallel_parking/'))\n",
    "\n",
    "        vehicle_tesla.set_autopilot(True)\n",
    "\n",
    "        cv2.waitKey(wait)\n",
    "        vehicle_tesla.destroy()\n",
    "        camera.destroy()\n"
   ],
   "id": "e82a69b1568ee656",
   "outputs": [],
   "execution_count": 5
  },
  {
   "metadata": {
    "ExecuteTime": {
     "end_time": "2024-05-13T07:01:31.272308Z",
     "start_time": "2024-05-13T07:01:31.256341Z"
    }
   },
   "cell_type": "code",
   "source": [
    "def generate_random_weathers(count_weathers):\n",
    "    weathers = []\n",
    "    for i in range(count_weathers):\n",
    "        weathers.append(\n",
    "            carla.WeatherParameters(\n",
    "                # determina la altura del sol. Valores de -90 a 90.\n",
    "                sun_altitude_angle=np.random.randint(-90, 90),\n",
    "\n",
    "                # determina la intensidad de la lluvia. Valores de 0 a 100.\n",
    "                precipitation=np.random.randint(0, 30),\n",
    "\n",
    "                # determina la creación de charcos en el suelo. Valores de 0 a 100.\n",
    "                precipitation_deposits=np.random.randint(0, 30),\n",
    "\n",
    "                # determina la intensidad del viento. Valores de 0 a 100. El viento afecta la dirección de la lluvia y las hojas de los árboles\n",
    "                wind_intensity=np.random.randint(0, 30),\n",
    "\n",
    "                # determina la densidad de la niebla. Valores de 0 a 100.\n",
    "                fog_density=np.random.randint(0, 30),\n",
    "\n",
    "                # determina la densidad de la tormenta de polvo. Valores de 0 a 100.\n",
    "                dust_storm=np.random.randint(0, 30),\n",
    "            )\n",
    "        )\n",
    "    return weathers"
   ],
   "id": "81cdeb8665194bf6",
   "outputs": [],
   "execution_count": 6
  },
  {
   "metadata": {
    "ExecuteTime": {
     "end_time": "2024-05-13T07:01:43.281315Z",
     "start_time": "2024-05-13T07:01:36.910853Z"
    }
   },
   "cell_type": "code",
   "source": [
    "simulation = Simulation_parking()\n",
    "simulation.load_world('Town15')"
   ],
   "id": "7af61561ef1f1745",
   "outputs": [
    {
     "ename": "RuntimeError",
     "evalue": "time-out of 4000ms while waiting for the simulator, make sure the simulator is ready and connected to localhost:2000",
     "output_type": "error",
     "traceback": [
      "\u001B[1;31m---------------------------------------------------------------------------\u001B[0m",
      "\u001B[1;31mRuntimeError\u001B[0m                              Traceback (most recent call last)",
      "\u001B[1;32m~\\AppData\\Local\\Temp\\ipykernel_23688\\3666585571.py\u001B[0m in \u001B[0;36m<module>\u001B[1;34m\u001B[0m\n\u001B[0;32m      1\u001B[0m \u001B[0msimulation\u001B[0m \u001B[1;33m=\u001B[0m \u001B[0mSimulation_parking\u001B[0m\u001B[1;33m(\u001B[0m\u001B[1;33m)\u001B[0m\u001B[1;33m\u001B[0m\u001B[1;33m\u001B[0m\u001B[0m\n\u001B[1;32m----> 2\u001B[1;33m \u001B[0msimulation\u001B[0m\u001B[1;33m.\u001B[0m\u001B[0mload_world\u001B[0m\u001B[1;33m(\u001B[0m\u001B[1;34m'Town15'\u001B[0m\u001B[1;33m)\u001B[0m\u001B[1;33m\u001B[0m\u001B[1;33m\u001B[0m\u001B[0m\n\u001B[0m",
      "\u001B[1;32m~\\AppData\\Local\\Temp\\ipykernel_23688\\966460161.py\u001B[0m in \u001B[0;36mload_world\u001B[1;34m(self, world_name)\u001B[0m\n\u001B[0;32m     14\u001B[0m     \u001B[1;32mdef\u001B[0m \u001B[0mload_world\u001B[0m\u001B[1;33m(\u001B[0m\u001B[0mself\u001B[0m\u001B[1;33m,\u001B[0m \u001B[0mworld_name\u001B[0m\u001B[1;33m)\u001B[0m\u001B[1;33m:\u001B[0m\u001B[1;33m\u001B[0m\u001B[1;33m\u001B[0m\u001B[0m\n\u001B[0;32m     15\u001B[0m         \u001B[0mself\u001B[0m\u001B[1;33m.\u001B[0m\u001B[0mclient\u001B[0m\u001B[1;33m.\u001B[0m\u001B[0mset_timeout\u001B[0m\u001B[1;33m(\u001B[0m\u001B[1;36m4.0\u001B[0m\u001B[1;33m)\u001B[0m\u001B[1;33m\u001B[0m\u001B[1;33m\u001B[0m\u001B[0m\n\u001B[1;32m---> 16\u001B[1;33m         \u001B[0mself\u001B[0m\u001B[1;33m.\u001B[0m\u001B[0mclient\u001B[0m\u001B[1;33m.\u001B[0m\u001B[0mload_world\u001B[0m\u001B[1;33m(\u001B[0m\u001B[0mworld_name\u001B[0m\u001B[1;33m)\u001B[0m\u001B[1;33m\u001B[0m\u001B[1;33m\u001B[0m\u001B[0m\n\u001B[0m\u001B[0;32m     17\u001B[0m \u001B[1;33m\u001B[0m\u001B[0m\n\u001B[0;32m     18\u001B[0m     \u001B[1;32mdef\u001B[0m \u001B[0mconfigure_weather\u001B[0m\u001B[1;33m(\u001B[0m\u001B[0mself\u001B[0m\u001B[1;33m,\u001B[0m \u001B[0mweather\u001B[0m\u001B[1;33m)\u001B[0m\u001B[1;33m:\u001B[0m\u001B[1;33m\u001B[0m\u001B[1;33m\u001B[0m\u001B[0m\n",
      "\u001B[1;31mRuntimeError\u001B[0m: time-out of 4000ms while waiting for the simulator, make sure the simulator is ready and connected to localhost:2000"
     ]
    }
   ],
   "execution_count": 7
  },
  {
   "metadata": {
    "ExecuteTime": {
     "end_time": "2024-05-13T07:02:47.640519Z",
     "start_time": "2024-05-13T07:02:47.619645Z"
    }
   },
   "cell_type": "code",
   "source": "weathers = generate_random_weathers(3)",
   "id": "140ddb96c89807be",
   "outputs": [],
   "execution_count": 8
  },
  {
   "metadata": {
    "ExecuteTime": {
     "end_time": "2024-05-13T07:10:37.944656Z",
     "start_time": "2024-05-13T07:02:48.891170Z"
    }
   },
   "cell_type": "code",
   "source": [
    "for weather in weathers:\n",
    "    simulation1 = Simulation_parking_perpendicular()\n",
    "    simulation1.configure_weather(weather)\n",
    "    simulation1.make_images_from_trajectories()\n",
    "    \n",
    "    simulation2 = Simulation_parking_angle()\n",
    "    simulation2.configure_weather(weather)\n",
    "    simulation2.make_images_from_trajectories()\n",
    "    \n",
    "    simulation3 = Simulation_parking_parallel()\n",
    "    simulation3.configure_weather(weather)\n",
    "    simulation3.make_images_from_trajectories()"
   ],
   "id": "cffa7f59e3933624",
   "outputs": [],
   "execution_count": 9
  },
  {
   "metadata": {},
   "cell_type": "code",
   "outputs": [],
   "execution_count": 10,
   "source": "esimulation.clean_actors()",
   "id": "44c5cadb22a0a2a2"
  },
  {
   "metadata": {},
   "cell_type": "markdown",
   "source": "",
   "id": "c953541e30f45f99"
  },
  {
   "metadata": {},
   "cell_type": "markdown",
   "source": "",
   "id": "85209eddf9658b05"
  },
  {
   "metadata": {
    "ExecuteTime": {
     "end_time": "2024-05-11T02:50:55.698325Z",
     "start_time": "2024-05-11T02:50:53.365979Z"
    }
   },
   "cell_type": "code",
   "source": [
    "\n",
    "# Ejemplo de uso\n",
    "angle_sim = Simulation_parking_angle()\n",
    "parallel_sim = Simulation_parking_parallel()\n",
    "perpendicular_sim = Simulation_parking_perpendicular()\n",
    "\n",
    "angle_sim.simulate()\n",
    "parallel_sim.simulate()\n",
    "perpendicular_sim.simulate()\n"
   ],
   "id": "initial_id",
   "outputs": [
    {
     "ename": "NameError",
     "evalue": "name 'Simulation_parking_parallel' is not defined",
     "output_type": "error",
     "traceback": [
      "\u001B[1;31m---------------------------------------------------------------------------\u001B[0m",
      "\u001B[1;31mNameError\u001B[0m                                 Traceback (most recent call last)",
      "\u001B[1;32m~\\AppData\\Local\\Temp\\ipykernel_19944\\4267717676.py\u001B[0m in \u001B[0;36m<module>\u001B[1;34m\u001B[0m\n\u001B[0;32m      1\u001B[0m \u001B[1;31m# Ejemplo de uso\u001B[0m\u001B[1;33m\u001B[0m\u001B[1;33m\u001B[0m\u001B[1;33m\u001B[0m\u001B[0m\n\u001B[0;32m      2\u001B[0m \u001B[0mangle_sim\u001B[0m \u001B[1;33m=\u001B[0m \u001B[0mSimulation_parking_angle\u001B[0m\u001B[1;33m(\u001B[0m\u001B[1;33m)\u001B[0m\u001B[1;33m\u001B[0m\u001B[1;33m\u001B[0m\u001B[0m\n\u001B[1;32m----> 3\u001B[1;33m \u001B[0mparallel_sim\u001B[0m \u001B[1;33m=\u001B[0m \u001B[0mSimulation_parking_parallel\u001B[0m\u001B[1;33m(\u001B[0m\u001B[1;33m)\u001B[0m\u001B[1;33m\u001B[0m\u001B[1;33m\u001B[0m\u001B[0m\n\u001B[0m\u001B[0;32m      4\u001B[0m \u001B[0mperpendicular_sim\u001B[0m \u001B[1;33m=\u001B[0m \u001B[0mSimulation_parking_perpendicular\u001B[0m\u001B[1;33m(\u001B[0m\u001B[1;33m)\u001B[0m\u001B[1;33m\u001B[0m\u001B[1;33m\u001B[0m\u001B[0m\n\u001B[0;32m      5\u001B[0m \u001B[1;33m\u001B[0m\u001B[0m\n",
      "\u001B[1;31mNameError\u001B[0m: name 'Simulation_parking_parallel' is not defined"
     ]
    }
   ],
   "execution_count": 93
  },
  {
   "metadata": {},
   "cell_type": "code",
   "outputs": [],
   "execution_count": null,
   "source": "",
   "id": "f95c55c0b2aaf567"
  }
 ],
 "metadata": {
  "kernelspec": {
   "display_name": "Python 3",
   "language": "python",
   "name": "python3"
  },
  "language_info": {
   "codemirror_mode": {
    "name": "ipython",
    "version": 2
   },
   "file_extension": ".py",
   "mimetype": "text/x-python",
   "name": "python",
   "nbconvert_exporter": "python",
   "pygments_lexer": "ipython2",
   "version": "2.7.6"
  }
 },
 "nbformat": 4,
 "nbformat_minor": 5
}
