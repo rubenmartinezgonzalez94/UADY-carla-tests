{
 "cells": [
  {
   "metadata": {
    "ExecuteTime": {
     "end_time": "2024-08-25T21:50:06.965659Z",
     "start_time": "2024-08-25T21:50:06.741450Z"
    }
   },
   "cell_type": "code",
   "source": [
    "import numpy as np\n",
    "import sys\n",
    "\n",
    "sys.path.append('E:/UADY/CARLA/CARLA_Latest/WindowsNoEditor/PythonAPI/carla')\n",
    "\n",
    "import carla\n",
    "import time\n",
    "import math"
   ],
   "id": "348d8ef911e19e4d",
   "outputs": [],
   "execution_count": 1
  },
  {
   "metadata": {
    "ExecuteTime": {
     "end_time": "2024-08-25T21:52:51.820059Z",
     "start_time": "2024-08-25T21:52:34.759642Z"
    }
   },
   "cell_type": "code",
   "source": [
    "client = carla.Client('localhost', 2000)\n",
    "client.set_timeout(10.0)\n",
    "client.load_world('Town05')\n"
   ],
   "id": "10cf6bdd1fa4d12d",
   "outputs": [
    {
     "ename": "RuntimeError",
     "evalue": "time-out of 15000ms while waiting for the simulator, make sure the simulator is ready and connected to localhost:2000",
     "output_type": "error",
     "traceback": [
      "\u001B[1;31m---------------------------------------------------------------------------\u001B[0m",
      "\u001B[1;31mRuntimeError\u001B[0m                              Traceback (most recent call last)",
      "\u001B[1;32m~\\AppData\\Local\\Temp\\ipykernel_13072\\2324837447.py\u001B[0m in \u001B[0;36m<module>\u001B[1;34m\u001B[0m\n\u001B[0;32m      1\u001B[0m \u001B[0mclient\u001B[0m \u001B[1;33m=\u001B[0m \u001B[0mcarla\u001B[0m\u001B[1;33m.\u001B[0m\u001B[0mClient\u001B[0m\u001B[1;33m(\u001B[0m\u001B[1;34m'localhost'\u001B[0m\u001B[1;33m,\u001B[0m \u001B[1;36m2000\u001B[0m\u001B[1;33m)\u001B[0m\u001B[1;33m\u001B[0m\u001B[1;33m\u001B[0m\u001B[0m\n\u001B[0;32m      2\u001B[0m \u001B[0mclient\u001B[0m\u001B[1;33m.\u001B[0m\u001B[0mset_timeout\u001B[0m\u001B[1;33m(\u001B[0m\u001B[1;36m15.0\u001B[0m\u001B[1;33m)\u001B[0m\u001B[1;33m\u001B[0m\u001B[1;33m\u001B[0m\u001B[0m\n\u001B[1;32m----> 3\u001B[1;33m \u001B[0mclient\u001B[0m\u001B[1;33m.\u001B[0m\u001B[0mload_world\u001B[0m\u001B[1;33m(\u001B[0m\u001B[1;34m'Town05'\u001B[0m\u001B[1;33m)\u001B[0m\u001B[1;33m\u001B[0m\u001B[1;33m\u001B[0m\u001B[0m\n\u001B[0m\u001B[0;32m      4\u001B[0m \u001B[1;33m\u001B[0m\u001B[0m\n",
      "\u001B[1;31mRuntimeError\u001B[0m: time-out of 15000ms while waiting for the simulator, make sure the simulator is ready and connected to localhost:2000"
     ]
    }
   ],
   "execution_count": 3
  },
  {
   "metadata": {
    "ExecuteTime": {
     "end_time": "2024-08-25T21:50:24.172282800Z",
     "start_time": "2024-08-25T21:14:27.414643Z"
    }
   },
   "cell_type": "code",
   "source": [
    "thickness = 0.0099\n",
    "corners_points = [[6,-28.5,0],[6,-31.5,0],[11.5,-28.5,0],[11.5,-31.5,0]]\n"
   ],
   "id": "9df219d2d1133eee",
   "outputs": [],
   "execution_count": 3
  },
  {
   "metadata": {
    "ExecuteTime": {
     "end_time": "2024-08-25T21:50:24.173773400Z",
     "start_time": "2024-08-25T21:14:27.445993Z"
    }
   },
   "cell_type": "code",
   "source": [
    "def init_camera_vehicle( vehicle: carla.Actor):\n",
    "        ancho_imagen = 1920\n",
    "        alto_imagen = 1080\n",
    "\n",
    "        # Obtener la cámara frontal del vehículo\n",
    "        camera_blueprint = world.get_blueprint_library().find('sensor.camera.rgb')\n",
    "        camera_blueprint.set_attribute('image_size_x', str(ancho_imagen))\n",
    "        camera_blueprint.set_attribute('image_size_y', str(alto_imagen))\n",
    "        camera_blueprint.set_attribute('sensor_tick', '0.1')  # Frecuencia de actualización de la \n",
    "\n",
    "\n",
    "        # Configurar y spawnear la cámara frontal del espejo (mirror)\n",
    "        camera_location_mirror = carla.Location(x=0.5, y=0.0,\n",
    "                                                z=1.3)  # Ajustar la ubicación de la cámara según sea necesario\n",
    "        camera_transform_mirror = carla.Transform(camera_location_mirror)\n",
    "        camera_mirror = world.spawn_actor(camera_blueprint, camera_transform_mirror, attach_to=vehicle)\n",
    "        \n",
    "        return camera_mirror"
   ],
   "id": "290c473725fc6e3b",
   "outputs": [],
   "execution_count": 4
  },
  {
   "metadata": {
    "ExecuteTime": {
     "end_time": "2024-08-25T21:50:24.174269200Z",
     "start_time": "2024-08-25T21:14:27.477581Z"
    }
   },
   "cell_type": "code",
   "source": [
    "def draw_coordinate_axes(camera, length=2.0):\n",
    "    # Colores más suaves para los ejes\n",
    "    color_x = carla.Color(150, 50, 50)    # Rojo apagado para el eje X\n",
    "    color_y = carla.Color(50, 150, 50)    # Verde apagado para el eje Y\n",
    "    color_z = carla.Color(50, 50, 150)    # Azul apagado para el eje Z\n",
    "\n",
    "    # Obtén la transformación de la cámara\n",
    "    camera_transform = camera.get_transform()\n",
    "\n",
    "    # Centro de coordenadas en la cámara\n",
    "    camera_location = camera_transform.location\n",
    "    camera_rotation = camera_transform.rotation\n",
    "\n",
    "    # Eje X\n",
    "    end_x = camera_location + carla.Location(\n",
    "        x=length * math.cos(math.radians(camera_rotation.yaw)),\n",
    "        y=length * math.sin(math.radians(camera_rotation.yaw))\n",
    "    )\n",
    "    world.debug.draw_line(camera_location, end_x, thickness=thickness, color=color_x, life_time=1.0)\n",
    "    world.debug.draw_string(end_x, 'X', draw_shadow=False, color=color_x, life_time=1.0)\n",
    "\n",
    "    # Eje Y\n",
    "    end_y = camera_location + carla.Location(\n",
    "        x=length * math.cos(math.radians(camera_rotation.yaw + 90)),\n",
    "        y=length * math.sin(math.radians(camera_rotation.yaw + 90))\n",
    "    )\n",
    "    world.debug.draw_line(camera_location, end_y, thickness=thickness, color=color_y, life_time=1.0)\n",
    "    world.debug.draw_string(end_y, 'Y', draw_shadow=False, color=color_y, life_time=1.0)\n",
    "\n",
    "    # Eje Z\n",
    "    end_z = camera_location + carla.Location(z=length)\n",
    "    world.debug.draw_line(camera_location, end_z, thickness=thickness, color=color_z, life_time=1.0)\n",
    "    world.debug.draw_string(end_z, 'Z', draw_shadow=False, color=color_z, life_time=1.0)"
   ],
   "id": "initial_id",
   "outputs": [],
   "execution_count": 5
  },
  {
   "metadata": {
    "ExecuteTime": {
     "end_time": "2024-08-25T21:50:24.174765200Z",
     "start_time": "2024-08-25T21:14:27.508800Z"
    }
   },
   "cell_type": "code",
   "source": [
    " def draw_circle(center, radius=1.0, color=carla.Color(255, 0, 0), life_time=5.0, thickness=0.1):\n",
    "    # Dibujar un círculo en un plano horizontal\n",
    "    steps = 36  # Número de segmentos del círculo (cuanto mayor, más suave será el círculo)\n",
    "    angle_step = 2 * math.pi / steps\n",
    "\n",
    "    for i in range(steps):\n",
    "        start_angle = i * angle_step\n",
    "        end_angle = (i + 1) * angle_step\n",
    "\n",
    "        start_location = carla.Location(\n",
    "            x=center.x + radius * math.cos(start_angle),\n",
    "            y=center.y + radius * math.sin(start_angle),\n",
    "            z=center.z\n",
    "        )\n",
    "\n",
    "        end_location = carla.Location(\n",
    "            x=center.x + radius * math.cos(end_angle),\n",
    "            y=center.y + radius * math.sin(end_angle),\n",
    "            z=center.z\n",
    "        )\n",
    "\n",
    "        world.debug.draw_line(start_location, end_location, thickness=thickness, color=color, life_time=life_time)\n",
    "\n",
    "def draw_circles():\n",
    "    radius = 1.0  # Radio del círculo\n",
    "    color = carla.Color(255, 0, 0)  # Color rojo para el círculo\n",
    "\n",
    "    for point in corners_points:\n",
    "        center = carla.Location(x=point[0], y=point[1], z=point[2])\n",
    "        draw_circle(center, radius, color, life_time=5.0, thickness=0.1)"
   ],
   "id": "843a377fad34f46e",
   "outputs": [],
   "execution_count": 6
  },
  {
   "metadata": {
    "ExecuteTime": {
     "end_time": "2024-08-25T21:50:24.191998700Z",
     "start_time": "2024-08-25T21:14:27.539972Z"
    }
   },
   "cell_type": "code",
   "source": [
    "def draw_distances(camera):\n",
    "    camera_transform = camera.get_transform()\n",
    "    camera_location = camera_transform.location\n",
    "    \n",
    "     # Color verde para las líneas\n",
    "    color = carla.Color(50, 255, 50)  # Verde\n",
    "    \n",
    "    for point in corners_points:\n",
    "        # Crea la ubicación del punto en el espacio\n",
    "        target_location = carla.Location(x=point[0], y=point[1], z=point[2])\n",
    "\n",
    "        # Dibuja una línea desde la cámara hasta el punto\n",
    "        world.debug.draw_line(camera_location, target_location, thickness=thickness, color=color, life_time=5.0)\n",
    "\n",
    "        # Calcula la distancia entre la cámara y el punto\n",
    "        distance = camera_location.distance(target_location)\n",
    "\n",
    "        # Muestra la distancia en el punto de destino\n",
    "        world.debug.draw_string(target_location, f'{distance:.2f} m', draw_shadow=False, color=color, life_time=5.0)\n",
    "    \n",
    "\n",
    "        "
   ],
   "id": "48d34e832e6e011a",
   "outputs": [],
   "execution_count": 7
  },
  {
   "metadata": {
    "ExecuteTime": {
     "end_time": "2024-08-25T21:50:24.193116100Z",
     "start_time": "2024-08-25T21:14:27.570704Z"
    }
   },
   "cell_type": "code",
   "source": [
    "world = client.get_world()\n",
    "car_tesla = world.get_blueprint_library().filter('*model3*')\n",
    "\n",
    "check_parking_point = carla.Transform(\n",
    "                carla.Location(x=20, y=-30, z=0.3),\n",
    "                carla.Rotation(yaw=180)\n",
    "            )\n",
    "\n",
    "vehicle_tesla = world.try_spawn_actor(car_tesla[0], check_parking_point)"
   ],
   "id": "ba31b2f219feb9c6",
   "outputs": [],
   "execution_count": 8
  },
  {
   "metadata": {
    "ExecuteTime": {
     "end_time": "2024-08-25T21:50:24.193613700Z",
     "start_time": "2024-08-25T21:14:27.616729Z"
    }
   },
   "cell_type": "code",
   "source": "camera = init_camera_vehicle( vehicle_tesla)",
   "id": "5e1288ac1c479334",
   "outputs": [],
   "execution_count": 9
  },
  {
   "metadata": {
    "ExecuteTime": {
     "end_time": "2024-08-25T21:50:24.194109500Z",
     "start_time": "2024-08-25T21:14:27.801497Z"
    }
   },
   "cell_type": "code",
   "source": [
    "# Dibuja los ejes de coordenadas\n",
    "try:\n",
    "    while True:\n",
    "        draw_coordinate_axes(camera)\n",
    "        draw_distances(camera)\n",
    "        draw_circles()\n",
    "        world.tick()\n",
    "        time.sleep(0.05)  # Ajusta el tiempo de espera según sea necesario\n",
    "except KeyboardInterrupt:\n",
    "    pass\n",
    "finally:\n",
    "    # Destruye la cámara y el vehículo al finalizar\n",
    "    camera.destroy()\n",
    "    vehicle_tesla.destroy()"
   ],
   "id": "365c2ba93d8092aa",
   "outputs": [
    {
     "ename": "RuntimeError",
     "evalue": "time-out of 15000ms while waiting for the simulator, make sure the simulator is ready and connected to localhost:2000",
     "output_type": "error",
     "traceback": [
      "\u001B[1;31m---------------------------------------------------------------------------\u001B[0m",
      "\u001B[1;31mRuntimeError\u001B[0m                              Traceback (most recent call last)",
      "\u001B[1;32m~\\AppData\\Local\\Temp\\ipykernel_7552\\4263994563.py\u001B[0m in \u001B[0;36m<module>\u001B[1;34m\u001B[0m\n\u001B[0;32m      5\u001B[0m         \u001B[0mdraw_distances\u001B[0m\u001B[1;33m(\u001B[0m\u001B[0mcamera\u001B[0m\u001B[1;33m)\u001B[0m\u001B[1;33m\u001B[0m\u001B[1;33m\u001B[0m\u001B[0m\n\u001B[0;32m      6\u001B[0m         \u001B[0mdraw_circles\u001B[0m\u001B[1;33m(\u001B[0m\u001B[1;33m)\u001B[0m\u001B[1;33m\u001B[0m\u001B[1;33m\u001B[0m\u001B[0m\n\u001B[1;32m----> 7\u001B[1;33m         \u001B[0mworld\u001B[0m\u001B[1;33m.\u001B[0m\u001B[0mtick\u001B[0m\u001B[1;33m(\u001B[0m\u001B[1;33m)\u001B[0m\u001B[1;33m\u001B[0m\u001B[1;33m\u001B[0m\u001B[0m\n\u001B[0m\u001B[0;32m      8\u001B[0m         \u001B[0mtime\u001B[0m\u001B[1;33m.\u001B[0m\u001B[0msleep\u001B[0m\u001B[1;33m(\u001B[0m\u001B[1;36m0.05\u001B[0m\u001B[1;33m)\u001B[0m  \u001B[1;31m# Ajusta el tiempo de espera según sea necesario\u001B[0m\u001B[1;33m\u001B[0m\u001B[1;33m\u001B[0m\u001B[0m\n\u001B[0;32m      9\u001B[0m \u001B[1;32mexcept\u001B[0m \u001B[0mKeyboardInterrupt\u001B[0m\u001B[1;33m:\u001B[0m\u001B[1;33m\u001B[0m\u001B[1;33m\u001B[0m\u001B[0m\n",
      "\u001B[1;31mRuntimeError\u001B[0m: time-out of 15000ms while waiting for the simulator, make sure the simulator is ready and connected to localhost:2000"
     ]
    }
   ],
   "execution_count": 10
  },
  {
   "metadata": {},
   "cell_type": "code",
   "source": [
    "camera.destroy()\n",
    "vehicle_tesla.destroy()"
   ],
   "id": "7377017a2b97b17c",
   "outputs": [],
   "execution_count": null
  },
  {
   "metadata": {},
   "cell_type": "code",
   "source": "",
   "id": "eaf70edab7b30bb9",
   "outputs": [],
   "execution_count": null
  },
  {
   "metadata": {},
   "cell_type": "code",
   "outputs": [],
   "execution_count": null,
   "source": "",
   "id": "ca3e420fc011f98a"
  }
 ],
 "metadata": {
  "kernelspec": {
   "display_name": "Python 3",
   "language": "python",
   "name": "python3"
  },
  "language_info": {
   "codemirror_mode": {
    "name": "ipython",
    "version": 2
   },
   "file_extension": ".py",
   "mimetype": "text/x-python",
   "name": "python",
   "nbconvert_exporter": "python",
   "pygments_lexer": "ipython2",
   "version": "2.7.6"
  }
 },
 "nbformat": 4,
 "nbformat_minor": 5
}
