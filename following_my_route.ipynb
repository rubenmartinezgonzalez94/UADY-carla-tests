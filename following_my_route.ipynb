{
 "cells": [
  {
   "cell_type": "markdown",
   "source": [
    "# Connect to the simulator"
   ],
   "metadata": {
    "collapsed": false
   },
   "id": "175a6c44c723faa9"
  },
  {
   "cell_type": "code",
   "execution_count": 1,
   "id": "initial_id",
   "metadata": {
    "collapsed": true,
    "ExecuteTime": {
     "end_time": "2024-04-08T08:06:45.482810Z",
     "start_time": "2024-04-08T08:06:45.346412Z"
    }
   },
   "outputs": [],
   "source": [
    "import numpy as np\n",
    "import sys\n",
    "\n",
    "sys.path.append('E:/UADY/CARLA/CARLA_Latest/WindowsNoEditor/PythonAPI/carla')\n",
    "\n",
    "import carla\n",
    "\n",
    "client = carla.Client('localhost', 2000)"
   ]
  },
  {
   "cell_type": "markdown",
   "source": [
    "# Get the world and spawn a vehicles"
   ],
   "metadata": {
    "collapsed": false
   },
   "id": "1cf94aa76acd2031"
  },
  {
   "cell_type": "code",
   "outputs": [],
   "source": [
    "world = client.get_world()\n",
    "spawn_points = world.get_map().get_spawn_points()\n",
    "\n",
    "vehicle_bp = world.get_blueprint_library().filter('*mini*')\n",
    "truck_bp = world.get_blueprint_library().filter('*firetruck*')\n",
    "mini_bp = world.get_blueprint_library().filter('*cooper_s*')\n",
    "\n",
    "start_point = spawn_points[0]\n",
    "vehicle = world.try_spawn_actor(vehicle_bp[0], start_point)"
   ],
   "metadata": {
    "collapsed": false,
    "ExecuteTime": {
     "end_time": "2024-04-08T08:06:47.919163Z",
     "start_time": "2024-04-08T08:06:46.619614Z"
    }
   },
   "id": "c6534fad489942",
   "execution_count": 2
  },
  {
   "cell_type": "markdown",
   "source": [
    "# Get the camera and start the live stream"
   ],
   "metadata": {
    "collapsed": false
   },
   "id": "116c4c1ce70a869a"
  },
  {
   "cell_type": "code",
   "outputs": [],
   "source": [
    "CAMERA_POS_Z = 3\n",
    "CAMERA_POS_X = -5\n",
    "\n",
    "camera_bp = world.get_blueprint_library().find('sensor.camera.rgb')\n",
    "camera_bp.set_attribute('image_size_x', '640')\n",
    "camera_bp.set_attribute('image_size_y', '360')\n",
    "camera_init_trans = carla.Transform(carla.Location(z=CAMERA_POS_Z, x=CAMERA_POS_X))\n",
    "#this creates the camera in the sim\n",
    "camera = world.spawn_actor(camera_bp, camera_init_trans, attach_to=vehicle)\n",
    "\n",
    "\n",
    "def camera_callback(image, data_dict):\n",
    "    data_dict['image'] = np.reshape(np.copy(image.raw_data), (image.height, image.width, 4))\n",
    "\n",
    "\n",
    "image_w = camera_bp.get_attribute('image_size_x').as_int()\n",
    "image_h = camera_bp.get_attribute('image_size_y').as_int()\n",
    "\n",
    "camera_data = {'image': np.zeros((image_h, image_w, 4))}\n",
    "# this actually opens a live stream from the camera\n",
    "camera.listen(lambda image: camera_callback(image, camera_data))"
   ],
   "metadata": {
    "collapsed": false,
    "ExecuteTime": {
     "end_time": "2024-04-08T08:06:49.524859Z",
     "start_time": "2024-04-08T08:06:49.491433Z"
    }
   },
   "id": "c3d6d9946db7ce70",
   "execution_count": 3
  },
  {
   "cell_type": "markdown",
   "source": [
    "# Maintain speed"
   ],
   "metadata": {
    "collapsed": false
   },
   "id": "2c0bca0d0221ce1"
  },
  {
   "cell_type": "code",
   "outputs": [],
   "source": [
    "PREFERRED_SPEED = 30\n",
    "SPEED_THRESHOLD = 2\n",
    "\n",
    "\n",
    "def maintain_speed(s):\n",
    "    if s >= PREFERRED_SPEED:\n",
    "        return 0\n",
    "    elif s < PREFERRED_SPEED - SPEED_THRESHOLD:\n",
    "        return 0.8  # think of it as % of \"full gas\"\n",
    "    else:\n",
    "        return 0.4"
   ],
   "metadata": {
    "collapsed": false,
    "ExecuteTime": {
     "end_time": "2024-04-08T08:06:51.299713Z",
     "start_time": "2024-04-08T08:06:51.293620Z"
    }
   },
   "id": "7951a2665175294d",
   "execution_count": 4
  },
  {
   "cell_type": "markdown",
   "source": [
    "# Control the vehicle in a straight line\n",
    "Muestra la imagen de la cámara con los datos de velocidad y posición del vehículo\n",
    "Corrige la aceleración para mantener la velocidad deseada"
   ],
   "metadata": {
    "collapsed": false
   },
   "id": "662631655cbeaab0"
  },
  {
   "cell_type": "code",
   "outputs": [],
   "source": [
    "import cv2\n",
    "import math"
   ],
   "metadata": {
    "collapsed": false,
    "ExecuteTime": {
     "end_time": "2024-04-08T08:06:54.469685Z",
     "start_time": "2024-04-08T08:06:54.426525Z"
    }
   },
   "id": "e2ca814cf6d91ab4",
   "execution_count": 5
  },
  {
   "cell_type": "code",
   "outputs": [],
   "source": [
    "org = (30, 50)\n",
    "font = cv2.FONT_HERSHEY_SIMPLEX\n",
    "fontScale = 0.5\n",
    "color = (255, 255, 255)\n",
    "thickness = 1\n",
    "lineType = cv2.LINE_AA"
   ],
   "metadata": {
    "collapsed": false,
    "ExecuteTime": {
     "end_time": "2024-04-08T08:06:55.200852Z",
     "start_time": "2024-04-08T08:06:55.194359Z"
    }
   },
   "id": "b6bc181fc91559cf",
   "execution_count": 6
  },
  {
   "cell_type": "code",
   "outputs": [],
   "source": [
    "cv2.namedWindow('RGB Camera', cv2.WINDOW_AUTOSIZE)\n",
    "cv2.imshow('RGB Camera', camera_data['image'])"
   ],
   "metadata": {
    "collapsed": false,
    "ExecuteTime": {
     "end_time": "2024-04-08T08:06:58.018011Z",
     "start_time": "2024-04-08T08:06:57.984629Z"
    }
   },
   "id": "9ef79a5a59a1e059",
   "execution_count": 7
  },
  {
   "cell_type": "code",
   "outputs": [],
   "source": [
    "while True:\n",
    "    world.tick()\n",
    "\n",
    "    if cv2.waitKey(1) == ord('q'):\n",
    "        quit = True\n",
    "        break\n",
    "\n",
    "    image = camera_data['image']\n",
    "    steering_angle = 0\n",
    "    v = vehicle.get_velocity()\n",
    "\n",
    "    #La velocidad se multiplica por 3.6 para convertir de m/s a km/h (1 m/s = 3.6 km/h)(60min*60seg)\n",
    "    #La velocidad es la hipotenusa de la velocidad en x y la velocidad en y\n",
    "    speed = round(3.6 * math.sqrt(v.x ** 2 + v.y ** 2 + v.z ** 2), 0)\n",
    "\n",
    "    vehicle_pos = vehicle.get_transform()\n",
    "\n",
    "    image = cv2.putText(\n",
    "        image,\n",
    "        'Speed: ' + str(int(speed)) + ' kmh' +\n",
    "        'Position: ' + str(vehicle_pos.location),\n",
    "        org,\n",
    "        font,\n",
    "        fontScale,\n",
    "        color,\n",
    "        thickness,\n",
    "        lineType\n",
    "    )\n",
    "\n",
    "    # determina la aceleración\n",
    "    estimated_throttle = maintain_speed(speed)\n",
    "    # aplica la aceleración y el ángulo de giro\n",
    "    vehicle.apply_control(\n",
    "        carla.VehicleControl(\n",
    "            throttle=estimated_throttle,\n",
    "            steer=steering_angle\n",
    "        )\n",
    "    )\n",
    "\n",
    "    cv2.imshow('RGB Camera', image)\n",
    "\n",
    "#clean up\n",
    "cv2.destroyAllWindows()\n",
    "camera.stop()\n",
    "for actor in world.get_actors().filter('*vehicle*'):\n",
    "    actor.destroy()\n",
    "for sensor in world.get_actors().filter('*sensor*'):\n",
    "    sensor.destroy()"
   ],
   "metadata": {
    "collapsed": false,
    "ExecuteTime": {
     "end_time": "2024-04-08T06:11:15.637563Z",
     "start_time": "2024-04-08T06:10:44.240222Z"
    }
   },
   "id": "24f0a4c162f5132e",
   "execution_count": 8
  },
  {
   "cell_type": "markdown",
   "source": [
    "# Draw a route"
   ],
   "metadata": {
    "collapsed": false
   },
   "id": "3f46ec127614d398"
  },
  {
   "cell_type": "code",
   "outputs": [],
   "source": [
    "from agents.navigation.global_route_planner import GlobalRoutePlanner"
   ],
   "metadata": {
    "collapsed": false,
    "ExecuteTime": {
     "end_time": "2024-04-08T08:07:16.733246Z",
     "start_time": "2024-04-08T08:07:16.502395Z"
    }
   },
   "id": "bf94b2d7934beabe",
   "execution_count": 8
  },
  {
   "cell_type": "code",
   "outputs": [],
   "source": [
    "\n",
    "point_a = start_point.location\n",
    "point_b = carla.Location(x=-640.644844, y=240.471010, z=0.600000)\n",
    "\n",
    "grp = GlobalRoutePlanner(world.get_map(), 1)\n",
    "# route = grp.trace_route(point_a, point_b)\n",
    "\n",
    "#calcula la ruta mas larga entre todas las posibles\n",
    "distance = 0\n",
    "for loc in spawn_points:\n",
    "    cur_route = grp.trace_route(point_a, loc.location)\n",
    "    if len(cur_route)>distance:\n",
    "        distance = len(cur_route)\n",
    "        route = cur_route\n",
    "    \n",
    "#draw the route in sim window - Note it does not get into the camera of the car\n",
    "for waypoint in route:\n",
    "    world.debug.draw_string(\n",
    "        waypoint[0].transform.location,\n",
    "        '^',\n",
    "        draw_shadow=False,\n",
    "        color=carla.Color(r=0, g=0, b=255),\n",
    "        life_time=600.0,\n",
    "        persistent_lines=True\n",
    "    )"
   ],
   "metadata": {
    "collapsed": false,
    "ExecuteTime": {
     "end_time": "2024-04-08T08:07:19.435443Z",
     "start_time": "2024-04-08T08:07:18.075654Z"
    }
   },
   "id": "d4000dd8fc94a9f3",
   "execution_count": 9
  },
  {
   "cell_type": "code",
   "outputs": [],
   "source": [
    "# draw some reference points\n",
    "for reference in [25, 50, 75, 100, 125, 150, 175, 200]:\n",
    "    world.debug.draw_string(\n",
    "        route[reference][0].transform.location,\n",
    "        str(reference),\n",
    "        draw_shadow=False,\n",
    "        color=carla.Color(r=0, g=0, b=255),\n",
    "        life_time=600.0,\n",
    "        persistent_lines=True\n",
    "    )"
   ],
   "metadata": {
    "collapsed": false,
    "ExecuteTime": {
     "end_time": "2024-04-08T08:07:22.943590Z",
     "start_time": "2024-04-08T08:07:22.923426Z"
    }
   },
   "id": "b63334983834d22",
   "execution_count": 10
  },
  {
   "cell_type": "markdown",
   "source": [
    "# calculate the angle to next waypoint"
   ],
   "metadata": {
    "collapsed": false
   },
   "id": "3bb4cb2728bcd3e6"
  },
  {
   "cell_type": "code",
   "outputs": [],
   "source": [
    "import math"
   ],
   "metadata": {
    "collapsed": false,
    "ExecuteTime": {
     "end_time": "2024-04-08T08:07:31.222716Z",
     "start_time": "2024-04-08T08:07:31.210395Z"
    }
   },
   "id": "6d3afa6964af9882",
   "execution_count": 11
  },
  {
   "cell_type": "code",
   "outputs": [
    {
     "name": "stdout",
     "output_type": "stream",
     "text": [
      "angle to wp:  -39.73580371095364\n"
     ]
    }
   ],
   "source": [
    "# ejemplo de como calcular el angulo entre el vehiculo y el siguiente waypoint\n",
    "\n",
    "car_x = vehicle.get_transform().location.x\n",
    "car_y = vehicle.get_transform().location.y\n",
    "\n",
    "wp_x = route[25][0].transform.location.x\n",
    "wp_y = route[25][0].transform.location.y\n",
    "\n",
    "angle = math.degrees(math.atan((wp_y - car_y) / (wp_x - car_x)))\n",
    "print('angle to wp: ', angle)"
   ],
   "metadata": {
    "collapsed": false,
    "ExecuteTime": {
     "end_time": "2024-04-08T08:07:31.612435Z",
     "start_time": "2024-04-08T08:07:31.594418Z"
    }
   },
   "id": "992cf0a0a584a454",
   "execution_count": 12
  },
  {
   "cell_type": "code",
   "outputs": [],
   "source": [
    "#1. Actual direction/angle of the car\n",
    "#2. Direction to next waypoint\n",
    "def angle_between(v1, v2):\n",
    "    return math.degrees(np.arctan2(v1[1], v1[0]) - np.arctan2(v2[1], v2[0]))"
   ],
   "metadata": {
    "collapsed": false,
    "ExecuteTime": {
     "end_time": "2024-04-08T08:07:32.142762Z",
     "start_time": "2024-04-08T08:07:32.131398Z"
    }
   },
   "id": "10881a8f9ee33573",
   "execution_count": 13
  },
  {
   "cell_type": "code",
   "outputs": [
    {
     "name": "stdout",
     "output_type": "stream",
     "text": [
      "our angle to WP 25:  -39.896921411360864\n",
      "-90.0\n",
      "0.0\n",
      "-180.0\n"
     ]
    }
   ],
   "source": [
    "print(\n",
    "    'our angle to WP 25: ',\n",
    "    angle_between((0.769, -0.639), (0.999, 0.003))\n",
    ")\n",
    "#examples\n",
    "print(angle_between((1, 0), (0, 1)))  # between east and north\n",
    "print(angle_between((1, 0), (1, 0)))  # between same direction\n",
    "print(angle_between((1, 0), (-1, 0)))  # between east and west"
   ],
   "metadata": {
    "collapsed": false,
    "ExecuteTime": {
     "end_time": "2024-04-08T08:07:33.051428Z",
     "start_time": "2024-04-08T08:07:33.035081Z"
    }
   },
   "id": "792099430a467a99",
   "execution_count": 14
  },
  {
   "cell_type": "code",
   "outputs": [],
   "source": [
    "def get_angle(car, wp):\n",
    "    vehicle_pos = car.get_transform()\n",
    "    car_x = vehicle_pos.location.x\n",
    "    car_y = vehicle_pos.location.y\n",
    "    wp_x = wp.transform.location.x\n",
    "    wp_y = wp.transform.location.y\n",
    "\n",
    "    # vector to waypoint\n",
    "    x = (wp_x - car_x) / ((wp_y - car_y) ** 2 + (wp_x - car_x) ** 2) ** 0.5\n",
    "    y = (wp_y - car_y) / ((wp_y - car_y) ** 2 + (wp_x - car_x) ** 2) ** 0.5\n",
    "\n",
    "    #car vector\n",
    "    car_vector = vehicle_pos.get_forward_vector()\n",
    "    degrees = angle_between((x, y), (car_vector.x, car_vector.y))\n",
    "\n",
    "    return degrees"
   ],
   "metadata": {
    "collapsed": false,
    "ExecuteTime": {
     "end_time": "2024-04-08T08:07:34.002876Z",
     "start_time": "2024-04-08T08:07:33.992668Z"
    }
   },
   "id": "ae900af49c6924a",
   "execution_count": 15
  },
  {
   "cell_type": "code",
   "outputs": [
    {
     "data": {
      "text/plain": "-99.62705749516019"
     },
     "execution_count": 16,
     "metadata": {},
     "output_type": "execute_result"
    }
   ],
   "source": [
    "# little test\n",
    "get_angle(vehicle, route[125][0])"
   ],
   "metadata": {
    "collapsed": false,
    "ExecuteTime": {
     "end_time": "2024-04-08T08:07:35.156434Z",
     "start_time": "2024-04-08T08:07:35.137154Z"
    }
   },
   "id": "57eda66fe2c83bf2",
   "execution_count": 16
  },
  {
   "cell_type": "markdown",
   "source": [
    "# Control the vehicle in a route with angle correction"
   ],
   "metadata": {
    "collapsed": false
   },
   "id": "89543bbd0d15ecee"
  },
  {
   "cell_type": "code",
   "outputs": [
    {
     "ename": "KeyboardInterrupt",
     "evalue": "",
     "output_type": "error",
     "traceback": [
      "\u001B[1;31m---------------------------------------------------------------------------\u001B[0m",
      "\u001B[1;31mRuntimeError\u001B[0m                              Traceback (most recent call last)",
      "    \u001B[1;31m[... skipping hidden 1 frame]\u001B[0m\n",
      "\u001B[1;32m~\\AppData\\Local\\Temp\\ipykernel_7736\\4173268622.py\u001B[0m in \u001B[0;36m<module>\u001B[1;34m\u001B[0m\n\u001B[0;32m      8\u001B[0m \u001B[1;32mwhile\u001B[0m \u001B[0mcurr_wp\u001B[0m \u001B[1;33m<\u001B[0m \u001B[0mlen\u001B[0m\u001B[1;33m(\u001B[0m\u001B[0mroute\u001B[0m\u001B[1;33m)\u001B[0m \u001B[1;33m-\u001B[0m \u001B[1;36m1\u001B[0m\u001B[1;33m:\u001B[0m\u001B[1;33m\u001B[0m\u001B[1;33m\u001B[0m\u001B[0m\n\u001B[1;32m----> 9\u001B[1;33m     \u001B[0mworld\u001B[0m\u001B[1;33m.\u001B[0m\u001B[0mtick\u001B[0m\u001B[1;33m(\u001B[0m\u001B[1;33m)\u001B[0m\u001B[1;33m\u001B[0m\u001B[1;33m\u001B[0m\u001B[0m\n\u001B[0m\u001B[0;32m     10\u001B[0m \u001B[1;33m\u001B[0m\u001B[0m\n",
      "\u001B[1;31mRuntimeError\u001B[0m: time-out of 5000ms while waiting for the simulator, make sure the simulator is ready and connected to localhost:2000",
      "\nDuring handling of the above exception, another exception occurred:\n",
      "\u001B[1;31mKeyboardInterrupt\u001B[0m                         Traceback (most recent call last)",
      "\u001B[1;31mKeyboardInterrupt\u001B[0m: "
     ]
    }
   ],
   "source": [
    "cv2.namedWindow('RGB Camera', cv2.WINDOW_AUTOSIZE)\n",
    "cv2.imshow('RGB Camera', camera_data['image'])\n",
    "\n",
    "PREFERRED_SPEED = 90\n",
    "SPEED_THRESHOLD = 2 \n",
    "MAX_STEER_DEGREES = 40\n",
    "curr_wp = 5\n",
    "while curr_wp < len(route) - 1:\n",
    "    world.tick()\n",
    "\n",
    "    if cv2.waitKey(1) == ord('q'):\n",
    "        vehicle.apply_control(carla.VehicleControl(throttle=0, steer=0, brake=1))\n",
    "        break\n",
    "\n",
    "    image = camera_data['image']\n",
    "\n",
    "    # move to next wp if we are too close\n",
    "    while (curr_wp < len(route) and\n",
    "           vehicle.get_transform().location.distance(route[curr_wp][0].transform.location) < 5):\n",
    "        curr_wp += 1\n",
    "\n",
    "    predicted_angle = get_angle(vehicle, route[curr_wp][0])\n",
    "    v = vehicle.get_velocity()\n",
    "    speed = round(3.6 * math.sqrt(v.x ** 2 + v.y ** 2 + v.z ** 2), 0)\n",
    "    \n",
    "    image = cv2.putText(\n",
    "        image,\n",
    "        'Steering angle: ' + str(round(predicted_angle, 3))+\n",
    "        'Speed: ' + str(int(speed))+\n",
    "        'Next wp: '+str(curr_wp),\n",
    "        org, font, fontScale, color, thickness, lineType\n",
    "    )\n",
    "    \n",
    "    estimated_throttle = maintain_speed(speed)\n",
    "    \n",
    "    if predicted_angle<-300:\n",
    "        predicted_angle = predicted_angle+360\n",
    "    elif predicted_angle > 300:\n",
    "        predicted_angle = predicted_angle -360\n",
    "    steer_input = predicted_angle\n",
    "\n",
    "    if predicted_angle<-MAX_STEER_DEGREES:\n",
    "        steer_input = -MAX_STEER_DEGREES\n",
    "    elif predicted_angle>MAX_STEER_DEGREES:\n",
    "        steer_input = MAX_STEER_DEGREES\n",
    "        \n",
    "    # conversion from degrees to -1 to +1 input for apply control function\n",
    "    steer_input = steer_input/75\n",
    "    \n",
    "    vehicle.apply_control(\n",
    "        carla.VehicleControl(throttle=estimated_throttle, steer=steer_input)\n",
    "    )\n",
    "    cv2.imshow('RGB Camera',image)\n",
    "    \n",
    "#clean up\n",
    "cv2.destroyAllWindows()\n",
    "camera.stop()\n",
    "vehicle = world.try_spawn_actor(vehicle_bp[0], start_point)\n",
    "for sensor in world.get_actors().filter('*sensor*'):\n",
    "    sensor.destroy()\n",
    "for actor in world.get_actors().filter('*vehicle*'):\n",
    "    actor.destroy()"
   ],
   "metadata": {
    "collapsed": false,
    "ExecuteTime": {
     "end_time": "2024-04-08T08:09:23.034860Z",
     "start_time": "2024-04-08T08:08:40.300967Z"
    }
   },
   "id": "b4d1fbe44be163a2",
   "execution_count": 18
  },
  {
   "cell_type": "code",
   "outputs": [],
   "source": [
    "# utility script of destruction\n",
    "for actor in world.get_actors().filter('*vehicle*'):\n",
    "    actor.destroy()\n",
    "for sensor in world.get_actors().filter('*sensor*'):\n",
    "    sensor.destroy()\n",
    "vehicle = world.try_spawn_actor(vehicle_bp[0], start_point)"
   ],
   "metadata": {
    "collapsed": false,
    "ExecuteTime": {
     "end_time": "2024-04-08T08:03:15.684623Z",
     "start_time": "2024-04-08T08:03:15.666624Z"
    }
   },
   "id": "afe358d354e8c001",
   "execution_count": 40
  },
  {
   "cell_type": "code",
   "outputs": [],
   "source": [],
   "metadata": {
    "collapsed": false
   },
   "id": "79f5946d2b9c5e5e"
  }
 ],
 "metadata": {
  "kernelspec": {
   "display_name": "Python 3",
   "language": "python",
   "name": "python3"
  },
  "language_info": {
   "codemirror_mode": {
    "name": "ipython",
    "version": 2
   },
   "file_extension": ".py",
   "mimetype": "text/x-python",
   "name": "python",
   "nbconvert_exporter": "python",
   "pygments_lexer": "ipython2",
   "version": "2.7.6"
  }
 },
 "nbformat": 4,
 "nbformat_minor": 5
}
